{
 "cells": [
  {
   "cell_type": "markdown",
   "metadata": {
    "id": "LBX9kCJ4wDPb"
   },
   "source": [
    "# Constructing an Index-Based Deep Lake Vector Store for Semantic Search with LlamaIndex and OpenAI\n",
    "<br>\n",
    "\n",
    "A Practical Guide to Building a Semantic Search Engine with Deep Lake, LlamaIndex, and OpenAI:\n",
    "\n",
    "*   Installing the Environment\n",
    "*   Creating and populating the Vector Store &   dataset\n",
    "*   Getting started with  index-based semantic search\n",
    "\n",
    "\n"
   ]
  },
  {
   "cell_type": "markdown",
   "metadata": {
    "id": "UJ-fctVvf3wA"
   },
   "source": [
    "# Installing the environment"
   ]
  },
  {
   "cell_type": "code",
   "execution_count": null,
   "metadata": {
    "colab": {
     "base_uri": "https://localhost:8080/"
    },
    "id": "pu-obY57BKtV",
    "outputId": "f0995511-4f23-470a-b912-ddb573e9c6fc"
   },
   "outputs": [
    {
     "name": "stdout",
     "output_type": "stream",
     "text": [
      "Mounted at /content/drive\n"
     ]
    }
   ],
   "source": [
    "#Google Drive option to store API Keys\n",
    "#Store you key in a file and read it(you can type it directly in the notebook but it will be visible for somebody next to you)\n",
    "from google.colab import drive\n",
    "drive.mount('/content/drive')"
   ]
  },
  {
   "cell_type": "markdown",
   "metadata": {
    "id": "3EtKelOLcbeN"
   },
   "source": [
    "*First run the following cells and restart Google Colab session if prompted. Then run the notebook again cell by cell to explore the code.*"
   ]
  },
  {
   "cell_type": "code",
   "execution_count": null,
   "metadata": {
    "colab": {
     "base_uri": "https://localhost:8080/",
     "height": 1000
    },
    "collapsed": true,
    "id": "N9nUXvMFwDPb",
    "outputId": "d50a6288-4ee8-4212-88bc-8fa1c1b829b1"
   },
   "outputs": [
    {
     "name": "stdout",
     "output_type": "stream",
     "text": [
      "Collecting llama-index-vector-stores-deeplake==0.1.6\n",
      "  Downloading llama_index_vector_stores_deeplake-0.1.6-py3-none-any.whl.metadata (709 bytes)\n",
      "Collecting deeplake>=3.9.12 (from llama-index-vector-stores-deeplake==0.1.6)\n",
      "  Downloading deeplake-3.9.18.tar.gz (608 kB)\n",
      "\u001b[2K     \u001b[90m━━━━━━━━━━━━━━━━━━━━━━━━━━━━━━━━━━━━━━━━\u001b[0m \u001b[32m608.9/608.9 kB\u001b[0m \u001b[31m7.3 MB/s\u001b[0m eta \u001b[36m0:00:00\u001b[0m\n",
      "\u001b[?25h  Installing build dependencies ... \u001b[?25l\u001b[?25hdone\n",
      "  Getting requirements to build wheel ... \u001b[?25l\u001b[?25hdone\n",
      "  Preparing metadata (pyproject.toml) ... \u001b[?25l\u001b[?25hdone\n",
      "Collecting llama-index-core<0.11.0,>=0.10.1 (from llama-index-vector-stores-deeplake==0.1.6)\n",
      "  Downloading llama_index_core-0.10.63-py3-none-any.whl.metadata (2.4 kB)\n",
      "Requirement already satisfied: numpy<2.0 in /usr/local/lib/python3.10/dist-packages (from deeplake>=3.9.12->llama-index-vector-stores-deeplake==0.1.6) (1.26.4)\n",
      "Collecting pillow~=10.2.0 (from deeplake>=3.9.12->llama-index-vector-stores-deeplake==0.1.6)\n",
      "  Downloading pillow-10.2.0-cp310-cp310-manylinux_2_28_x86_64.whl.metadata (9.7 kB)\n",
      "Collecting boto3 (from deeplake>=3.9.12->llama-index-vector-stores-deeplake==0.1.6)\n",
      "  Downloading boto3-1.34.157-py3-none-any.whl.metadata (6.6 kB)\n",
      "Requirement already satisfied: click in /usr/local/lib/python3.10/dist-packages (from deeplake>=3.9.12->llama-index-vector-stores-deeplake==0.1.6) (8.1.7)\n",
      "Collecting pathos (from deeplake>=3.9.12->llama-index-vector-stores-deeplake==0.1.6)\n",
      "  Downloading pathos-0.3.2-py3-none-any.whl.metadata (11 kB)\n",
      "Collecting humbug>=0.3.1 (from deeplake>=3.9.12->llama-index-vector-stores-deeplake==0.1.6)\n",
      "  Downloading humbug-0.3.2-py3-none-any.whl.metadata (6.8 kB)\n",
      "Requirement already satisfied: tqdm in /usr/local/lib/python3.10/dist-packages (from deeplake>=3.9.12->llama-index-vector-stores-deeplake==0.1.6) (4.66.5)\n",
      "Collecting lz4 (from deeplake>=3.9.12->llama-index-vector-stores-deeplake==0.1.6)\n",
      "  Downloading lz4-4.3.3-cp310-cp310-manylinux_2_17_x86_64.manylinux2014_x86_64.whl.metadata (3.7 kB)\n",
      "Requirement already satisfied: pyjwt in /usr/local/lib/python3.10/dist-packages (from deeplake>=3.9.12->llama-index-vector-stores-deeplake==0.1.6) (2.9.0)\n",
      "Requirement already satisfied: pydantic in /usr/local/lib/python3.10/dist-packages (from deeplake>=3.9.12->llama-index-vector-stores-deeplake==0.1.6) (2.8.2)\n",
      "Collecting libdeeplake==0.0.138 (from deeplake>=3.9.12->llama-index-vector-stores-deeplake==0.1.6)\n",
      "  Downloading libdeeplake-0.0.138-cp310-cp310-manylinux2014_x86_64.whl.metadata (352 bytes)\n",
      "Collecting aioboto3>=10.4.0 (from deeplake>=3.9.12->llama-index-vector-stores-deeplake==0.1.6)\n",
      "  Downloading aioboto3-13.1.1-py3-none-any.whl.metadata (8.8 kB)\n",
      "Requirement already satisfied: nest-asyncio in /usr/local/lib/python3.10/dist-packages (from deeplake>=3.9.12->llama-index-vector-stores-deeplake==0.1.6) (1.6.0)\n",
      "Collecting dill (from libdeeplake==0.0.138->deeplake>=3.9.12->llama-index-vector-stores-deeplake==0.1.6)\n",
      "  Downloading dill-0.3.8-py3-none-any.whl.metadata (10 kB)\n",
      "Requirement already satisfied: PyYAML>=6.0.1 in /usr/local/lib/python3.10/dist-packages (from llama-index-core<0.11.0,>=0.10.1->llama-index-vector-stores-deeplake==0.1.6) (6.0.2)\n",
      "Requirement already satisfied: SQLAlchemy>=1.4.49 in /usr/local/lib/python3.10/dist-packages (from SQLAlchemy[asyncio]>=1.4.49->llama-index-core<0.11.0,>=0.10.1->llama-index-vector-stores-deeplake==0.1.6) (2.0.32)\n",
      "Requirement already satisfied: aiohttp<4.0.0,>=3.8.6 in /usr/local/lib/python3.10/dist-packages (from llama-index-core<0.11.0,>=0.10.1->llama-index-vector-stores-deeplake==0.1.6) (3.10.1)\n",
      "Collecting dataclasses-json (from llama-index-core<0.11.0,>=0.10.1->llama-index-vector-stores-deeplake==0.1.6)\n",
      "  Downloading dataclasses_json-0.6.7-py3-none-any.whl.metadata (25 kB)\n",
      "Collecting deprecated>=1.2.9.3 (from llama-index-core<0.11.0,>=0.10.1->llama-index-vector-stores-deeplake==0.1.6)\n",
      "  Downloading Deprecated-1.2.14-py2.py3-none-any.whl.metadata (5.4 kB)\n",
      "Collecting dirtyjson<2.0.0,>=1.0.8 (from llama-index-core<0.11.0,>=0.10.1->llama-index-vector-stores-deeplake==0.1.6)\n",
      "  Downloading dirtyjson-1.0.8-py3-none-any.whl.metadata (11 kB)\n",
      "Requirement already satisfied: fsspec>=2023.5.0 in /usr/local/lib/python3.10/dist-packages (from llama-index-core<0.11.0,>=0.10.1->llama-index-vector-stores-deeplake==0.1.6) (2024.6.1)\n",
      "Collecting httpx (from llama-index-core<0.11.0,>=0.10.1->llama-index-vector-stores-deeplake==0.1.6)\n",
      "  Downloading httpx-0.27.0-py3-none-any.whl.metadata (7.2 kB)\n",
      "Requirement already satisfied: networkx>=3.0 in /usr/local/lib/python3.10/dist-packages (from llama-index-core<0.11.0,>=0.10.1->llama-index-vector-stores-deeplake==0.1.6) (3.3)\n",
      "Requirement already satisfied: nltk<4.0.0,>=3.8.1 in /usr/local/lib/python3.10/dist-packages (from llama-index-core<0.11.0,>=0.10.1->llama-index-vector-stores-deeplake==0.1.6) (3.8.1)\n",
      "Collecting openai>=1.1.0 (from llama-index-core<0.11.0,>=0.10.1->llama-index-vector-stores-deeplake==0.1.6)\n",
      "  Downloading openai-1.40.2-py3-none-any.whl.metadata (22 kB)\n",
      "Requirement already satisfied: pandas in /usr/local/lib/python3.10/dist-packages (from llama-index-core<0.11.0,>=0.10.1->llama-index-vector-stores-deeplake==0.1.6) (2.1.4)\n",
      "Requirement already satisfied: requests>=2.31.0 in /usr/local/lib/python3.10/dist-packages (from llama-index-core<0.11.0,>=0.10.1->llama-index-vector-stores-deeplake==0.1.6) (2.32.3)\n",
      "Collecting tenacity!=8.4.0,<9.0.0,>=8.2.0 (from llama-index-core<0.11.0,>=0.10.1->llama-index-vector-stores-deeplake==0.1.6)\n",
      "  Downloading tenacity-8.5.0-py3-none-any.whl.metadata (1.2 kB)\n",
      "Collecting tiktoken>=0.3.3 (from llama-index-core<0.11.0,>=0.10.1->llama-index-vector-stores-deeplake==0.1.6)\n",
      "  Downloading tiktoken-0.7.0-cp310-cp310-manylinux_2_17_x86_64.manylinux2014_x86_64.whl.metadata (6.6 kB)\n",
      "Requirement already satisfied: typing-extensions>=4.5.0 in /usr/local/lib/python3.10/dist-packages (from llama-index-core<0.11.0,>=0.10.1->llama-index-vector-stores-deeplake==0.1.6) (4.12.2)\n",
      "Collecting typing-inspect>=0.8.0 (from llama-index-core<0.11.0,>=0.10.1->llama-index-vector-stores-deeplake==0.1.6)\n",
      "  Downloading typing_inspect-0.9.0-py3-none-any.whl.metadata (1.5 kB)\n",
      "Requirement already satisfied: wrapt in /usr/local/lib/python3.10/dist-packages (from llama-index-core<0.11.0,>=0.10.1->llama-index-vector-stores-deeplake==0.1.6) (1.16.0)\n",
      "Collecting aiobotocore==2.13.1 (from aiobotocore[boto3]==2.13.1->aioboto3>=10.4.0->deeplake>=3.9.12->llama-index-vector-stores-deeplake==0.1.6)\n",
      "  Downloading aiobotocore-2.13.1-py3-none-any.whl.metadata (22 kB)\n",
      "Collecting aiofiles>=23.2.1 (from aioboto3>=10.4.0->deeplake>=3.9.12->llama-index-vector-stores-deeplake==0.1.6)\n",
      "  Downloading aiofiles-24.1.0-py3-none-any.whl.metadata (10 kB)\n",
      "Collecting botocore<1.34.132,>=1.34.70 (from aiobotocore==2.13.1->aiobotocore[boto3]==2.13.1->aioboto3>=10.4.0->deeplake>=3.9.12->llama-index-vector-stores-deeplake==0.1.6)\n",
      "  Downloading botocore-1.34.131-py3-none-any.whl.metadata (5.7 kB)\n",
      "Collecting aioitertools<1.0.0,>=0.5.1 (from aiobotocore==2.13.1->aiobotocore[boto3]==2.13.1->aioboto3>=10.4.0->deeplake>=3.9.12->llama-index-vector-stores-deeplake==0.1.6)\n",
      "  Downloading aioitertools-0.11.0-py3-none-any.whl.metadata (3.3 kB)\n",
      "Collecting boto3 (from deeplake>=3.9.12->llama-index-vector-stores-deeplake==0.1.6)\n",
      "  Downloading boto3-1.34.131-py3-none-any.whl.metadata (6.6 kB)\n",
      "Requirement already satisfied: aiohappyeyeballs>=2.3.0 in /usr/local/lib/python3.10/dist-packages (from aiohttp<4.0.0,>=3.8.6->llama-index-core<0.11.0,>=0.10.1->llama-index-vector-stores-deeplake==0.1.6) (2.3.4)\n",
      "Requirement already satisfied: aiosignal>=1.1.2 in /usr/local/lib/python3.10/dist-packages (from aiohttp<4.0.0,>=3.8.6->llama-index-core<0.11.0,>=0.10.1->llama-index-vector-stores-deeplake==0.1.6) (1.3.1)\n",
      "Requirement already satisfied: attrs>=17.3.0 in /usr/local/lib/python3.10/dist-packages (from aiohttp<4.0.0,>=3.8.6->llama-index-core<0.11.0,>=0.10.1->llama-index-vector-stores-deeplake==0.1.6) (24.2.0)\n",
      "Requirement already satisfied: frozenlist>=1.1.1 in /usr/local/lib/python3.10/dist-packages (from aiohttp<4.0.0,>=3.8.6->llama-index-core<0.11.0,>=0.10.1->llama-index-vector-stores-deeplake==0.1.6) (1.4.1)\n",
      "Requirement already satisfied: multidict<7.0,>=4.5 in /usr/local/lib/python3.10/dist-packages (from aiohttp<4.0.0,>=3.8.6->llama-index-core<0.11.0,>=0.10.1->llama-index-vector-stores-deeplake==0.1.6) (6.0.5)\n",
      "Requirement already satisfied: yarl<2.0,>=1.0 in /usr/local/lib/python3.10/dist-packages (from aiohttp<4.0.0,>=3.8.6->llama-index-core<0.11.0,>=0.10.1->llama-index-vector-stores-deeplake==0.1.6) (1.9.4)\n",
      "Requirement already satisfied: async-timeout<5.0,>=4.0 in /usr/local/lib/python3.10/dist-packages (from aiohttp<4.0.0,>=3.8.6->llama-index-core<0.11.0,>=0.10.1->llama-index-vector-stores-deeplake==0.1.6) (4.0.3)\n",
      "Collecting jmespath<2.0.0,>=0.7.1 (from boto3->deeplake>=3.9.12->llama-index-vector-stores-deeplake==0.1.6)\n",
      "  Downloading jmespath-1.0.1-py3-none-any.whl.metadata (7.6 kB)\n",
      "Collecting s3transfer<0.11.0,>=0.10.0 (from boto3->deeplake>=3.9.12->llama-index-vector-stores-deeplake==0.1.6)\n",
      "  Downloading s3transfer-0.10.2-py3-none-any.whl.metadata (1.7 kB)\n",
      "Requirement already satisfied: joblib in /usr/local/lib/python3.10/dist-packages (from nltk<4.0.0,>=3.8.1->llama-index-core<0.11.0,>=0.10.1->llama-index-vector-stores-deeplake==0.1.6) (1.4.2)\n",
      "Requirement already satisfied: regex>=2021.8.3 in /usr/local/lib/python3.10/dist-packages (from nltk<4.0.0,>=3.8.1->llama-index-core<0.11.0,>=0.10.1->llama-index-vector-stores-deeplake==0.1.6) (2024.5.15)\n",
      "Requirement already satisfied: anyio<5,>=3.5.0 in /usr/local/lib/python3.10/dist-packages (from openai>=1.1.0->llama-index-core<0.11.0,>=0.10.1->llama-index-vector-stores-deeplake==0.1.6) (3.7.1)\n",
      "Requirement already satisfied: distro<2,>=1.7.0 in /usr/lib/python3/dist-packages (from openai>=1.1.0->llama-index-core<0.11.0,>=0.10.1->llama-index-vector-stores-deeplake==0.1.6) (1.7.0)\n",
      "Collecting jiter<1,>=0.4.0 (from openai>=1.1.0->llama-index-core<0.11.0,>=0.10.1->llama-index-vector-stores-deeplake==0.1.6)\n",
      "  Downloading jiter-0.5.0-cp310-cp310-manylinux_2_17_x86_64.manylinux2014_x86_64.whl.metadata (3.6 kB)\n",
      "Requirement already satisfied: sniffio in /usr/local/lib/python3.10/dist-packages (from openai>=1.1.0->llama-index-core<0.11.0,>=0.10.1->llama-index-vector-stores-deeplake==0.1.6) (1.3.1)\n",
      "Requirement already satisfied: certifi in /usr/local/lib/python3.10/dist-packages (from httpx->llama-index-core<0.11.0,>=0.10.1->llama-index-vector-stores-deeplake==0.1.6) (2024.7.4)\n",
      "Collecting httpcore==1.* (from httpx->llama-index-core<0.11.0,>=0.10.1->llama-index-vector-stores-deeplake==0.1.6)\n",
      "  Downloading httpcore-1.0.5-py3-none-any.whl.metadata (20 kB)\n",
      "Requirement already satisfied: idna in /usr/local/lib/python3.10/dist-packages (from httpx->llama-index-core<0.11.0,>=0.10.1->llama-index-vector-stores-deeplake==0.1.6) (3.7)\n",
      "Collecting h11<0.15,>=0.13 (from httpcore==1.*->httpx->llama-index-core<0.11.0,>=0.10.1->llama-index-vector-stores-deeplake==0.1.6)\n",
      "  Downloading h11-0.14.0-py3-none-any.whl.metadata (8.2 kB)\n",
      "Requirement already satisfied: annotated-types>=0.4.0 in /usr/local/lib/python3.10/dist-packages (from pydantic->deeplake>=3.9.12->llama-index-vector-stores-deeplake==0.1.6) (0.7.0)\n",
      "Requirement already satisfied: pydantic-core==2.20.1 in /usr/local/lib/python3.10/dist-packages (from pydantic->deeplake>=3.9.12->llama-index-vector-stores-deeplake==0.1.6) (2.20.1)\n",
      "Requirement already satisfied: charset-normalizer<4,>=2 in /usr/local/lib/python3.10/dist-packages (from requests>=2.31.0->llama-index-core<0.11.0,>=0.10.1->llama-index-vector-stores-deeplake==0.1.6) (3.3.2)\n",
      "Requirement already satisfied: urllib3<3,>=1.21.1 in /usr/local/lib/python3.10/dist-packages (from requests>=2.31.0->llama-index-core<0.11.0,>=0.10.1->llama-index-vector-stores-deeplake==0.1.6) (2.0.7)\n",
      "Requirement already satisfied: greenlet!=0.4.17 in /usr/local/lib/python3.10/dist-packages (from SQLAlchemy>=1.4.49->SQLAlchemy[asyncio]>=1.4.49->llama-index-core<0.11.0,>=0.10.1->llama-index-vector-stores-deeplake==0.1.6) (3.0.3)\n",
      "Collecting mypy-extensions>=0.3.0 (from typing-inspect>=0.8.0->llama-index-core<0.11.0,>=0.10.1->llama-index-vector-stores-deeplake==0.1.6)\n",
      "  Downloading mypy_extensions-1.0.0-py3-none-any.whl.metadata (1.1 kB)\n",
      "Collecting marshmallow<4.0.0,>=3.18.0 (from dataclasses-json->llama-index-core<0.11.0,>=0.10.1->llama-index-vector-stores-deeplake==0.1.6)\n",
      "  Downloading marshmallow-3.21.3-py3-none-any.whl.metadata (7.1 kB)\n",
      "Requirement already satisfied: python-dateutil>=2.8.2 in /usr/local/lib/python3.10/dist-packages (from pandas->llama-index-core<0.11.0,>=0.10.1->llama-index-vector-stores-deeplake==0.1.6) (2.8.2)\n",
      "Requirement already satisfied: pytz>=2020.1 in /usr/local/lib/python3.10/dist-packages (from pandas->llama-index-core<0.11.0,>=0.10.1->llama-index-vector-stores-deeplake==0.1.6) (2024.1)\n",
      "Requirement already satisfied: tzdata>=2022.1 in /usr/local/lib/python3.10/dist-packages (from pandas->llama-index-core<0.11.0,>=0.10.1->llama-index-vector-stores-deeplake==0.1.6) (2024.1)\n",
      "Collecting ppft>=1.7.6.8 (from pathos->deeplake>=3.9.12->llama-index-vector-stores-deeplake==0.1.6)\n",
      "  Downloading ppft-1.7.6.8-py3-none-any.whl.metadata (12 kB)\n",
      "Collecting pox>=0.3.4 (from pathos->deeplake>=3.9.12->llama-index-vector-stores-deeplake==0.1.6)\n",
      "  Downloading pox-0.3.4-py3-none-any.whl.metadata (8.0 kB)\n",
      "Collecting multiprocess>=0.70.16 (from pathos->deeplake>=3.9.12->llama-index-vector-stores-deeplake==0.1.6)\n",
      "  Downloading multiprocess-0.70.16-py310-none-any.whl.metadata (7.2 kB)\n",
      "Requirement already satisfied: exceptiongroup in /usr/local/lib/python3.10/dist-packages (from anyio<5,>=3.5.0->openai>=1.1.0->llama-index-core<0.11.0,>=0.10.1->llama-index-vector-stores-deeplake==0.1.6) (1.2.2)\n",
      "Requirement already satisfied: packaging>=17.0 in /usr/local/lib/python3.10/dist-packages (from marshmallow<4.0.0,>=3.18.0->dataclasses-json->llama-index-core<0.11.0,>=0.10.1->llama-index-vector-stores-deeplake==0.1.6) (24.1)\n",
      "Requirement already satisfied: six>=1.5 in /usr/local/lib/python3.10/dist-packages (from python-dateutil>=2.8.2->pandas->llama-index-core<0.11.0,>=0.10.1->llama-index-vector-stores-deeplake==0.1.6) (1.16.0)\n",
      "Downloading llama_index_vector_stores_deeplake-0.1.6-py3-none-any.whl (5.1 kB)\n",
      "Downloading libdeeplake-0.0.138-cp310-cp310-manylinux2014_x86_64.whl (16.8 MB)\n",
      "\u001b[2K   \u001b[90m━━━━━━━━━━━━━━━━━━━━━━━━━━━━━━━━━━━━━━━━\u001b[0m \u001b[32m16.8/16.8 MB\u001b[0m \u001b[31m34.6 MB/s\u001b[0m eta \u001b[36m0:00:00\u001b[0m\n",
      "\u001b[?25hDownloading llama_index_core-0.10.63-py3-none-any.whl (15.5 MB)\n",
      "\u001b[2K   \u001b[90m━━━━━━━━━━━━━━━━━━━━━━━━━━━━━━━━━━━━━━━━\u001b[0m \u001b[32m15.5/15.5 MB\u001b[0m \u001b[31m31.9 MB/s\u001b[0m eta \u001b[36m0:00:00\u001b[0m\n",
      "\u001b[?25hDownloading aioboto3-13.1.1-py3-none-any.whl (34 kB)\n",
      "Downloading aiobotocore-2.13.1-py3-none-any.whl (76 kB)\n",
      "\u001b[2K   \u001b[90m━━━━━━━━━━━━━━━━━━━━━━━━━━━━━━━━━━━━━━━━\u001b[0m \u001b[32m76.9/76.9 kB\u001b[0m \u001b[31m5.1 MB/s\u001b[0m eta \u001b[36m0:00:00\u001b[0m\n",
      "\u001b[?25hDownloading boto3-1.34.131-py3-none-any.whl (139 kB)\n",
      "\u001b[2K   \u001b[90m━━━━━━━━━━━━━━━━━━━━━━━━━━━━━━━━━━━━━━━━\u001b[0m \u001b[32m139.2/139.2 kB\u001b[0m \u001b[31m8.4 MB/s\u001b[0m eta \u001b[36m0:00:00\u001b[0m\n",
      "\u001b[?25hDownloading Deprecated-1.2.14-py2.py3-none-any.whl (9.6 kB)\n",
      "Downloading dirtyjson-1.0.8-py3-none-any.whl (25 kB)\n",
      "Downloading humbug-0.3.2-py3-none-any.whl (15 kB)\n",
      "Downloading openai-1.40.2-py3-none-any.whl (360 kB)\n",
      "\u001b[2K   \u001b[90m━━━━━━━━━━━━━━━━━━━━━━━━━━━━━━━━━━━━━━━━\u001b[0m \u001b[32m360.7/360.7 kB\u001b[0m \u001b[31m17.6 MB/s\u001b[0m eta \u001b[36m0:00:00\u001b[0m\n",
      "\u001b[?25hDownloading httpx-0.27.0-py3-none-any.whl (75 kB)\n",
      "\u001b[2K   \u001b[90m━━━━━━━━━━━━━━━━━━━━━━━━━━━━━━━━━━━━━━━━\u001b[0m \u001b[32m75.6/75.6 kB\u001b[0m \u001b[31m4.2 MB/s\u001b[0m eta \u001b[36m0:00:00\u001b[0m\n",
      "\u001b[?25hDownloading httpcore-1.0.5-py3-none-any.whl (77 kB)\n",
      "\u001b[2K   \u001b[90m━━━━━━━━━━━━━━━━━━━━━━━━━━━━━━━━━━━━━━━━\u001b[0m \u001b[32m77.9/77.9 kB\u001b[0m \u001b[31m5.3 MB/s\u001b[0m eta \u001b[36m0:00:00\u001b[0m\n",
      "\u001b[?25hDownloading pillow-10.2.0-cp310-cp310-manylinux_2_28_x86_64.whl (4.5 MB)\n",
      "\u001b[2K   \u001b[90m━━━━━━━━━━━━━━━━━━━━━━━━━━━━━━━━━━━━━━━━\u001b[0m \u001b[32m4.5/4.5 MB\u001b[0m \u001b[31m54.1 MB/s\u001b[0m eta \u001b[36m0:00:00\u001b[0m\n",
      "\u001b[?25hDownloading tenacity-8.5.0-py3-none-any.whl (28 kB)\n",
      "Downloading tiktoken-0.7.0-cp310-cp310-manylinux_2_17_x86_64.manylinux2014_x86_64.whl (1.1 MB)\n",
      "\u001b[2K   \u001b[90m━━━━━━━━━━━━━━━━━━━━━━━━━━━━━━━━━━━━━━━━\u001b[0m \u001b[32m1.1/1.1 MB\u001b[0m \u001b[31m37.4 MB/s\u001b[0m eta \u001b[36m0:00:00\u001b[0m\n",
      "\u001b[?25hDownloading typing_inspect-0.9.0-py3-none-any.whl (8.8 kB)\n",
      "Downloading dataclasses_json-0.6.7-py3-none-any.whl (28 kB)\n",
      "Downloading lz4-4.3.3-cp310-cp310-manylinux_2_17_x86_64.manylinux2014_x86_64.whl (1.3 MB)\n",
      "\u001b[2K   \u001b[90m━━━━━━━━━━━━━━━━━━━━━━━━━━━━━━━━━━━━━━━━\u001b[0m \u001b[32m1.3/1.3 MB\u001b[0m \u001b[31m39.3 MB/s\u001b[0m eta \u001b[36m0:00:00\u001b[0m\n",
      "\u001b[?25hDownloading pathos-0.3.2-py3-none-any.whl (82 kB)\n",
      "\u001b[2K   \u001b[90m━━━━━━━━━━━━━━━━━━━━━━━━━━━━━━━━━━━━━━━━\u001b[0m \u001b[32m82.1/82.1 kB\u001b[0m \u001b[31m4.8 MB/s\u001b[0m eta \u001b[36m0:00:00\u001b[0m\n",
      "\u001b[?25hDownloading aiofiles-24.1.0-py3-none-any.whl (15 kB)\n",
      "Downloading botocore-1.34.131-py3-none-any.whl (12.3 MB)\n",
      "\u001b[2K   \u001b[90m━━━━━━━━━━━━━━━━━━━━━━━━━━━━━━━━━━━━━━━━\u001b[0m \u001b[32m12.3/12.3 MB\u001b[0m \u001b[31m57.1 MB/s\u001b[0m eta \u001b[36m0:00:00\u001b[0m\n",
      "\u001b[?25hDownloading dill-0.3.8-py3-none-any.whl (116 kB)\n",
      "\u001b[2K   \u001b[90m━━━━━━━━━━━━━━━━━━━━━━━━━━━━━━━━━━━━━━━━\u001b[0m \u001b[32m116.3/116.3 kB\u001b[0m \u001b[31m7.0 MB/s\u001b[0m eta \u001b[36m0:00:00\u001b[0m\n",
      "\u001b[?25hDownloading jiter-0.5.0-cp310-cp310-manylinux_2_17_x86_64.manylinux2014_x86_64.whl (318 kB)\n",
      "\u001b[2K   \u001b[90m━━━━━━━━━━━━━━━━━━━━━━━━━━━━━━━━━━━━━━━━\u001b[0m \u001b[32m318.9/318.9 kB\u001b[0m \u001b[31m17.8 MB/s\u001b[0m eta \u001b[36m0:00:00\u001b[0m\n",
      "\u001b[?25hDownloading jmespath-1.0.1-py3-none-any.whl (20 kB)\n",
      "Downloading marshmallow-3.21.3-py3-none-any.whl (49 kB)\n",
      "\u001b[2K   \u001b[90m━━━━━━━━━━━━━━━━━━━━━━━━━━━━━━━━━━━━━━━━\u001b[0m \u001b[32m49.2/49.2 kB\u001b[0m \u001b[31m2.8 MB/s\u001b[0m eta \u001b[36m0:00:00\u001b[0m\n",
      "\u001b[?25hDownloading multiprocess-0.70.16-py310-none-any.whl (134 kB)\n",
      "\u001b[2K   \u001b[90m━━━━━━━━━━━━━━━━━━━━━━━━━━━━━━━━━━━━━━━━\u001b[0m \u001b[32m134.8/134.8 kB\u001b[0m \u001b[31m7.4 MB/s\u001b[0m eta \u001b[36m0:00:00\u001b[0m\n",
      "\u001b[?25hDownloading mypy_extensions-1.0.0-py3-none-any.whl (4.7 kB)\n",
      "Downloading pox-0.3.4-py3-none-any.whl (29 kB)\n",
      "Downloading ppft-1.7.6.8-py3-none-any.whl (56 kB)\n",
      "\u001b[2K   \u001b[90m━━━━━━━━━━━━━━━━━━━━━━━━━━━━━━━━━━━━━━━━\u001b[0m \u001b[32m56.8/56.8 kB\u001b[0m \u001b[31m3.4 MB/s\u001b[0m eta \u001b[36m0:00:00\u001b[0m\n",
      "\u001b[?25hDownloading s3transfer-0.10.2-py3-none-any.whl (82 kB)\n",
      "\u001b[2K   \u001b[90m━━━━━━━━━━━━━━━━━━━━━━━━━━━━━━━━━━━━━━━━\u001b[0m \u001b[32m82.7/82.7 kB\u001b[0m \u001b[31m5.1 MB/s\u001b[0m eta \u001b[36m0:00:00\u001b[0m\n",
      "\u001b[?25hDownloading aioitertools-0.11.0-py3-none-any.whl (23 kB)\n",
      "Downloading h11-0.14.0-py3-none-any.whl (58 kB)\n",
      "\u001b[2K   \u001b[90m━━━━━━━━━━━━━━━━━━━━━━━━━━━━━━━━━━━━━━━━\u001b[0m \u001b[32m58.3/58.3 kB\u001b[0m \u001b[31m3.0 MB/s\u001b[0m eta \u001b[36m0:00:00\u001b[0m\n",
      "\u001b[?25hBuilding wheels for collected packages: deeplake\n",
      "  Building wheel for deeplake (pyproject.toml) ... \u001b[?25l\u001b[?25hdone\n",
      "  Created wheel for deeplake: filename=deeplake-3.9.18-py3-none-any.whl size=731672 sha256=116d37c814165a0581e98308a70c2a1865389e2d32b687b8d3812eaa42310f4a\n",
      "  Stored in directory: /root/.cache/pip/wheels/e4/a0/1f/c60dc926c4dab93f909a6036f595908a014d315073739ac254\n",
      "Successfully built deeplake\n",
      "Installing collected packages: dirtyjson, tenacity, ppft, pox, pillow, mypy-extensions, marshmallow, lz4, jmespath, jiter, h11, dill, deprecated, aioitertools, aiofiles, typing-inspect, tiktoken, multiprocess, libdeeplake, humbug, httpcore, botocore, s3transfer, pathos, httpx, dataclasses-json, aiobotocore, openai, boto3, llama-index-core, aioboto3, deeplake, llama-index-vector-stores-deeplake\n",
      "  Attempting uninstall: tenacity\n",
      "    Found existing installation: tenacity 9.0.0\n",
      "    Uninstalling tenacity-9.0.0:\n",
      "      Successfully uninstalled tenacity-9.0.0\n",
      "  Attempting uninstall: pillow\n",
      "    Found existing installation: Pillow 9.4.0\n",
      "    Uninstalling Pillow-9.4.0:\n",
      "      Successfully uninstalled Pillow-9.4.0\n",
      "Successfully installed aioboto3-13.1.1 aiobotocore-2.13.1 aiofiles-24.1.0 aioitertools-0.11.0 boto3-1.34.131 botocore-1.34.131 dataclasses-json-0.6.7 deeplake-3.9.18 deprecated-1.2.14 dill-0.3.8 dirtyjson-1.0.8 h11-0.14.0 httpcore-1.0.5 httpx-0.27.0 humbug-0.3.2 jiter-0.5.0 jmespath-1.0.1 libdeeplake-0.0.138 llama-index-core-0.10.63 llama-index-vector-stores-deeplake-0.1.6 lz4-4.3.3 marshmallow-3.21.3 multiprocess-0.70.16 mypy-extensions-1.0.0 openai-1.40.2 pathos-0.3.2 pillow-10.2.0 pox-0.3.4 ppft-1.7.6.8 s3transfer-0.10.2 tenacity-8.5.0 tiktoken-0.7.0 typing-inspect-0.9.0\n"
     ]
    },
    {
     "data": {
      "application/vnd.colab-display-data+json": {
       "id": "e3cf35f494854c4e8ca6de19f8d2d5f3",
       "pip_warning": {
        "packages": [
         "PIL"
        ]
       }
      }
     },
     "metadata": {},
     "output_type": "display_data"
    }
   ],
   "source": [
    "!pip install llama-index-vector-stores-deeplake==0.1.6"
   ]
  },
  {
   "cell_type": "markdown",
   "metadata": {
    "id": "QdKOPZwODhMF"
   },
   "source": [
    "LlamaIndex supports Deep Lake vector stores through the DeepLakeVectorStore class."
   ]
  },
  {
   "cell_type": "code",
   "execution_count": null,
   "metadata": {
    "colab": {
     "base_uri": "https://localhost:8080/"
    },
    "collapsed": true,
    "id": "8M5z1Bw9Dnmb",
    "outputId": "ca31cc15-d889-4f84-e608-5f683c6b768d"
   },
   "outputs": [
    {
     "name": "stdout",
     "output_type": "stream",
     "text": [
      "Requirement already satisfied: deeplake==3.9.18 in /usr/local/lib/python3.10/dist-packages (3.9.18)\n",
      "Requirement already satisfied: numpy<2.0 in /usr/local/lib/python3.10/dist-packages (from deeplake==3.9.18) (1.26.4)\n",
      "Requirement already satisfied: pillow~=10.2.0 in /usr/local/lib/python3.10/dist-packages (from deeplake==3.9.18) (10.2.0)\n",
      "Requirement already satisfied: boto3 in /usr/local/lib/python3.10/dist-packages (from deeplake==3.9.18) (1.34.131)\n",
      "Requirement already satisfied: click in /usr/local/lib/python3.10/dist-packages (from deeplake==3.9.18) (8.1.7)\n",
      "Requirement already satisfied: pathos in /usr/local/lib/python3.10/dist-packages (from deeplake==3.9.18) (0.3.2)\n",
      "Requirement already satisfied: humbug>=0.3.1 in /usr/local/lib/python3.10/dist-packages (from deeplake==3.9.18) (0.3.2)\n",
      "Requirement already satisfied: tqdm in /usr/local/lib/python3.10/dist-packages (from deeplake==3.9.18) (4.66.5)\n",
      "Requirement already satisfied: lz4 in /usr/local/lib/python3.10/dist-packages (from deeplake==3.9.18) (4.3.3)\n",
      "Requirement already satisfied: pyjwt in /usr/local/lib/python3.10/dist-packages (from deeplake==3.9.18) (2.9.0)\n",
      "Requirement already satisfied: pydantic in /usr/local/lib/python3.10/dist-packages (from deeplake==3.9.18) (2.8.2)\n",
      "Requirement already satisfied: libdeeplake==0.0.138 in /usr/local/lib/python3.10/dist-packages (from deeplake==3.9.18) (0.0.138)\n",
      "Requirement already satisfied: aioboto3>=10.4.0 in /usr/local/lib/python3.10/dist-packages (from deeplake==3.9.18) (13.1.1)\n",
      "Requirement already satisfied: nest-asyncio in /usr/local/lib/python3.10/dist-packages (from deeplake==3.9.18) (1.6.0)\n",
      "Requirement already satisfied: dill in /usr/local/lib/python3.10/dist-packages (from libdeeplake==0.0.138->deeplake==3.9.18) (0.3.8)\n",
      "Requirement already satisfied: aiobotocore==2.13.1 in /usr/local/lib/python3.10/dist-packages (from aiobotocore[boto3]==2.13.1->aioboto3>=10.4.0->deeplake==3.9.18) (2.13.1)\n",
      "Requirement already satisfied: aiofiles>=23.2.1 in /usr/local/lib/python3.10/dist-packages (from aioboto3>=10.4.0->deeplake==3.9.18) (24.1.0)\n",
      "Requirement already satisfied: botocore<1.34.132,>=1.34.70 in /usr/local/lib/python3.10/dist-packages (from aiobotocore==2.13.1->aiobotocore[boto3]==2.13.1->aioboto3>=10.4.0->deeplake==3.9.18) (1.34.131)\n",
      "Requirement already satisfied: aiohttp<4.0.0,>=3.9.2 in /usr/local/lib/python3.10/dist-packages (from aiobotocore==2.13.1->aiobotocore[boto3]==2.13.1->aioboto3>=10.4.0->deeplake==3.9.18) (3.10.1)\n",
      "Requirement already satisfied: wrapt<2.0.0,>=1.10.10 in /usr/local/lib/python3.10/dist-packages (from aiobotocore==2.13.1->aiobotocore[boto3]==2.13.1->aioboto3>=10.4.0->deeplake==3.9.18) (1.16.0)\n",
      "Requirement already satisfied: aioitertools<1.0.0,>=0.5.1 in /usr/local/lib/python3.10/dist-packages (from aiobotocore==2.13.1->aiobotocore[boto3]==2.13.1->aioboto3>=10.4.0->deeplake==3.9.18) (0.11.0)\n",
      "Requirement already satisfied: jmespath<2.0.0,>=0.7.1 in /usr/local/lib/python3.10/dist-packages (from boto3->deeplake==3.9.18) (1.0.1)\n",
      "Requirement already satisfied: s3transfer<0.11.0,>=0.10.0 in /usr/local/lib/python3.10/dist-packages (from boto3->deeplake==3.9.18) (0.10.2)\n",
      "Requirement already satisfied: requests in /usr/local/lib/python3.10/dist-packages (from humbug>=0.3.1->deeplake==3.9.18) (2.32.3)\n",
      "Requirement already satisfied: ppft>=1.7.6.8 in /usr/local/lib/python3.10/dist-packages (from pathos->deeplake==3.9.18) (1.7.6.8)\n",
      "Requirement already satisfied: pox>=0.3.4 in /usr/local/lib/python3.10/dist-packages (from pathos->deeplake==3.9.18) (0.3.4)\n",
      "Requirement already satisfied: multiprocess>=0.70.16 in /usr/local/lib/python3.10/dist-packages (from pathos->deeplake==3.9.18) (0.70.16)\n",
      "Requirement already satisfied: annotated-types>=0.4.0 in /usr/local/lib/python3.10/dist-packages (from pydantic->deeplake==3.9.18) (0.7.0)\n",
      "Requirement already satisfied: pydantic-core==2.20.1 in /usr/local/lib/python3.10/dist-packages (from pydantic->deeplake==3.9.18) (2.20.1)\n",
      "Requirement already satisfied: typing-extensions>=4.6.1 in /usr/local/lib/python3.10/dist-packages (from pydantic->deeplake==3.9.18) (4.12.2)\n",
      "Requirement already satisfied: python-dateutil<3.0.0,>=2.1 in /usr/local/lib/python3.10/dist-packages (from botocore<1.34.132,>=1.34.70->aiobotocore==2.13.1->aiobotocore[boto3]==2.13.1->aioboto3>=10.4.0->deeplake==3.9.18) (2.8.2)\n",
      "Requirement already satisfied: urllib3!=2.2.0,<3,>=1.25.4 in /usr/local/lib/python3.10/dist-packages (from botocore<1.34.132,>=1.34.70->aiobotocore==2.13.1->aiobotocore[boto3]==2.13.1->aioboto3>=10.4.0->deeplake==3.9.18) (2.0.7)\n",
      "Requirement already satisfied: charset-normalizer<4,>=2 in /usr/local/lib/python3.10/dist-packages (from requests->humbug>=0.3.1->deeplake==3.9.18) (3.3.2)\n",
      "Requirement already satisfied: idna<4,>=2.5 in /usr/local/lib/python3.10/dist-packages (from requests->humbug>=0.3.1->deeplake==3.9.18) (3.7)\n",
      "Requirement already satisfied: certifi>=2017.4.17 in /usr/local/lib/python3.10/dist-packages (from requests->humbug>=0.3.1->deeplake==3.9.18) (2024.7.4)\n",
      "Requirement already satisfied: aiohappyeyeballs>=2.3.0 in /usr/local/lib/python3.10/dist-packages (from aiohttp<4.0.0,>=3.9.2->aiobotocore==2.13.1->aiobotocore[boto3]==2.13.1->aioboto3>=10.4.0->deeplake==3.9.18) (2.3.4)\n",
      "Requirement already satisfied: aiosignal>=1.1.2 in /usr/local/lib/python3.10/dist-packages (from aiohttp<4.0.0,>=3.9.2->aiobotocore==2.13.1->aiobotocore[boto3]==2.13.1->aioboto3>=10.4.0->deeplake==3.9.18) (1.3.1)\n",
      "Requirement already satisfied: attrs>=17.3.0 in /usr/local/lib/python3.10/dist-packages (from aiohttp<4.0.0,>=3.9.2->aiobotocore==2.13.1->aiobotocore[boto3]==2.13.1->aioboto3>=10.4.0->deeplake==3.9.18) (24.2.0)\n",
      "Requirement already satisfied: frozenlist>=1.1.1 in /usr/local/lib/python3.10/dist-packages (from aiohttp<4.0.0,>=3.9.2->aiobotocore==2.13.1->aiobotocore[boto3]==2.13.1->aioboto3>=10.4.0->deeplake==3.9.18) (1.4.1)\n",
      "Requirement already satisfied: multidict<7.0,>=4.5 in /usr/local/lib/python3.10/dist-packages (from aiohttp<4.0.0,>=3.9.2->aiobotocore==2.13.1->aiobotocore[boto3]==2.13.1->aioboto3>=10.4.0->deeplake==3.9.18) (6.0.5)\n",
      "Requirement already satisfied: yarl<2.0,>=1.0 in /usr/local/lib/python3.10/dist-packages (from aiohttp<4.0.0,>=3.9.2->aiobotocore==2.13.1->aiobotocore[boto3]==2.13.1->aioboto3>=10.4.0->deeplake==3.9.18) (1.9.4)\n",
      "Requirement already satisfied: async-timeout<5.0,>=4.0 in /usr/local/lib/python3.10/dist-packages (from aiohttp<4.0.0,>=3.9.2->aiobotocore==2.13.1->aiobotocore[boto3]==2.13.1->aioboto3>=10.4.0->deeplake==3.9.18) (4.0.3)\n",
      "Requirement already satisfied: six>=1.5 in /usr/local/lib/python3.10/dist-packages (from python-dateutil<3.0.0,>=2.1->botocore<1.34.132,>=1.34.70->aiobotocore==2.13.1->aiobotocore[boto3]==2.13.1->aioboto3>=10.4.0->deeplake==3.9.18) (1.16.0)\n"
     ]
    }
   ],
   "source": [
    "!pip install deeplake==3.9.18"
   ]
  },
  {
   "cell_type": "code",
   "execution_count": null,
   "metadata": {
    "colab": {
     "base_uri": "https://localhost:8080/"
    },
    "collapsed": true,
    "id": "mu_Oaz-iwDPc",
    "outputId": "00707efc-8758-4e04-885b-55960676ffee"
   },
   "outputs": [
    {
     "name": "stdout",
     "output_type": "stream",
     "text": [
      "Collecting llama-index==0.10.63\n",
      "  Downloading llama_index-0.10.63-py3-none-any.whl.metadata (11 kB)\n",
      "Collecting llama-index-agent-openai<0.3.0,>=0.1.4 (from llama-index==0.10.63)\n",
      "  Downloading llama_index_agent_openai-0.2.9-py3-none-any.whl.metadata (729 bytes)\n",
      "Collecting llama-index-cli<0.2.0,>=0.1.2 (from llama-index==0.10.63)\n",
      "  Downloading llama_index_cli-0.1.13-py3-none-any.whl.metadata (1.5 kB)\n",
      "Requirement already satisfied: llama-index-core==0.10.63 in /usr/local/lib/python3.10/dist-packages (from llama-index==0.10.63) (0.10.63)\n",
      "Collecting llama-index-embeddings-openai<0.2.0,>=0.1.5 (from llama-index==0.10.63)\n",
      "  Downloading llama_index_embeddings_openai-0.1.11-py3-none-any.whl.metadata (655 bytes)\n",
      "Collecting llama-index-indices-managed-llama-cloud>=0.2.0 (from llama-index==0.10.63)\n",
      "  Downloading llama_index_indices_managed_llama_cloud-0.2.7-py3-none-any.whl.metadata (3.8 kB)\n",
      "Collecting llama-index-legacy<0.10.0,>=0.9.48 (from llama-index==0.10.63)\n",
      "  Downloading llama_index_legacy-0.9.48-py3-none-any.whl.metadata (8.5 kB)\n",
      "Collecting llama-index-llms-openai<0.2.0,>=0.1.27 (from llama-index==0.10.63)\n",
      "  Downloading llama_index_llms_openai-0.1.29-py3-none-any.whl.metadata (650 bytes)\n",
      "Collecting llama-index-multi-modal-llms-openai<0.2.0,>=0.1.3 (from llama-index==0.10.63)\n",
      "  Downloading llama_index_multi_modal_llms_openai-0.1.9-py3-none-any.whl.metadata (728 bytes)\n",
      "Collecting llama-index-program-openai<0.2.0,>=0.1.3 (from llama-index==0.10.63)\n",
      "  Downloading llama_index_program_openai-0.1.7-py3-none-any.whl.metadata (760 bytes)\n",
      "Collecting llama-index-question-gen-openai<0.2.0,>=0.1.2 (from llama-index==0.10.63)\n",
      "  Downloading llama_index_question_gen_openai-0.1.3-py3-none-any.whl.metadata (785 bytes)\n",
      "Collecting llama-index-readers-file<0.2.0,>=0.1.4 (from llama-index==0.10.63)\n",
      "  Downloading llama_index_readers_file-0.1.32-py3-none-any.whl.metadata (5.4 kB)\n",
      "Collecting llama-index-readers-llama-parse>=0.1.2 (from llama-index==0.10.63)\n",
      "  Downloading llama_index_readers_llama_parse-0.1.6-py3-none-any.whl.metadata (3.6 kB)\n",
      "Requirement already satisfied: PyYAML>=6.0.1 in /usr/local/lib/python3.10/dist-packages (from llama-index-core==0.10.63->llama-index==0.10.63) (6.0.2)\n",
      "Requirement already satisfied: SQLAlchemy>=1.4.49 in /usr/local/lib/python3.10/dist-packages (from SQLAlchemy[asyncio]>=1.4.49->llama-index-core==0.10.63->llama-index==0.10.63) (2.0.32)\n",
      "Requirement already satisfied: aiohttp<4.0.0,>=3.8.6 in /usr/local/lib/python3.10/dist-packages (from llama-index-core==0.10.63->llama-index==0.10.63) (3.10.1)\n",
      "Requirement already satisfied: dataclasses-json in /usr/local/lib/python3.10/dist-packages (from llama-index-core==0.10.63->llama-index==0.10.63) (0.6.7)\n",
      "Requirement already satisfied: deprecated>=1.2.9.3 in /usr/local/lib/python3.10/dist-packages (from llama-index-core==0.10.63->llama-index==0.10.63) (1.2.14)\n",
      "Requirement already satisfied: dirtyjson<2.0.0,>=1.0.8 in /usr/local/lib/python3.10/dist-packages (from llama-index-core==0.10.63->llama-index==0.10.63) (1.0.8)\n",
      "Requirement already satisfied: fsspec>=2023.5.0 in /usr/local/lib/python3.10/dist-packages (from llama-index-core==0.10.63->llama-index==0.10.63) (2024.6.1)\n",
      "Requirement already satisfied: httpx in /usr/local/lib/python3.10/dist-packages (from llama-index-core==0.10.63->llama-index==0.10.63) (0.27.0)\n",
      "Requirement already satisfied: nest-asyncio<2.0.0,>=1.5.8 in /usr/local/lib/python3.10/dist-packages (from llama-index-core==0.10.63->llama-index==0.10.63) (1.6.0)\n",
      "Requirement already satisfied: networkx>=3.0 in /usr/local/lib/python3.10/dist-packages (from llama-index-core==0.10.63->llama-index==0.10.63) (3.3)\n",
      "Requirement already satisfied: nltk<4.0.0,>=3.8.1 in /usr/local/lib/python3.10/dist-packages (from llama-index-core==0.10.63->llama-index==0.10.63) (3.8.1)\n",
      "Requirement already satisfied: numpy<2.0.0 in /usr/local/lib/python3.10/dist-packages (from llama-index-core==0.10.63->llama-index==0.10.63) (1.26.4)\n",
      "Requirement already satisfied: openai>=1.1.0 in /usr/local/lib/python3.10/dist-packages (from llama-index-core==0.10.63->llama-index==0.10.63) (1.40.2)\n",
      "Requirement already satisfied: pandas in /usr/local/lib/python3.10/dist-packages (from llama-index-core==0.10.63->llama-index==0.10.63) (2.1.4)\n",
      "Requirement already satisfied: pillow>=9.0.0 in /usr/local/lib/python3.10/dist-packages (from llama-index-core==0.10.63->llama-index==0.10.63) (10.2.0)\n",
      "Requirement already satisfied: requests>=2.31.0 in /usr/local/lib/python3.10/dist-packages (from llama-index-core==0.10.63->llama-index==0.10.63) (2.32.3)\n",
      "Requirement already satisfied: tenacity!=8.4.0,<9.0.0,>=8.2.0 in /usr/local/lib/python3.10/dist-packages (from llama-index-core==0.10.63->llama-index==0.10.63) (8.5.0)\n",
      "Requirement already satisfied: tiktoken>=0.3.3 in /usr/local/lib/python3.10/dist-packages (from llama-index-core==0.10.63->llama-index==0.10.63) (0.7.0)\n",
      "Requirement already satisfied: tqdm<5.0.0,>=4.66.1 in /usr/local/lib/python3.10/dist-packages (from llama-index-core==0.10.63->llama-index==0.10.63) (4.66.5)\n",
      "Requirement already satisfied: typing-extensions>=4.5.0 in /usr/local/lib/python3.10/dist-packages (from llama-index-core==0.10.63->llama-index==0.10.63) (4.12.2)\n",
      "Requirement already satisfied: typing-inspect>=0.8.0 in /usr/local/lib/python3.10/dist-packages (from llama-index-core==0.10.63->llama-index==0.10.63) (0.9.0)\n",
      "Requirement already satisfied: wrapt in /usr/local/lib/python3.10/dist-packages (from llama-index-core==0.10.63->llama-index==0.10.63) (1.16.0)\n",
      "Collecting llama-cloud>=0.0.11 (from llama-index-indices-managed-llama-cloud>=0.2.0->llama-index==0.10.63)\n",
      "  Downloading llama_cloud-0.0.13-py3-none-any.whl.metadata (751 bytes)\n",
      "Requirement already satisfied: beautifulsoup4<5.0.0,>=4.12.3 in /usr/local/lib/python3.10/dist-packages (from llama-index-readers-file<0.2.0,>=0.1.4->llama-index==0.10.63) (4.12.3)\n",
      "Collecting pypdf<5.0.0,>=4.0.1 (from llama-index-readers-file<0.2.0,>=0.1.4->llama-index==0.10.63)\n",
      "  Downloading pypdf-4.3.1-py3-none-any.whl.metadata (7.4 kB)\n",
      "Collecting striprtf<0.0.27,>=0.0.26 (from llama-index-readers-file<0.2.0,>=0.1.4->llama-index==0.10.63)\n",
      "  Downloading striprtf-0.0.26-py3-none-any.whl.metadata (2.1 kB)\n",
      "Collecting llama-parse>=0.4.0 (from llama-index-readers-llama-parse>=0.1.2->llama-index==0.10.63)\n",
      "  Downloading llama_parse-0.4.9-py3-none-any.whl.metadata (4.4 kB)\n",
      "Requirement already satisfied: aiohappyeyeballs>=2.3.0 in /usr/local/lib/python3.10/dist-packages (from aiohttp<4.0.0,>=3.8.6->llama-index-core==0.10.63->llama-index==0.10.63) (2.3.4)\n",
      "Requirement already satisfied: aiosignal>=1.1.2 in /usr/local/lib/python3.10/dist-packages (from aiohttp<4.0.0,>=3.8.6->llama-index-core==0.10.63->llama-index==0.10.63) (1.3.1)\n",
      "Requirement already satisfied: attrs>=17.3.0 in /usr/local/lib/python3.10/dist-packages (from aiohttp<4.0.0,>=3.8.6->llama-index-core==0.10.63->llama-index==0.10.63) (24.2.0)\n",
      "Requirement already satisfied: frozenlist>=1.1.1 in /usr/local/lib/python3.10/dist-packages (from aiohttp<4.0.0,>=3.8.6->llama-index-core==0.10.63->llama-index==0.10.63) (1.4.1)\n",
      "Requirement already satisfied: multidict<7.0,>=4.5 in /usr/local/lib/python3.10/dist-packages (from aiohttp<4.0.0,>=3.8.6->llama-index-core==0.10.63->llama-index==0.10.63) (6.0.5)\n",
      "Requirement already satisfied: yarl<2.0,>=1.0 in /usr/local/lib/python3.10/dist-packages (from aiohttp<4.0.0,>=3.8.6->llama-index-core==0.10.63->llama-index==0.10.63) (1.9.4)\n",
      "Requirement already satisfied: async-timeout<5.0,>=4.0 in /usr/local/lib/python3.10/dist-packages (from aiohttp<4.0.0,>=3.8.6->llama-index-core==0.10.63->llama-index==0.10.63) (4.0.3)\n",
      "Requirement already satisfied: soupsieve>1.2 in /usr/local/lib/python3.10/dist-packages (from beautifulsoup4<5.0.0,>=4.12.3->llama-index-readers-file<0.2.0,>=0.1.4->llama-index==0.10.63) (2.5)\n",
      "Requirement already satisfied: pydantic>=1.10 in /usr/local/lib/python3.10/dist-packages (from llama-cloud>=0.0.11->llama-index-indices-managed-llama-cloud>=0.2.0->llama-index==0.10.63) (2.8.2)\n",
      "Requirement already satisfied: anyio in /usr/local/lib/python3.10/dist-packages (from httpx->llama-index-core==0.10.63->llama-index==0.10.63) (3.7.1)\n",
      "Requirement already satisfied: certifi in /usr/local/lib/python3.10/dist-packages (from httpx->llama-index-core==0.10.63->llama-index==0.10.63) (2024.7.4)\n",
      "Requirement already satisfied: httpcore==1.* in /usr/local/lib/python3.10/dist-packages (from httpx->llama-index-core==0.10.63->llama-index==0.10.63) (1.0.5)\n",
      "Requirement already satisfied: idna in /usr/local/lib/python3.10/dist-packages (from httpx->llama-index-core==0.10.63->llama-index==0.10.63) (3.7)\n",
      "Requirement already satisfied: sniffio in /usr/local/lib/python3.10/dist-packages (from httpx->llama-index-core==0.10.63->llama-index==0.10.63) (1.3.1)\n",
      "Requirement already satisfied: h11<0.15,>=0.13 in /usr/local/lib/python3.10/dist-packages (from httpcore==1.*->httpx->llama-index-core==0.10.63->llama-index==0.10.63) (0.14.0)\n",
      "Requirement already satisfied: click in /usr/local/lib/python3.10/dist-packages (from nltk<4.0.0,>=3.8.1->llama-index-core==0.10.63->llama-index==0.10.63) (8.1.7)\n",
      "Requirement already satisfied: joblib in /usr/local/lib/python3.10/dist-packages (from nltk<4.0.0,>=3.8.1->llama-index-core==0.10.63->llama-index==0.10.63) (1.4.2)\n",
      "Requirement already satisfied: regex>=2021.8.3 in /usr/local/lib/python3.10/dist-packages (from nltk<4.0.0,>=3.8.1->llama-index-core==0.10.63->llama-index==0.10.63) (2024.5.15)\n",
      "Requirement already satisfied: distro<2,>=1.7.0 in /usr/lib/python3/dist-packages (from openai>=1.1.0->llama-index-core==0.10.63->llama-index==0.10.63) (1.7.0)\n",
      "Requirement already satisfied: jiter<1,>=0.4.0 in /usr/local/lib/python3.10/dist-packages (from openai>=1.1.0->llama-index-core==0.10.63->llama-index==0.10.63) (0.5.0)\n",
      "Requirement already satisfied: charset-normalizer<4,>=2 in /usr/local/lib/python3.10/dist-packages (from requests>=2.31.0->llama-index-core==0.10.63->llama-index==0.10.63) (3.3.2)\n",
      "Requirement already satisfied: urllib3<3,>=1.21.1 in /usr/local/lib/python3.10/dist-packages (from requests>=2.31.0->llama-index-core==0.10.63->llama-index==0.10.63) (2.0.7)\n",
      "Requirement already satisfied: greenlet!=0.4.17 in /usr/local/lib/python3.10/dist-packages (from SQLAlchemy>=1.4.49->SQLAlchemy[asyncio]>=1.4.49->llama-index-core==0.10.63->llama-index==0.10.63) (3.0.3)\n",
      "Requirement already satisfied: mypy-extensions>=0.3.0 in /usr/local/lib/python3.10/dist-packages (from typing-inspect>=0.8.0->llama-index-core==0.10.63->llama-index==0.10.63) (1.0.0)\n",
      "Requirement already satisfied: marshmallow<4.0.0,>=3.18.0 in /usr/local/lib/python3.10/dist-packages (from dataclasses-json->llama-index-core==0.10.63->llama-index==0.10.63) (3.21.3)\n",
      "Requirement already satisfied: python-dateutil>=2.8.2 in /usr/local/lib/python3.10/dist-packages (from pandas->llama-index-core==0.10.63->llama-index==0.10.63) (2.8.2)\n",
      "Requirement already satisfied: pytz>=2020.1 in /usr/local/lib/python3.10/dist-packages (from pandas->llama-index-core==0.10.63->llama-index==0.10.63) (2024.1)\n",
      "Requirement already satisfied: tzdata>=2022.1 in /usr/local/lib/python3.10/dist-packages (from pandas->llama-index-core==0.10.63->llama-index==0.10.63) (2024.1)\n",
      "Requirement already satisfied: exceptiongroup in /usr/local/lib/python3.10/dist-packages (from anyio->httpx->llama-index-core==0.10.63->llama-index==0.10.63) (1.2.2)\n",
      "Requirement already satisfied: packaging>=17.0 in /usr/local/lib/python3.10/dist-packages (from marshmallow<4.0.0,>=3.18.0->dataclasses-json->llama-index-core==0.10.63->llama-index==0.10.63) (24.1)\n",
      "Requirement already satisfied: annotated-types>=0.4.0 in /usr/local/lib/python3.10/dist-packages (from pydantic>=1.10->llama-cloud>=0.0.11->llama-index-indices-managed-llama-cloud>=0.2.0->llama-index==0.10.63) (0.7.0)\n",
      "Requirement already satisfied: pydantic-core==2.20.1 in /usr/local/lib/python3.10/dist-packages (from pydantic>=1.10->llama-cloud>=0.0.11->llama-index-indices-managed-llama-cloud>=0.2.0->llama-index==0.10.63) (2.20.1)\n",
      "Requirement already satisfied: six>=1.5 in /usr/local/lib/python3.10/dist-packages (from python-dateutil>=2.8.2->pandas->llama-index-core==0.10.63->llama-index==0.10.63) (1.16.0)\n",
      "Downloading llama_index-0.10.63-py3-none-any.whl (6.8 kB)\n",
      "Downloading llama_index_agent_openai-0.2.9-py3-none-any.whl (13 kB)\n",
      "Downloading llama_index_cli-0.1.13-py3-none-any.whl (27 kB)\n",
      "Downloading llama_index_embeddings_openai-0.1.11-py3-none-any.whl (6.3 kB)\n",
      "Downloading llama_index_indices_managed_llama_cloud-0.2.7-py3-none-any.whl (9.5 kB)\n",
      "Downloading llama_index_legacy-0.9.48-py3-none-any.whl (2.0 MB)\n",
      "\u001b[2K   \u001b[90m━━━━━━━━━━━━━━━━━━━━━━━━━━━━━━━━━━━━━━━━\u001b[0m \u001b[32m2.0/2.0 MB\u001b[0m \u001b[31m20.9 MB/s\u001b[0m eta \u001b[36m0:00:00\u001b[0m\n",
      "\u001b[?25hDownloading llama_index_llms_openai-0.1.29-py3-none-any.whl (11 kB)\n",
      "Downloading llama_index_multi_modal_llms_openai-0.1.9-py3-none-any.whl (5.9 kB)\n",
      "Downloading llama_index_program_openai-0.1.7-py3-none-any.whl (5.3 kB)\n",
      "Downloading llama_index_question_gen_openai-0.1.3-py3-none-any.whl (2.9 kB)\n",
      "Downloading llama_index_readers_file-0.1.32-py3-none-any.whl (38 kB)\n",
      "Downloading llama_index_readers_llama_parse-0.1.6-py3-none-any.whl (2.5 kB)\n",
      "Downloading llama_cloud-0.0.13-py3-none-any.whl (169 kB)\n",
      "\u001b[2K   \u001b[90m━━━━━━━━━━━━━━━━━━━━━━━━━━━━━━━━━━━━━━━━\u001b[0m \u001b[32m169.4/169.4 kB\u001b[0m \u001b[31m10.3 MB/s\u001b[0m eta \u001b[36m0:00:00\u001b[0m\n",
      "\u001b[?25hDownloading llama_parse-0.4.9-py3-none-any.whl (9.4 kB)\n",
      "Downloading pypdf-4.3.1-py3-none-any.whl (295 kB)\n",
      "\u001b[2K   \u001b[90m━━━━━━━━━━━━━━━━━━━━━━━━━━━━━━━━━━━━━━━━\u001b[0m \u001b[32m295.8/295.8 kB\u001b[0m \u001b[31m8.0 MB/s\u001b[0m eta \u001b[36m0:00:00\u001b[0m\n",
      "\u001b[?25hDownloading striprtf-0.0.26-py3-none-any.whl (6.9 kB)\n",
      "Installing collected packages: striprtf, pypdf, llama-cloud, llama-index-legacy, llama-parse, llama-index-readers-file, llama-index-llms-openai, llama-index-indices-managed-llama-cloud, llama-index-embeddings-openai, llama-index-readers-llama-parse, llama-index-multi-modal-llms-openai, llama-index-cli, llama-index-agent-openai, llama-index-program-openai, llama-index-question-gen-openai, llama-index\n",
      "Successfully installed llama-cloud-0.0.13 llama-index-0.10.63 llama-index-agent-openai-0.2.9 llama-index-cli-0.1.13 llama-index-embeddings-openai-0.1.11 llama-index-indices-managed-llama-cloud-0.2.7 llama-index-legacy-0.9.48 llama-index-llms-openai-0.1.29 llama-index-multi-modal-llms-openai-0.1.9 llama-index-program-openai-0.1.7 llama-index-question-gen-openai-0.1.3 llama-index-readers-file-0.1.32 llama-index-readers-llama-parse-0.1.6 llama-parse-0.4.9 pypdf-4.3.1 striprtf-0.0.26\n"
     ]
    }
   ],
   "source": [
    "!pip install llama-index==0.10.64"
   ]
  },
  {
   "cell_type": "markdown",
   "metadata": {
    "id": "v5FzFmqlwDPc"
   },
   "source": [
    "Next, let's import the required modules and set the needed environmental variables:"
   ]
  },
  {
   "cell_type": "code",
   "execution_count": null,
   "metadata": {
    "id": "hhrXavfywDPc"
   },
   "outputs": [],
   "source": [
    "from llama_index.core import VectorStoreIndex, SimpleDirectoryReader, Document\n",
    "from llama_index.vector_stores.deeplake import DeepLakeVectorStore"
   ]
  },
  {
   "cell_type": "code",
   "execution_count": null,
   "metadata": {
    "colab": {
     "base_uri": "https://localhost:8080/"
    },
    "id": "MVEkwfwKQd31",
    "outputId": "cbbc3e6e-cceb-4551-cb45-491f3304b2eb"
   },
   "outputs": [
    {
     "name": "stdout",
     "output_type": "stream",
     "text": [
      "Collecting sentence-transformers==3.0.1\n",
      "  Downloading sentence_transformers-3.0.1-py3-none-any.whl.metadata (10 kB)\n",
      "Requirement already satisfied: transformers<5.0.0,>=4.34.0 in /usr/local/lib/python3.10/dist-packages (from sentence-transformers==3.0.1) (4.42.4)\n",
      "Requirement already satisfied: tqdm in /usr/local/lib/python3.10/dist-packages (from sentence-transformers==3.0.1) (4.66.5)\n",
      "Requirement already satisfied: torch>=1.11.0 in /usr/local/lib/python3.10/dist-packages (from sentence-transformers==3.0.1) (2.3.1+cu121)\n",
      "Requirement already satisfied: numpy in /usr/local/lib/python3.10/dist-packages (from sentence-transformers==3.0.1) (1.26.4)\n",
      "Requirement already satisfied: scikit-learn in /usr/local/lib/python3.10/dist-packages (from sentence-transformers==3.0.1) (1.3.2)\n",
      "Requirement already satisfied: scipy in /usr/local/lib/python3.10/dist-packages (from sentence-transformers==3.0.1) (1.13.1)\n",
      "Requirement already satisfied: huggingface-hub>=0.15.1 in /usr/local/lib/python3.10/dist-packages (from sentence-transformers==3.0.1) (0.23.5)\n",
      "Requirement already satisfied: Pillow in /usr/local/lib/python3.10/dist-packages (from sentence-transformers==3.0.1) (10.2.0)\n",
      "Requirement already satisfied: filelock in /usr/local/lib/python3.10/dist-packages (from huggingface-hub>=0.15.1->sentence-transformers==3.0.1) (3.15.4)\n",
      "Requirement already satisfied: fsspec>=2023.5.0 in /usr/local/lib/python3.10/dist-packages (from huggingface-hub>=0.15.1->sentence-transformers==3.0.1) (2024.6.1)\n",
      "Requirement already satisfied: packaging>=20.9 in /usr/local/lib/python3.10/dist-packages (from huggingface-hub>=0.15.1->sentence-transformers==3.0.1) (24.1)\n",
      "Requirement already satisfied: pyyaml>=5.1 in /usr/local/lib/python3.10/dist-packages (from huggingface-hub>=0.15.1->sentence-transformers==3.0.1) (6.0.2)\n",
      "Requirement already satisfied: requests in /usr/local/lib/python3.10/dist-packages (from huggingface-hub>=0.15.1->sentence-transformers==3.0.1) (2.32.3)\n",
      "Requirement already satisfied: typing-extensions>=3.7.4.3 in /usr/local/lib/python3.10/dist-packages (from huggingface-hub>=0.15.1->sentence-transformers==3.0.1) (4.12.2)\n",
      "Requirement already satisfied: sympy in /usr/local/lib/python3.10/dist-packages (from torch>=1.11.0->sentence-transformers==3.0.1) (1.13.1)\n",
      "Requirement already satisfied: networkx in /usr/local/lib/python3.10/dist-packages (from torch>=1.11.0->sentence-transformers==3.0.1) (3.3)\n",
      "Requirement already satisfied: jinja2 in /usr/local/lib/python3.10/dist-packages (from torch>=1.11.0->sentence-transformers==3.0.1) (3.1.4)\n",
      "Collecting nvidia-cuda-nvrtc-cu12==12.1.105 (from torch>=1.11.0->sentence-transformers==3.0.1)\n",
      "  Using cached nvidia_cuda_nvrtc_cu12-12.1.105-py3-none-manylinux1_x86_64.whl.metadata (1.5 kB)\n",
      "Collecting nvidia-cuda-runtime-cu12==12.1.105 (from torch>=1.11.0->sentence-transformers==3.0.1)\n",
      "  Using cached nvidia_cuda_runtime_cu12-12.1.105-py3-none-manylinux1_x86_64.whl.metadata (1.5 kB)\n",
      "Collecting nvidia-cuda-cupti-cu12==12.1.105 (from torch>=1.11.0->sentence-transformers==3.0.1)\n",
      "  Using cached nvidia_cuda_cupti_cu12-12.1.105-py3-none-manylinux1_x86_64.whl.metadata (1.6 kB)\n",
      "Collecting nvidia-cudnn-cu12==8.9.2.26 (from torch>=1.11.0->sentence-transformers==3.0.1)\n",
      "  Using cached nvidia_cudnn_cu12-8.9.2.26-py3-none-manylinux1_x86_64.whl.metadata (1.6 kB)\n",
      "Collecting nvidia-cublas-cu12==12.1.3.1 (from torch>=1.11.0->sentence-transformers==3.0.1)\n",
      "  Using cached nvidia_cublas_cu12-12.1.3.1-py3-none-manylinux1_x86_64.whl.metadata (1.5 kB)\n",
      "Collecting nvidia-cufft-cu12==11.0.2.54 (from torch>=1.11.0->sentence-transformers==3.0.1)\n",
      "  Using cached nvidia_cufft_cu12-11.0.2.54-py3-none-manylinux1_x86_64.whl.metadata (1.5 kB)\n",
      "Collecting nvidia-curand-cu12==10.3.2.106 (from torch>=1.11.0->sentence-transformers==3.0.1)\n",
      "  Using cached nvidia_curand_cu12-10.3.2.106-py3-none-manylinux1_x86_64.whl.metadata (1.5 kB)\n",
      "Collecting nvidia-cusolver-cu12==11.4.5.107 (from torch>=1.11.0->sentence-transformers==3.0.1)\n",
      "  Using cached nvidia_cusolver_cu12-11.4.5.107-py3-none-manylinux1_x86_64.whl.metadata (1.6 kB)\n",
      "Collecting nvidia-cusparse-cu12==12.1.0.106 (from torch>=1.11.0->sentence-transformers==3.0.1)\n",
      "  Using cached nvidia_cusparse_cu12-12.1.0.106-py3-none-manylinux1_x86_64.whl.metadata (1.6 kB)\n",
      "Collecting nvidia-nccl-cu12==2.20.5 (from torch>=1.11.0->sentence-transformers==3.0.1)\n",
      "  Using cached nvidia_nccl_cu12-2.20.5-py3-none-manylinux2014_x86_64.whl.metadata (1.8 kB)\n",
      "Collecting nvidia-nvtx-cu12==12.1.105 (from torch>=1.11.0->sentence-transformers==3.0.1)\n",
      "  Using cached nvidia_nvtx_cu12-12.1.105-py3-none-manylinux1_x86_64.whl.metadata (1.7 kB)\n",
      "Requirement already satisfied: triton==2.3.1 in /usr/local/lib/python3.10/dist-packages (from torch>=1.11.0->sentence-transformers==3.0.1) (2.3.1)\n",
      "Collecting nvidia-nvjitlink-cu12 (from nvidia-cusolver-cu12==11.4.5.107->torch>=1.11.0->sentence-transformers==3.0.1)\n",
      "  Using cached nvidia_nvjitlink_cu12-12.6.20-py3-none-manylinux2014_x86_64.whl.metadata (1.5 kB)\n",
      "Requirement already satisfied: regex!=2019.12.17 in /usr/local/lib/python3.10/dist-packages (from transformers<5.0.0,>=4.34.0->sentence-transformers==3.0.1) (2024.5.15)\n",
      "Requirement already satisfied: safetensors>=0.4.1 in /usr/local/lib/python3.10/dist-packages (from transformers<5.0.0,>=4.34.0->sentence-transformers==3.0.1) (0.4.4)\n",
      "Requirement already satisfied: tokenizers<0.20,>=0.19 in /usr/local/lib/python3.10/dist-packages (from transformers<5.0.0,>=4.34.0->sentence-transformers==3.0.1) (0.19.1)\n",
      "Requirement already satisfied: joblib>=1.1.1 in /usr/local/lib/python3.10/dist-packages (from scikit-learn->sentence-transformers==3.0.1) (1.4.2)\n",
      "Requirement already satisfied: threadpoolctl>=2.0.0 in /usr/local/lib/python3.10/dist-packages (from scikit-learn->sentence-transformers==3.0.1) (3.5.0)\n",
      "Requirement already satisfied: MarkupSafe>=2.0 in /usr/local/lib/python3.10/dist-packages (from jinja2->torch>=1.11.0->sentence-transformers==3.0.1) (2.1.5)\n",
      "Requirement already satisfied: charset-normalizer<4,>=2 in /usr/local/lib/python3.10/dist-packages (from requests->huggingface-hub>=0.15.1->sentence-transformers==3.0.1) (3.3.2)\n",
      "Requirement already satisfied: idna<4,>=2.5 in /usr/local/lib/python3.10/dist-packages (from requests->huggingface-hub>=0.15.1->sentence-transformers==3.0.1) (3.7)\n",
      "Requirement already satisfied: urllib3<3,>=1.21.1 in /usr/local/lib/python3.10/dist-packages (from requests->huggingface-hub>=0.15.1->sentence-transformers==3.0.1) (2.0.7)\n",
      "Requirement already satisfied: certifi>=2017.4.17 in /usr/local/lib/python3.10/dist-packages (from requests->huggingface-hub>=0.15.1->sentence-transformers==3.0.1) (2024.7.4)\n",
      "Requirement already satisfied: mpmath<1.4,>=1.1.0 in /usr/local/lib/python3.10/dist-packages (from sympy->torch>=1.11.0->sentence-transformers==3.0.1) (1.3.0)\n",
      "Downloading sentence_transformers-3.0.1-py3-none-any.whl (227 kB)\n",
      "\u001b[2K   \u001b[90m━━━━━━━━━━━━━━━━━━━━━━━━━━━━━━━━━━━━━━━━\u001b[0m \u001b[32m227.1/227.1 kB\u001b[0m \u001b[31m4.0 MB/s\u001b[0m eta \u001b[36m0:00:00\u001b[0m\n",
      "\u001b[?25hUsing cached nvidia_cublas_cu12-12.1.3.1-py3-none-manylinux1_x86_64.whl (410.6 MB)\n",
      "Using cached nvidia_cuda_cupti_cu12-12.1.105-py3-none-manylinux1_x86_64.whl (14.1 MB)\n",
      "Using cached nvidia_cuda_nvrtc_cu12-12.1.105-py3-none-manylinux1_x86_64.whl (23.7 MB)\n",
      "Using cached nvidia_cuda_runtime_cu12-12.1.105-py3-none-manylinux1_x86_64.whl (823 kB)\n",
      "Using cached nvidia_cudnn_cu12-8.9.2.26-py3-none-manylinux1_x86_64.whl (731.7 MB)\n",
      "Using cached nvidia_cufft_cu12-11.0.2.54-py3-none-manylinux1_x86_64.whl (121.6 MB)\n",
      "Using cached nvidia_curand_cu12-10.3.2.106-py3-none-manylinux1_x86_64.whl (56.5 MB)\n",
      "Using cached nvidia_cusolver_cu12-11.4.5.107-py3-none-manylinux1_x86_64.whl (124.2 MB)\n",
      "Using cached nvidia_cusparse_cu12-12.1.0.106-py3-none-manylinux1_x86_64.whl (196.0 MB)\n",
      "Using cached nvidia_nccl_cu12-2.20.5-py3-none-manylinux2014_x86_64.whl (176.2 MB)\n",
      "Using cached nvidia_nvtx_cu12-12.1.105-py3-none-manylinux1_x86_64.whl (99 kB)\n",
      "Using cached nvidia_nvjitlink_cu12-12.6.20-py3-none-manylinux2014_x86_64.whl (19.7 MB)\n",
      "Installing collected packages: nvidia-nvtx-cu12, nvidia-nvjitlink-cu12, nvidia-nccl-cu12, nvidia-curand-cu12, nvidia-cufft-cu12, nvidia-cuda-runtime-cu12, nvidia-cuda-nvrtc-cu12, nvidia-cuda-cupti-cu12, nvidia-cublas-cu12, nvidia-cusparse-cu12, nvidia-cudnn-cu12, nvidia-cusolver-cu12, sentence-transformers\n",
      "Successfully installed nvidia-cublas-cu12-12.1.3.1 nvidia-cuda-cupti-cu12-12.1.105 nvidia-cuda-nvrtc-cu12-12.1.105 nvidia-cuda-runtime-cu12-12.1.105 nvidia-cudnn-cu12-8.9.2.26 nvidia-cufft-cu12-11.0.2.54 nvidia-curand-cu12-10.3.2.106 nvidia-cusolver-cu12-11.4.5.107 nvidia-cusparse-cu12-12.1.0.106 nvidia-nccl-cu12-2.20.5 nvidia-nvjitlink-cu12-12.6.20 nvidia-nvtx-cu12-12.1.105 sentence-transformers-3.0.1\n"
     ]
    }
   ],
   "source": [
    "!pip install sentence-transformers==3.0.1"
   ]
  },
  {
   "cell_type": "code",
   "execution_count": null,
   "metadata": {
    "id": "Oefvqp21Ba07"
   },
   "outputs": [],
   "source": [
    "#Retrieving and setting the OpenAI API key\n",
    "f = open(\"drive/MyDrive/files/api_key.txt\", \"r\")\n",
    "API_KEY=f.readline().strip()\n",
    "f.close()\n",
    "\n",
    "#The OpenAI KeyActiveloop and OpenAI API keys\n",
    "import os\n",
    "import openai\n",
    "os.environ['OPENAI_API_KEY'] =API_KEY\n",
    "openai.api_key = os.getenv(\"OPENAI_API_KEY\")"
   ]
  },
  {
   "cell_type": "code",
   "execution_count": null,
   "metadata": {
    "id": "Iba6wGaaBgPQ"
   },
   "outputs": [],
   "source": [
    "#Retrieving and setting the Activeloop API token\n",
    "f = open(\"drive/MyDrive/files/activeloop.txt\", \"r\")\n",
    "API_token=f.readline().strip()\n",
    "f.close()\n",
    "ACTIVELOOP_TOKEN=API_token\n",
    "os.environ['ACTIVELOOP_TOKEN'] =ACTIVELOOP_TOKEN"
   ]
  },
  {
   "cell_type": "code",
   "execution_count": null,
   "metadata": {
    "id": "vv0TB4Q8fCfT"
   },
   "outputs": [],
   "source": [
    "# For Google Colab and Activeloop while waiting for Activeloop (April 2024) pending new version\n",
    "#This line writes the string \"nameserver 8.8.8.8\" to the file. This is specifying that the DNS server the system\n",
    "#should use is at the IP address 8.8.8.8, which is one of Google's Public DNS servers.\n",
    "with open('/etc/resolv.conf', 'w') as file:\n",
    "   file.write(\"nameserver 8.8.8.8\")"
   ]
  },
  {
   "cell_type": "markdown",
   "metadata": {
    "id": "KttJwsU-wDPd"
   },
   "source": [
    "# Pipeline 1 : Collecting and preparing the documents"
   ]
  },
  {
   "cell_type": "code",
   "execution_count": null,
   "metadata": {
    "id": "TW5upfyvxelp"
   },
   "outputs": [],
   "source": [
    "!mkdir data"
   ]
  },
  {
   "cell_type": "code",
   "execution_count": null,
   "metadata": {
    "id": "ES8Q6jvjEmW6"
   },
   "outputs": [],
   "source": [
    "import requests\n",
    "from bs4 import BeautifulSoup\n",
    "import re\n",
    "import os\n",
    "\n",
    "urls = [\n",
    "    \"https://github.com/VisDrone/VisDrone-Dataset\",\n",
    "    \"https://paperswithcode.com/dataset/visdrone\",\n",
    "    \"https://openaccess.thecvf.com/content_ECCVW_2018/papers/11133/Zhu_VisDrone-DET2018_The_Vision_Meets_Drone_Object_Detection_in_Image_Challenge_ECCVW_2018_paper.pdf\",\n",
    "    \"https://github.com/VisDrone/VisDrone2018-MOT-toolkit\",\n",
    "    \"https://en.wikipedia.org/wiki/Object_detection\",\n",
    "    \"https://en.wikipedia.org/wiki/Computer_vision\",\n",
    "    \"https://en.wikipedia.org/wiki/Convolutional_neural_network\",\n",
    "    \"https://en.wikipedia.org/wiki/Unmanned_aerial_vehicle\",\n",
    "    \"https://www.faa.gov/uas/\",\n",
    "    \"https://www.tensorflow.org/\",\n",
    "    \"https://pytorch.org/\",\n",
    "    \"https://keras.io/\",\n",
    "    \"https://arxiv.org/abs/1804.06985\",\n",
    "    \"https://arxiv.org/abs/2202.11983\",\n",
    "    \"https://motchallenge.net/\",\n",
    "    \"http://www.cvlibs.net/datasets/kitti/\",\n",
    "    \"https://www.dronedeploy.com/\",\n",
    "    \"https://www.dji.com/\",\n",
    "    \"https://arxiv.org/\",\n",
    "    \"https://openaccess.thecvf.com/\",\n",
    "    \"https://roboflow.com/\",\n",
    "    \"https://www.kaggle.com/\",\n",
    "    \"https://paperswithcode.com/\",\n",
    "    \"https://github.com/\"\n",
    "]"
   ]
  },
  {
   "cell_type": "code",
   "execution_count": null,
   "metadata": {
    "colab": {
     "base_uri": "https://localhost:8080/"
    },
    "id": "bfIuA3FAD7Tv",
    "outputId": "879fe057-e7cd-4346-aaae-94f809c429c8"
   },
   "outputs": [
    {
     "name": "stderr",
     "output_type": "stream",
     "text": [
      "WARNING:bs4.dammit:Some characters could not be decoded, and were replaced with REPLACEMENT CHARACTER.\n"
     ]
    },
    {
     "name": "stdout",
     "output_type": "stream",
     "text": [
      "Content(ones that were possible) written to files in the './data/' directory.\n"
     ]
    }
   ],
   "source": [
    "import requests\n",
    "import re\n",
    "import os\n",
    "from bs4 import BeautifulSoup\n",
    "\n",
    "def clean_text(content):\n",
    "    # Remove references and unwanted characters\n",
    "    content = re.sub(r'\\[\\d+\\]', '', content)   # Remove references\n",
    "    content = re.sub(r'[^\\w\\s\\.]', '', content)  # Remove punctuation (except periods)\n",
    "    return content\n",
    "\n",
    "def fetch_and_clean(url):\n",
    "    try:\n",
    "        response = requests.get(url)\n",
    "        response.raise_for_status()  # Raise exception for bad responses (e.g., 404)\n",
    "        soup = BeautifulSoup(response.content, 'html.parser')\n",
    "\n",
    "        # Prioritize \"mw-parser-output\" but fall back to \"content\" class if not found\n",
    "        content = soup.find('div', {'class': 'mw-parser-output'}) or soup.find('div', {'id': 'content'})\n",
    "        if content is None:\n",
    "            return None\n",
    "\n",
    "        # Remove specific sections, including nested ones\n",
    "        for section_title in ['References', 'Bibliography', 'External links', 'See also', 'Notes']:\n",
    "            section = content.find('span', id=section_title)\n",
    "            while section:\n",
    "                for sib in section.parent.find_next_siblings():\n",
    "                    sib.decompose()\n",
    "                section.parent.decompose()\n",
    "                section = content.find('span', id=section_title)\n",
    "\n",
    "        # Extract and clean text\n",
    "        text = content.get_text(separator=' ', strip=True)\n",
    "        text = clean_text(text)\n",
    "        return text\n",
    "    except requests.exceptions.RequestException as e:\n",
    "        print(f\"Error fetching content from {url}: {e}\")\n",
    "        return None  # Return None on error\n",
    "\n",
    "# Directory to store the output files\n",
    "output_dir = './data/'  # More descriptive name\n",
    "os.makedirs(output_dir, exist_ok=True)\n",
    "\n",
    "# Processing each URL (and skipping invalid ones)\n",
    "for url in urls:\n",
    "    article_name = url.split('/')[-1].replace('.html', '')  # Handle .html extension\n",
    "    filename = os.path.join(output_dir, f\"{article_name}.txt\")\n",
    "\n",
    "    clean_article_text = fetch_and_clean(url)\n",
    "    if clean_article_text:  # Only write to file if content exists\n",
    "        with open(filename, 'w', encoding='utf-8') as file:\n",
    "            file.write(clean_article_text)\n",
    "\n",
    "print(f\"Content(ones that were possible) written to files in the '{output_dir}' directory.\")"
   ]
  },
  {
   "cell_type": "code",
   "execution_count": null,
   "metadata": {
    "id": "dRNMEPiAwDPd"
   },
   "outputs": [],
   "source": [
    "# load documents\n",
    "documents = SimpleDirectoryReader(\"./data/\").load_data()"
   ]
  },
  {
   "cell_type": "code",
   "execution_count": null,
   "metadata": {
    "colab": {
     "base_uri": "https://localhost:8080/"
    },
    "collapsed": true,
    "id": "SXntxjTMMt3L",
    "outputId": "10b1a41d-d91b-4531-f9ea-6adb1e03a6d3"
   },
   "outputs": [
    {
     "data": {
      "text/plain": [
       "Document(id_='61e7201d-0359-42b4-9a5f-32c4d67f345e', embedding=None, metadata={'file_path': '/content/data/1804.06985.txt', 'file_name': '1804.06985.txt', 'file_type': 'text/plain', 'file_size': 3700, 'creation_date': '2024-08-09', 'last_modified_date': '2024-08-09'}, excluded_embed_metadata_keys=['file_name', 'file_type', 'file_size', 'creation_date', 'last_modified_date', 'last_accessed_date'], excluded_llm_metadata_keys=['file_name', 'file_type', 'file_size', 'creation_date', 'last_modified_date', 'last_accessed_date'], relationships={}, text='High Energy Physics  Theory arXiv1804.06985 hepth Submitted on 19 Apr 2018 Title A Near Horizon Extreme Binary Black Hole Geometry Authors Jacob Ciafre  Maria J. Rodriguez View a PDF of the paper titled A Near Horizon Extreme Binary Black Hole Geometry by Jacob Ciafre and Maria J. Rodriguez View PDF Abstract A new solution of fourdimensional vacuum General Relativity is presented. It describes the near horizon region of the extreme maximally spinning binary black hole system with two identical extreme Kerr black holes held in equilibrium by a massless strut. This is the first example of a nonsupersymmetric asymptotically flat near horizon extreme binary black hole geometry of two uncharged black holes. The black holes are corotating and the solution is uniquely specified by the mass. The binary extreme system has finite entropy. The distance between the black holes is fixed but there is a zerodistance limit where the objects collapse into one. This limiting geometry corresponds to the near horizon extreme Kerr NHEK black hole. Comments 1 figure Subjects High Energy Physics  Theory hepth  High Energy Astrophysical Phenomena astroph.HE General Relativity and Quantum Cosmology grqc Cite as arXiv1804.06985 hepth or arXiv1804.06985v1 hepth for this version httpsdoi.org10.48550arXiv.1804.06985 Focus to learn more arXivissued DOI via DataCite Related DOI  httpsdoi.org10.1140epjcs1005201971883 Focus to learn more DOIs linking to related resources Submission history From Maria J. Rodriguez  view email  v1 Thu 19 Apr 2018 031545 UTC 173 KB Fulltext links Access Paper View a PDF of the paper titled A Near Horizon Extreme Binary Black Hole Geometry by Jacob Ciafre and Maria J. Rodriguez View PDF TeX Source Other Formats view license Current browse context hepth \\xa0prev  next\\xa0 new  recent  201804 Change to browse by astroph astroph.HE grqc References  Citations INSPIRE HEP NASA ADS Google Scholar Semantic Scholar a export BibTeX citation Loading... BibTeX formatted citation  loading... Data provided by Bookmark Bibliographic Tools Bibliographic and Citation Tools Bibliographic Explorer Toggle Bibliographic Explorer  What is the Explorer  Litmaps Toggle Litmaps  What is Litmaps  scite.ai Toggle scite Smart Citations  What are Smart Citations  Code Data Media Code Data and Media Associated with this Article Links to Code Toggle CatalyzeX Code Finder for Papers  What is CatalyzeX  DagsHub Toggle DagsHub  What is DagsHub  GotitPub Toggle Gotit.pub  What is GotitPub  Links to Code Toggle Papers with Code  What is Papers with Code  ScienceCast Toggle ScienceCast  What is ScienceCast  Demos Demos Replicate Toggle Replicate  What is Replicate  Spaces Toggle Hugging Face Spaces  What is Spaces  Spaces Toggle TXYZ.AI  What is TXYZ.AI  Related Papers Recommenders and Search Tools Link to Influence Flower Influence Flower  What are Influence Flowers  Connected Papers Toggle Connected Papers  What is Connected Papers  Core recommender toggle CORE Recommender  What is CORE  IArxiv recommender toggle IArxiv Recommender  What is IArxiv  Author Venue Institution Topic About arXivLabs arXivLabs experimental projects with community collaborators arXivLabs is a framework that allows collaborators to develop and share new arXiv features directly on our website. Both individuals and organizations that work with arXivLabs have embraced and accepted our values of openness community excellence and user data privacy. arXiv is committed to these values and only works with partners that adhere to them. Have an idea for a project that will add value for arXivs community Learn more about arXivLabs . Which authors of this paper are endorsers  Disable MathJax  What is MathJax ', mimetype='text/plain', start_char_idx=None, end_char_idx=None, text_template='{metadata_str}\\n\\n{content}', metadata_template='{key}: {value}', metadata_seperator='\\n')"
      ]
     },
     "execution_count": 12,
     "metadata": {},
     "output_type": "execute_result"
    }
   ],
   "source": [
    "documents[0]"
   ]
  },
  {
   "cell_type": "markdown",
   "metadata": {
    "id": "rvtrIvyygGte"
   },
   "source": [
    "# Pipeline 2 : Creating and populating a Deep Lake Vector Store\n",
    "\n",
    "**Replace `hub://denis76/drone_v2` by your organization and dataset name**"
   ]
  },
  {
   "cell_type": "code",
   "execution_count": null,
   "metadata": {
    "colab": {
     "base_uri": "https://localhost:8080/"
    },
    "id": "6hoayqOE1kvj",
    "outputId": "acb810ae-99e6-4091-9f1c-98115dcd9a99"
   },
   "outputs": [
    {
     "name": "stdout",
     "output_type": "stream",
     "text": [
      "Your Deep Lake dataset has been successfully created!\n"
     ]
    },
    {
     "name": "stderr",
     "output_type": "stream",
     "text": []
    },
    {
     "name": "stdout",
     "output_type": "stream",
     "text": [
      "Uploading data to deeplake dataset.\n"
     ]
    },
    {
     "name": "stderr",
     "output_type": "stream",
     "text": [
      "100%|██████████| 81/81 [00:00<00:00, 103.82it/s]\n",
      "/"
     ]
    },
    {
     "name": "stdout",
     "output_type": "stream",
     "text": [
      "Dataset(path='hub://denis76/drone_v2', tensors=['text', 'metadata', 'embedding', 'id'])\n",
      "\n",
      "  tensor      htype      shape      dtype  compression\n",
      "  -------    -------    -------    -------  ------- \n",
      "   text       text      (81, 1)      str     None   \n",
      " metadata     json      (81, 1)      str     None   \n",
      " embedding  embedding  (81, 1536)  float32   None   \n",
      "    id        text      (81, 1)      str     None   \n"
     ]
    },
    {
     "name": "stderr",
     "output_type": "stream",
     "text": [
      "\r",
      " \r"
     ]
    }
   ],
   "source": [
    "from llama_index.core import StorageContext\n",
    "\n",
    "vector_store_path = \"hub://denis76/drone_v2\"\n",
    "dataset_path = \"hub://denis76/drone_v2\"\n",
    "\n",
    "# overwrite=True will overwrite dataset, False will append it\n",
    "vector_store = DeepLakeVectorStore(dataset_path=dataset_path, overwrite=True)\n",
    "storage_context = StorageContext.from_defaults(vector_store=vector_store)\n",
    "# Create an index over the documents\n",
    "index = VectorStoreIndex.from_documents(documents, storage_context=storage_context)"
   ]
  },
  {
   "cell_type": "code",
   "execution_count": null,
   "metadata": {
    "colab": {
     "base_uri": "https://localhost:8080/"
    },
    "id": "BLOzm5hfQfq3",
    "outputId": "e2e40e11-9d06-4caf-f0fc-a85c76f142a2"
   },
   "outputs": [
    {
     "name": "stderr",
     "output_type": "stream",
     "text": [
      "/"
     ]
    },
    {
     "name": "stdout",
     "output_type": "stream",
     "text": [
      "This dataset can be visualized in Jupyter Notebook by ds.visualize() or at https://app.activeloop.ai/denis76/drone_v2\n",
      "\n"
     ]
    },
    {
     "name": "stderr",
     "output_type": "stream",
     "text": [
      "\\"
     ]
    },
    {
     "name": "stdout",
     "output_type": "stream",
     "text": [
      "hub://denis76/drone_v2 loaded successfully.\n",
      "\n"
     ]
    },
    {
     "name": "stderr",
     "output_type": "stream",
     "text": [
      "\r",
      " \r",
      "\r",
      "\r"
     ]
    }
   ],
   "source": [
    "import deeplake\n",
    "ds = deeplake.load(dataset_path)  # Load the dataset"
   ]
  },
  {
   "cell_type": "code",
   "execution_count": null,
   "metadata": {
    "id": "LfBNR2xUP8EO"
   },
   "outputs": [],
   "source": [
    "import json\n",
    "import pandas as pd\n",
    "import numpy as np\n",
    "\n",
    "# Assuming 'ds' is your loaded Deep Lake dataset\n",
    "\n",
    "# Create a dictionary to hold the data\n",
    "data = {}\n",
    "\n",
    "# Iterate through the tensors in the dataset\n",
    "for tensor_name in ds.tensors:\n",
    "    tensor_data = ds[tensor_name].numpy()\n",
    "\n",
    "    # Check if the tensor is multi-dimensional\n",
    "    if tensor_data.ndim > 1:\n",
    "        # Flatten multi-dimensional tensors\n",
    "        data[tensor_name] = [np.array(e).flatten().tolist() for e in tensor_data]\n",
    "    else:\n",
    "        # Convert 1D tensors directly to lists and decode text\n",
    "        if tensor_name == \"text\":\n",
    "            data[tensor_name] = [t.tobytes().decode('utf-8') if t else \"\" for t in tensor_data]\n",
    "        else:\n",
    "            data[tensor_name] = tensor_data.tolist()\n",
    "\n",
    "# Create a Pandas DataFrame from the dictionary\n",
    "df = pd.DataFrame(data)"
   ]
  },
  {
   "cell_type": "code",
   "execution_count": null,
   "metadata": {
    "colab": {
     "base_uri": "https://localhost:8080/"
    },
    "id": "irBoyv_tfXjN",
    "outputId": "59f28b32-16ff-407b-a187-36626021cec9"
   },
   "outputs": [
    {
     "name": "stdout",
     "output_type": "stream",
     "text": [
      "ID:\n",
      "['a89cdb8c-3a85-42ff-9d5f-98f93f414df6']\n",
      "\n",
      "Metadata:\n",
      "file_path: /content/data/1804.06985.txt\n",
      "file_name: 1804.06985.txt\n",
      "file_type: text/plain\n",
      "file_size: 3700\n",
      "creation_date: 2024-08-09\n",
      "last_modified_date: 2024-08-09\n",
      "_node_content: {\"id_\": \"a89cdb8c-3a85-42ff-9d5f-98f93f414df6\", \"embedding\": null, \"metadata\": {\"file_path\": \"/content/data/1804.06985.txt\", \"file_name\": \"1804.06985.txt\", \"file_type\": \"text/plain\", \"file_size\": 3700, \"creation_date\": \"2024-08-09\", \"last_modified_date\": \"2024-08-09\"}, \"excluded_embed_metadata_keys\": [\"file_name\", \"file_type\", \"file_size\", \"creation_date\", \"last_modified_date\", \"last_accessed_date\"], \"excluded_llm_metadata_keys\": [\"file_name\", \"file_type\", \"file_size\", \"creation_date\", \"last_modified_date\", \"last_accessed_date\"], \"relationships\": {\"1\": {\"node_id\": \"61e7201d-0359-42b4-9a5f-32c4d67f345e\", \"node_type\": \"4\", \"metadata\": {\"file_path\": \"/content/data/1804.06985.txt\", \"file_name\": \"1804.06985.txt\", \"file_type\": \"text/plain\", \"file_size\": 3700, \"creation_date\": \"2024-08-09\", \"last_modified_date\": \"2024-08-09\"}, \"hash\": \"1836b6d6700887d0252b3ec590cb470ff0ba08031d25a21c3439319dfee98d4e\", \"class_name\": \"RelatedNodeInfo\"}}, \"text\": \"High Energy Physics  Theory arXiv1804.06985 hepth Submitted on 19 Apr 2018 Title A Near Horizon Extreme Binary Black Hole Geometry Authors Jacob Ciafre  Maria J. Rodriguez View a PDF of the paper titled A Near Horizon Extreme Binary Black Hole Geometry by Jacob Ciafre and Maria J. Rodriguez View PDF Abstract A new solution of fourdimensional vacuum General Relativity is presented. It describes the near horizon region of the extreme maximally spinning binary black hole system with two identical extreme Kerr black holes held in equilibrium by a massless strut. This is the first example of a nonsupersymmetric asymptotically flat near horizon extreme binary black hole geometry of two uncharged black holes. The black holes are corotating and the solution is uniquely specified by the mass. The binary extreme system has finite entropy. The distance between the black holes is fixed but there is a zerodistance limit where the objects collapse into one. This limiting geometry corresponds to the near horizon extreme Kerr NHEK black hole. Comments 1 figure Subjects High Energy Physics  Theory hepth  High Energy Astrophysical Phenomena astroph.HE General Relativity and Quantum Cosmology grqc Cite as arXiv1804.06985 hepth or arXiv1804.06985v1 hepth for this version httpsdoi.org10.48550arXiv.1804.06985 Focus to learn more arXivissued DOI via DataCite Related DOI  httpsdoi.org10.1140epjcs1005201971883 Focus to learn more DOIs linking to related resources Submission history From Maria J. Rodriguez  view email  v1 Thu 19 Apr 2018 031545 UTC 173 KB Fulltext links Access Paper View a PDF of the paper titled A Near Horizon Extreme Binary Black Hole Geometry by Jacob Ciafre and Maria J. Rodriguez View PDF TeX Source Other Formats view license Current browse context hepth \\u00a0prev  next\\u00a0 new  recent  201804 Change to browse by astroph astroph.HE grqc References  Citations INSPIRE HEP NASA ADS Google Scholar Semantic Scholar a export BibTeX citation Loading... BibTeX formatted citation  loading... Data provided by Bookmark Bibliographic Tools Bibliographic and Citation Tools Bibliographic Explorer Toggle Bibliographic Explorer  What is the Explorer  Litmaps Toggle Litmaps  What is Litmaps  scite.ai Toggle scite Smart Citations  What are Smart Citations  Code Data Media Code Data and Media Associated with this Article Links to Code Toggle CatalyzeX Code Finder for Papers  What is CatalyzeX  DagsHub Toggle DagsHub  What is DagsHub  GotitPub Toggle Gotit.pub  What is GotitPub  Links to Code Toggle Papers with Code  What is Papers with Code  ScienceCast Toggle ScienceCast  What is ScienceCast  Demos Demos Replicate Toggle Replicate  What is Replicate  Spaces Toggle Hugging Face Spaces  What is Spaces  Spaces Toggle TXYZ.AI  What is TXYZ.AI  Related Papers Recommenders and Search Tools Link to Influence Flower Influence Flower  What are Influence Flowers  Connected Papers Toggle Connected Papers  What is Connected Papers  Core recommender toggle CORE Recommender  What is CORE  IArxiv recommender toggle IArxiv Recommender  What is IArxiv  Author Venue Institution Topic About arXivLabs arXivLabs experimental projects with community collaborators arXivLabs is a framework that allows collaborators to develop and share new arXiv features directly on our website. Both individuals and organizations that work with arXivLabs have embraced and accepted our values of openness community excellence and user data privacy. arXiv is committed to these values and only works with partners that adhere to them. Have an idea for a project that will add value for arXivs community Learn more about arXivLabs . Which authors of this paper are endorsers  Disable MathJax  What is MathJax\", \"mimetype\": \"text/plain\", \"start_char_idx\": 0, \"end_char_idx\": 3697, \"text_template\": \"{metadata_str}\\n\\n{content}\", \"metadata_template\": \"{key}: {value}\", \"metadata_seperator\": \"\\n\", \"class_name\": \"TextNode\"}\n",
      "_node_type: TextNode\n",
      "document_id: 61e7201d-0359-42b4-9a5f-32c4d67f345e\n",
      "doc_id: 61e7201d-0359-42b4-9a5f-32c4d67f345e\n",
      "ref_doc_id: 61e7201d-0359-42b4-9a5f-32c4d67f345e\n",
      "\n",
      "\n",
      "Text:\n",
      "['High Energy Physics  Theory arXiv1804.06985 hepth Submitted on 19 Apr 2018 Title A Near Horizon Extreme Binary Black Hole Geometry Authors Jacob Ciafre  Maria J. Rodriguez View a PDF of the paper titled A Near Horizon Extreme Binary Black Hole Geometry by Jacob Ciafre and Maria J. Rodriguez View PDF Abstract A new solution of fourdimensional vacuum General Relativity is presented. It describes the near horizon region of the extreme maximally spinning binary black hole system with two identical extreme Kerr black holes held in equilibrium by a massless strut. This is the first example of a nonsupersymmetric asymptotically flat near horizon extreme binary black hole geometry of two uncharged black holes. The black holes are corotating and the solution is uniquely specified by the mass. The binary extreme system has finite entropy. The distance between the black holes is fixed but there is a zerodistance limit where the objects collapse into one. This limiting geometry corresponds to the near horizon extreme Kerr NHEK black hole. Comments 1 figure Subjects High Energy Physics  Theory hepth  High Energy Astrophysical Phenomena astroph.HE General Relativity and Quantum Cosmology grqc Cite as arXiv1804.06985 hepth or arXiv1804.06985v1 hepth for this version httpsdoi.org10.48550arXiv.1804.06985 Focus to learn more arXivissued DOI via DataCite Related DOI  httpsdoi.org10.1140epjcs1005201971883 Focus to learn more DOIs linking to related resources Submission history From Maria J. Rodriguez  view email  v1 Thu 19 Apr 2018 031545 UTC 173 KB Fulltext links Access Paper View a PDF of the paper titled A Near Horizon Extreme Binary Black Hole Geometry by Jacob Ciafre and Maria J. Rodriguez View PDF TeX Source Other Formats view license Current browse context hepth \\xa0prev  next\\xa0 new  recent  201804 Change to browse by astroph astroph.HE grqc References  Citations INSPIRE HEP NASA ADS Google Scholar Semantic Scholar a export BibTeX citation Loading... BibTeX formatted citation  loading... Data provided by Bookmark Bibliographic Tools Bibliographic and Citation Tools Bibliographic Explorer Toggle Bibliographic Explorer  What is the Explorer  Litmaps Toggle Litmaps  What is Litmaps  scite.ai Toggle scite Smart Citations  What are Smart Citations  Code Data Media Code Data and Media Associated with this Article Links to Code Toggle CatalyzeX Code Finder for Papers  What is CatalyzeX  DagsHub Toggle DagsHub  What is DagsHub  GotitPub Toggle Gotit.pub  What is GotitPub  Links to Code Toggle Papers with Code  What is Papers with Code  ScienceCast Toggle ScienceCast  What is ScienceCast  Demos Demos Replicate Toggle Replicate  What is Replicate  Spaces Toggle Hugging Face Spaces  What is Spaces  Spaces Toggle TXYZ.AI  What is TXYZ.AI  Related Papers Recommenders and Search Tools Link to Influence Flower Influence Flower  What are Influence Flowers  Connected Papers Toggle Connected Papers  What is Connected Papers  Core recommender toggle CORE Recommender  What is CORE  IArxiv recommender toggle IArxiv Recommender  What is IArxiv  Author Venue Institution Topic About arXivLabs arXivLabs experimental projects with community collaborators arXivLabs is a framework that allows collaborators to develop and share new arXiv features directly on our website. Both individuals and organizations that work with arXivLabs have embraced and accepted our values of openness community excellence and user data privacy. arXiv is committed to these values and only works with partners that adhere to them. Have an idea for a project that will add value for arXivs community Learn more about arXivLabs . Which authors of this paper are endorsers  Disable MathJax  What is MathJax']\n",
      "\n",
      "Embedding:\n",
      "[-0.0009671939187683165, 0.010151553899049759, -0.010979819111526012, -0.003061748342588544, -0.00865076668560505, 0.02144993655383587, -0.01412297785282135, -0.02674516849219799, -0.008693241514265537, -0.03383851423859596, 0.011404570192098618, 0.015956487506628036, -0.013691147789359093, 0.008856062777340412, -0.0082472525537014, 0.01606975495815277, 0.022341914474964142, 0.016805989667773247, 0.02337547577917576, -0.0078012640587985516, -0.01149659976363182, 0.013521247543394566, -0.006845573894679546, -0.007496858946979046, -0.008332203142344952, 0.010632938705384731, 0.01834925264120102, -0.004438650328665972, -0.008339282125234604, -0.022002113983035088, 0.012268231250345707, -0.0019715535454452038, -0.02194548025727272, 0.012997387908399105, -0.008827745914459229, 0.030751988291740417, 0.023177258670330048, 0.004803228657692671, 0.03236604481935501, 0.013068179599940777, 0.015588370151817799, 0.018235985189676285, -0.010604622773826122, -0.01253724005073309, 0.01056214701384306, -0.010278979316353798, 0.0236728023737669, -0.020189842209219933, -0.0016556448535993695, 0.0008326894021593034, 0.027056653052568436, 0.028430014848709106, -0.02540012262761593, 0.0046545653603971004, 0.018051927909255028, -0.02217201329767704, -0.0008685277425684035, 0.01907132938504219, -0.0028299051336944103, -0.010675414465367794, 0.00852334126830101, -0.023290526121854782, -0.008537499234080315, -0.003325448138639331, -0.01629628799855709, -0.006565946154296398, -0.021931322291493416, -0.003932488616555929, -0.012254073284566402, -0.013330109417438507, 0.023616168648004532, 0.01662193052470684, -0.016367081552743912, -0.032479312270879745, 0.023517059162259102, -0.027764571830630302, -0.014243324287235737, -0.0023856861516833305, -0.010852393694221973, -0.0018352792831137776, 0.00713582057505846, 0.004934193566441536, -0.0016892710700631142, 0.017811235040426254, 0.0029856471810489893, -0.005189043935388327, -0.0034174774773418903, 0.027028337121009827, -0.0069765388034284115, -0.010371008887887001, 0.020161524415016174, -0.018136877566576004, 0.02792031317949295, 0.0026564649306237698, -0.0016981200315058231, -0.001020287862047553, 0.007496858946979046, 0.02667437680065632, -0.017004206776618958, -0.015786588191986084, -0.01320976298302412, 0.0025573563762009144, -0.01580074615776539, -0.02060043439269066, -0.017513908445835114, 0.0067924801260232925, -0.010958581231534481, -0.0029608700424432755, 0.006718148477375507, 0.00303697120398283, 0.0048527829349040985, -0.0121620437130332, -0.003316599177196622, -0.0391903817653656, 0.027113286778330803, 0.017230741679668427, 0.015857379883527756, -0.01570163667201996, -0.008636608719825745, -0.013705306686460972, 0.016536980867385864, 0.02671685256063938, -0.0005787235568277538, -0.004116547293961048, 0.01904301345348358, 0.030327238142490387, -0.0020441152155399323, -0.021308353170752525, 0.004452808760106564, -0.018717370927333832, 0.0006835840176790953, 0.016253814101219177, -0.00034975609742105007, 0.02397012710571289, -0.007496858946979046, 0.02472052164375782, -0.04714738577604294, -0.028033580631017685, -0.018235985189676285, -0.035056132823228836, 0.008487945422530174, 0.0313466414809227, -0.013967236503958702, 0.008863142691552639, -0.014653917402029037, 0.026532793417572975, -0.004180260002613068, 0.002051194431260228, 0.0006101374165154994, -0.016267972066998482, 0.005114712752401829, 0.002897157333791256, 0.014115898869931698, 0.01851915381848812, 0.011050610803067684, 0.003070597304031253, -0.017103316262364388, 0.027608830481767654, -0.02439487911760807, -0.049780845642089844, -0.02397012710571289, 0.0024033840745687485, 0.01952439732849598, -0.013719464652240276, 0.03474465012550354, 0.025909824296832085, 0.00607394240796566, 0.005829710513353348, 0.010654176585376263, -0.022186173126101494, -0.01513530220836401, 0.02459309622645378, -0.03137495741248131, -0.017329849302768707, -0.005387261509895325, 0.017627175897359848, 0.023078149184584618, 0.007893294095993042, -0.03533930331468582, -0.0035449028946459293, -0.0022317138500511646, -0.003470571478828788, 0.015418469905853271, 0.029251201078295708, -0.0007521636434830725, 0.012501844204962254, 0.03638702258467674, -0.031176740303635597, 0.016253814101219177, -0.020189842209219933, 0.007263245992362499, 0.02422497794032097, -0.03151654079556465, 0.014512334018945694, -0.6306706070899963, -0.015361836180090904, 0.006859732326120138, -0.025385964661836624, -0.024479828774929047, -0.007096885237842798, 0.00554300332441926, 0.020487166941165924, -0.010753285139799118, 0.018434204161167145, -0.02886892482638359, -8.660942694405094e-05, 0.0014459239318966866, -0.020359741523861885, -0.02011905051767826, -0.011192195117473602, -0.005111173260957003, -0.0033608439844101667, -0.007992402650415897, -0.0027803508564829826, -0.01209833100438118, 0.0028369843494147062, -0.013542485423386097, 0.007153518497943878, 0.022030429914593697, 0.00865076668560505, 0.03454643487930298, -0.015375994145870209, -0.011666500009596348, 0.007114583160728216, -0.009868387132883072, -0.0020175683312118053, -0.003992661368101835, -0.009705565869808197, 0.04745887219905853, -0.05238598585128784, 0.01832093670964241, 0.016735197976231575, 0.011241748929023743, 0.034178316593170166, -0.017556384205818176, -0.004707659594714642, 0.021265877410769463, 0.005886344239115715, -0.0005327088292688131, -0.0033661534544080496, 0.008898538537323475, -0.024210819974541664, -0.009493189863860607, -0.021067660301923752, -0.01655113883316517, 0.012353181838989258, 0.008955171331763268, 0.011829321272671223, 0.005769537296146154, -0.015942329540848732, 0.03672682121396065, -0.015291044488549232, -0.011985063552856445, -0.005107633303850889, -0.009811753407120705, -0.005532384850084782, -0.008544579148292542, -0.019779248163104057, -0.010229425504803658, -0.008162302896380424, -0.015517578460276127, 0.013641593977808952, 0.007631363812834024, 0.018207669258117676, 0.01480965968221426, 0.027424771338701248, -0.023913493379950523, 0.0036917959805577993, 0.026476159691810608, 0.02507448010146618, 0.03556583449244499, -0.004551917314529419, -0.0061164177022874355, 0.007822501473128796, 0.008105669170618057, 0.013202684000134468, -0.01854746975004673, -0.010116158053278923, 0.021237561479210854, 0.00952150672674179, -0.006955301389098167, 0.010831156745553017, 0.0012193899601697922, -0.007808343507349491, 0.012105409987270832, 0.008502103388309479, -0.0015529966913163662, -0.030129021033644676, -0.008148143999278545, 0.021534888073801994, 0.008183540776371956, 0.01737232506275177, 0.01782539300620556, -0.010158633813261986, -0.0021202166099101305, -0.02886892482638359, 0.0061553530395030975, -0.020515484735369682, 0.005167806521058083, 0.009273734875023365, -0.0078012640587985516, -0.03177139163017273, 0.036358706653118134, -0.05207449942827225, -0.008926855400204659, -0.0005313814617693424, -0.024479828774929047, 0.021931322291493416, -0.0010769213549792767, -0.0313466414809227, 0.007447304669767618, 0.007284483406692743, -0.010349771939218044, -0.014144215732812881, 0.045051947236061096, 0.019765090197324753, 0.006024388130754232, 0.0010521442163735628, 0.010477197356522083, 0.008126907050609589, 0.025654973462224007, -0.02459309622645378, -0.05821923539042473, -0.014434462413191795, 0.008558737114071846, 0.017740443348884583, 0.0349428690969944, -0.009422398172318935, 0.04556164890527725, 0.00040638959035277367, 0.02086944319307804, 0.015588370151817799, 0.00333429710008204, -0.022540131583809853, -0.0194252897053957, -0.013917681761085987, 0.012728378176689148, 1.668863114900887e-05, -0.008721558377146721, -0.019609348848462105, -0.006509312428534031, 0.00891269650310278, 0.016678564250469208, -0.004948351997882128, -0.012331943958997726, 0.013075258582830429, -0.0027980487793684006, 0.010717889294028282, -0.0022936565801501274, -0.024253295734524727, -0.004346620757132769, -0.05204618349671364, -0.0036227740347385406, -0.002081281039863825, 0.022030429914593697, 0.020090732723474503, -0.02099686861038208, 0.009210022166371346, 0.007390671409666538, 0.001572464476339519, 0.001373362261801958, 0.01766965165734291, -0.010547989048063755, -0.027325661852955818, -0.010455959476530552, -0.010986898094415665, -0.02752387896180153, -6.526125798700377e-05, -0.02422497794032097, 0.006070402916520834, -0.01674935594201088, -0.009627694264054298, -0.0065376292914152145, 0.005344786215573549, 0.008254332467913628, 0.006597802508622408, -0.04417412728071213, -0.0009406469762325287, 0.014144215732812881, 0.018165193498134613, 0.004785530269145966, -0.0023768371902406216, 0.0024051538202911615, 0.00906135980039835, -0.007195993792265654, 0.034659698605537415, -0.01255847793072462, 0.026108041405677795, -0.017882026731967926, -0.017259057611227036, 0.0011202814057469368, 0.01672104001045227, -0.012197439558804035, 0.02821763977408409, 0.02622130885720253, -0.0013441606424748898, 0.019878357648849487, -0.0074685425497591496, 0.004920035135000944, -0.015616687014698982, 0.008289728313684464, -0.014243324287235737, -4.9803187721408904e-05, -0.00716767692938447, 0.008990568108856678, -0.02844417467713356, -0.005128871183842421, -0.022554289549589157, 0.0077233933843672276, 0.017032524570822716, -0.0013317720731720328, 0.0339517816901207, -0.004190878942608833, 0.014030949212610722, -0.00206181313842535, 0.011454124934971333, 0.013641593977808952, 0.013245158828794956, -0.014682234264910221, -0.007022553589195013, 0.024125870317220688, 0.024678045883774757, 0.011801005341112614, -0.02092607691884041, 0.006275699473917484, 0.00038139120442792773, 0.008388836868107319, -0.003436945378780365, 0.02507448010146618, 0.029874170199036598, 0.005376642569899559, -0.008353441022336483, 0.026207150891423225, 0.002226404380053282, -0.008303886279463768, 0.0010229425970464945, 0.006247382611036301, -0.0028316748794168234, -0.0029679492581635714, -0.005886344239115715, 0.017004206776618958, 0.005783695727586746, 0.0021910083014518023, -0.02194548025727272, -0.015149460174143314, 0.02069954387843609, -0.015857379883527756, 0.03403673321008682, 0.042107004672288895, 0.008728637360036373, -0.006948221940547228, 0.01090902741998434, 0.00660488149151206, 0.020727859809994698, 0.010038287378847599, -0.0007884444785304368, -0.005089935380965471, -0.03131832554936409, 0.019227072596549988, -0.02337547577917576, -0.018434204161167145, -0.003012194065377116, -0.009224181063473225, 0.010746206156909466, -0.020288949832320213, -0.01589985378086567, 0.00906135980039835, -0.006144734565168619, 0.014554808847606182, -0.0022741889115422964, -0.006732306908816099, -0.00492357462644577, 0.028260115534067154, 0.011369174346327782, -0.037434741854667664, -0.03239436075091362, 0.025881508365273476, 0.023290526121854782, 6.338084494927898e-05, -0.009493189863860607, 0.006597802508622408, 0.018363410606980324, 0.008162302896380424, 0.03692504018545151, 0.008183540776371956, -0.016027279198169708, 0.0033396065700799227, -0.01286288257688284, -0.029052983969449997, -0.01952439732849598, 0.02142162062227726, -0.01792450249195099, 0.012133726850152016, -0.005656270310282707, 0.00011924005957553163, -0.0014114129589870572, -0.02149241231381893, 0.004566075745970011, 0.03499950096011162, -0.017740443348884583, 0.00037873649853281677, -0.015729954466223717, -0.012055855244398117, -0.025938142091035843, 0.01090902741998434, -0.012841645628213882, -0.006102259270846844, -0.003829840337857604, -0.005953596439212561, -0.024012602865695953, -0.017315691336989403, 0.017938660457730293, 0.02207290567457676, -0.0008543693693354726, -0.012459369376301765, -0.004498823545873165, -0.018292618915438652, -0.0054792906157672405, 0.06490198522806168, 0.018788162618875504, -0.02210122160613537, 0.01782539300620556, -0.006608420982956886, -0.009769278578460217, 0.005762458313256502, 0.0022246346343308687, 0.007617205381393433, 0.00031546628451906145, 0.026688534766435623, -0.015022034756839275, -0.010958581231534481, 0.012445211410522461, 0.033130597323179245, -0.011609867215156555, 0.0104488804936409, -0.026603585109114647, 0.0022724191658198833, 0.0213933028280735, -0.01597064547240734, 0.005730601958930492, 0.0005663349875248969, 0.012671745382249355, 0.01301154587417841, -0.014568966813385487, 0.02511695586144924, 0.00383337982930243, 0.00021392418420873582, -0.024465670809149742, 0.011078927665948868, -0.0050368416123092175, -0.002741415286436677, -0.005387261509895325, -0.005026222672313452, -0.006880969740450382, 0.03027060441672802, -0.005847408436238766, 0.02227112278342247, -0.02197379618883133, 0.0009043661411851645, 0.002238792832940817, 0.009202943183481693, 0.0013530096039175987, 0.00157777382992208, 0.0013406210346147418, -0.0006096949800848961, 0.02886892482638359, -0.028599916025996208, 0.007603046949952841, 0.016735197976231575, -0.0012176202144473791, -0.01687678135931492, -0.023955969139933586, -0.015206093899905682, 0.012615111656486988, -0.0035112767945975065, -0.019312022253870964, -0.00522444024682045, -0.018306778743863106, -0.00604208605363965, -0.02619299292564392, 0.01786786876618862, 0.01242397353053093, -0.012855803593993187, -0.02474883757531643, -0.02886892482638359, -0.010788680985569954, -0.0173015333712101, 0.006339412182569504, -0.007217231206595898, -0.02397012710571289, -0.03236604481935501, 0.02144993655383587, 0.011418729089200497, -0.004420952405780554, -0.002923704218119383, -0.008841904811561108, -0.012629269622266293, -0.01757054217159748, -0.02779288776218891, 0.00028427361394278705, 0.011531995609402657, -0.02239854820072651, 0.0008499448886141181, 0.003695335704833269, -0.002316663973033428, 0.0009981653420254588, -0.007376512978225946, 0.027807047590613365, -0.0018759845988824964, 0.0026352275162935257, 0.014540649950504303, -0.007426067255437374, 0.008558737114071846, -0.0026830118149518967, 0.013641593977808952, -0.0028476030565798283, -0.004682882223278284, -0.00837467797100544, -0.02119508571922779, -0.005957135930657387, 0.003265275154262781, -0.01051259320229292, 0.012339022941887379, 0.015829062089323997, 0.004544838331639767, 0.023757752031087875, -0.0012592104030773044, -0.016211338341236115, -0.002497183158993721, -0.004091770388185978, 0.0065163918770849705, 0.002461787313222885, 0.010866552591323853, 0.00984714925289154, 0.03324386104941368, 0.015163619071245193, -0.01946776546537876, -0.010746206156909466, 0.004364318680018187, -0.011524916626513004, 0.02031726762652397, 0.007022553589195013, 0.001231778529472649, 0.02276666648685932, -0.012572635896503925, -0.02224280685186386, -0.03627375513315201, 0.005656270310282707, -0.011588629335165024, -0.005327088292688131, 0.0016857314622029662, -0.02227112278342247, -0.030553771182894707, -0.01734400913119316, -0.005157188046723604, -0.015729954466223717, 0.0159989632666111, -0.017089158296585083, 0.016253814101219177, -0.008693241514265537, -0.004704119637608528, -0.011270065791904926, -0.019991625100374222, -0.030638722702860832, -0.02521606534719467, 0.025782398879528046, -0.007695076521486044, -0.005029762629419565, -0.0020087193697690964, -0.013938919641077518, 0.006165971979498863, -0.02474883757531643, -0.02014736644923687, -0.03341376408934593, 0.004831545054912567, 0.0035059673245996237, 0.0313466414809227, 0.0168201494961977, 0.03259257599711418, -0.0048917182721197605, 0.00997457467019558, 0.0437493771314621, 0.012027539312839508, 0.006693371571600437, 0.007245548069477081, 0.008027798496186733, -0.013252238743007183, 0.013818573206663132, 0.021478254348039627, -0.008622449822723866, -0.006466837599873543, -0.03160149231553078, 0.012813328765332699, 0.024338245391845703, 0.01567332074046135, 0.0007760559092275798, -0.002323743188753724, -0.05538756027817726, -0.00867200456559658, -0.013344267383217812, 0.0032210301142185926, -0.005298771429806948, -0.04292818903923035, -0.025088639929890633, 0.010965661145746708, 0.006859732326120138, 0.010491355322301388, -0.0049094161950051785, 0.019312022253870964, -0.009337447583675385, 0.019665982574224472, 0.001921999268233776, 0.03576405346393585, -0.03131832554936409, -0.006820796988904476, -0.0012185050873085856, 0.013025704771280289, 0.021888846531510353, 0.001964474329724908, 0.02364448457956314, 0.012813328765332699, -0.02309230901300907, 0.016805989667773247, -0.0022494117729365826, 0.010625859722495079, 0.004771372303366661, -0.014476937241852283, -0.018618261441588402, -0.0015494570834562182, -0.03386683017015457, -0.001937927445396781, -0.016112230718135834, -0.02017568238079548, 0.014512334018945694, -0.00014921599358785897, 0.030327238142490387, -0.021563204005360603, -0.008764033205807209, 0.0009021539008244872, 0.011829321272671223, 0.03834087774157524, 0.015956487506628036, 0.028599916025996208, 0.04420244321227074, 0.010944423265755177, -0.01513530220836401, 0.01236026082187891, -0.011170957237482071, 0.01348585169762373, 0.025102797895669937, 0.012855803593993187, -0.03604722023010254, -0.027028337121009827, 0.028699025511741638, 0.004243972711265087, -0.025060322135686874, -0.037802860140800476, 0.0208977609872818, -0.022964883595705032, 0.01919875480234623, -0.00044775858987122774, -0.0004369185771793127, -0.020784493535757065, -0.010094921104609966, -0.007588888518512249, 0.012154964730143547, -0.018434204161167145, -0.005974833853542805, -0.0032723541371524334, 0.020402217283844948, -0.0015591909177601337, 0.0395018644630909, 0.013938919641077518, -0.020515484735369682, 0.009287893772125244, -0.01400971133261919, -0.004619169514626265, 0.00793576892465353, -0.020954394713044167, 0.038029395043849945, -0.021067660301923752, 0.000429396954132244, 0.01759885996580124, -0.001705199247226119, -0.005323548801243305, -0.028557440266013145, -0.0018405886366963387, 0.02756635472178459, 0.001242397353053093, -0.008105669170618057, -0.008622449822723866, -0.027155762538313866, 0.008141065016388893, 0.004735975991934538, 0.0008747220854274929, 0.0017299763858318329, 0.011864718049764633, 0.011652342043817043, 0.011701895855367184, 0.02304983325302601, 0.005295231938362122, -0.01570163667201996, 0.004792609717696905, -0.005521765910089016, -0.026504477486014366, 0.00545451370999217, -0.014979559928178787, -0.03822761029005051, -0.0349428690969944, -0.00831096526235342, -0.0012185050873085856, 0.012664665468037128, 0.0011255907593294978, -0.007369433995336294, -0.010533830150961876, 0.025754082947969437, -0.02262508124113083, 0.011185115203261375, 0.0269433856010437, 0.020104890689253807, -0.028033580631017685, -0.0039431070908904076, -0.00015828620234970003, 0.026589427143335342, 0.015475102700293064, -0.007411908823996782, -0.003590917680412531, -0.02916625142097473, -0.0028086674865335226, 0.02044469304382801, 0.014257483184337616, 0.0043607791885733604, -0.005277534015476704, 0.006063323933631182, 0.010363929904997349, -0.016367081552743912, -0.0008256101864390075, 0.03539593517780304, -0.009606457315385342, -0.0042156558483839035, -0.008778192102909088, -0.016211338341236115, 0.006477456074208021, -0.006038546562194824, -0.007808343507349491, -0.00637480802834034, -0.020911918953061104, 0.006739386357367039, -0.0017848400166258216, 0.0034935788717120886, -0.021478254348039627, -0.020260633900761604, -0.020855285227298737, -0.021039344370365143, -0.028076056391000748, -0.0008026028517633677, 0.01597064547240734, 0.012218677438795567, 0.009889624081552029, 0.026688534766435623, -0.009875466115772724, -0.0038015234749764204, -0.005709364544600248, -0.0073198797181248665, 0.01687678135931492, 0.015829062089323997, -0.055727362632751465, -0.002769731916487217, 0.0034829601645469666, 0.03131832554936409, 0.008218936622142792, -0.03109179064631462, 0.008969330228865147, -0.029902486130595207, -0.012381498701870441, 0.021308353170752525, -0.01570163667201996, 0.0192695464938879, 0.019481923431158066, 1.166959737020079e-05, 0.025909824296832085, 0.03732147440314293, 0.021053502336144447, 0.030582088977098465, 0.01112140342593193, 0.0056244139559566975, -0.0029113157652318478, 0.009917940944433212, 0.016905099153518677, -0.021308353170752525, -0.04590144753456116, -0.0011875336058437824, 0.03692504018545151, 0.011128482408821583, 0.017414800822734833, 0.042333539575338364, 0.009606457315385342, 0.0032688146457076073, 0.03259257599711418, -0.011977984569966793, -0.003323678392916918, 0.017683809623122215, 0.006357110105454922, -0.06592138856649399, -0.02292240783572197, 0.004912955686450005, -0.003748429473489523, -0.025414282456040382, 0.00011879760859301314, 0.011956746689975262, 0.0015981264878064394, 0.011723133735358715, -0.008516262285411358, -0.020076574757695198, 0.017414800822734833, -0.04151235148310661, 0.03046882152557373, 0.016211338341236115, 0.007100424729287624, 0.028415856882929802, 0.030638722702860832, -0.010229425504803658, 0.002049424685537815, 0.006477456074208021, -0.01655113883316517, 0.0022582607343792915, 0.0063004763796925545, -0.017089158296585083, 0.02014736644923687, -0.01687678135931492, 0.010257742367684841, -0.01030021719634533, 0.013294713571667671, -0.03213950991630554, -0.0230215173214674, -0.02017568238079548, 0.021931322291493416, 0.01524856872856617, -0.02827427349984646, -0.019835881888866425, 0.01064709760248661, -0.009656011126935482, 0.015914011746644974, 0.009231260046362877, -0.014356591738760471, -0.006250922102481127, 0.01183640118688345, -0.0008654306293465197, -0.017952818423509598, -0.00997457467019558, 0.020756175741553307, 0.008339282125234604, 0.0017379404744133353, 0.014894609339535236, 0.18655073642730713, -0.021832212805747986, 0.01802361011505127, 0.01472470909357071, -0.03148822486400604, -0.008402994833886623, 0.013089416548609734, 0.006286317948251963, -0.0029307834338396788, 0.021832212805747986, 0.007256167009472847, 0.00973388273268938, -0.009627694264054298, -0.0017308612586930394, 0.02634873427450657, -0.02827427349984646, -0.031205056235194206, -0.023078149184584618, -0.002054734155535698, -0.007305721286684275, -0.006689831614494324, 0.02177557907998562, -0.008240173570811749, -0.00963477324694395, 0.02801942266523838, -0.023559534922242165, -0.013450455851852894, -0.02214369736611843, -0.002214015694335103, -0.006750004831701517, -0.01567332074046135, -0.024635571986436844, 0.02677348628640175, -0.004944812040776014, -0.0046368674375116825, 0.014207928441464901, 0.02507448010146618, 0.014413224533200264, 0.010852393694221973, 0.02399844489991665, -0.008360520005226135, 0.0016069754492491484, 0.006891588680446148, -0.014568966813385487, 0.01589985378086567, 0.010923185385763645, -0.0062438431195914745, 0.007482700981199741, -0.008169381879270077, 0.0033519950229674578, -0.022554289549589157, -0.0014689313247799873, 0.03667018935084343, 0.03140327334403992, -0.013082337565720081, -0.01512114331126213, -0.0027042494621127844, 0.010356850922107697, 0.0012592104030773044, 0.02256844937801361, -0.022087063640356064, 0.012494765222072601, -0.006796019617468119, 0.04154067113995552, -0.007511017378419638, 0.015220251865684986, -0.010618780739605427, -0.016154704615473747, 0.010491355322301388, -0.020812809467315674, 0.015305202454328537, -0.01546094473451376, -0.014016790315508842, -0.018391728401184082, -0.014328274875879288, -0.020034098997712135, 0.007227850146591663, -0.008226015605032444, 0.01727321743965149, 0.02549923211336136, 0.014391987584531307, -0.012070014141499996, 0.020911918953061104, -0.020104890689253807, -0.020034098997712135, -0.04414581134915352, 0.0026016011834144592, 0.005971294362097979, -0.01782539300620556, -0.009302051737904549, 0.000308387097902596, 0.019708456471562386, -0.00923833902925253, -0.011312540620565414, 0.00551114697009325, -0.004874020349234343, -0.020529642701148987, -0.0064986939541995525, -0.044853728264570236, 0.012466448359191418, -0.014767183922231197, 0.044882047921419144, -0.0022405628114938736, -0.010477197356522083, 0.003456413047388196, -0.013315950520336628, 0.0020370359998196363, 0.008941013365983963, 0.02639121003448963, -0.013025704771280289, 0.02001994103193283, -0.02077033556997776, -0.007426067255437374, -0.004962509963661432, 0.005387261509895325, 0.023276368156075478, 0.018066085875034332, -0.015517578460276127, -0.011581550352275372, -0.02324805036187172, -0.008693241514265537, -0.023078149184584618, 0.0020441152155399323, 0.0012707140995189548, -0.0076526012271642685, -0.031431589275598526, -0.011942588724195957, -0.011029373854398727, -0.01786786876618862, -0.014469858258962631, 0.009471951983869076, -0.01694757305085659, 0.04026641696691513, -0.004845703486353159, 0.008870221674442291, 0.0017795306630432606, 0.01301154587417841, -0.027651304379105568, -0.02001994103193283, 0.010392246767878532, -0.01209833100438118, -0.005227979738265276, 0.005642112344503403, 0.004410333465784788, 0.022639241069555283, -0.03924701362848282, 0.02452230453491211, -0.017400642856955528, -0.006608420982956886, -0.02144993655383587, -0.014328274875879288, -0.006233224179595709, -0.005847408436238766, 0.0028440633323043585, 0.013167288154363632, -0.016636090353131294, -0.025612499564886093, -0.05176301673054695, -0.0009247187990695238, 0.003815681906417012, -0.029562685638666153, 0.010215266607701778, 0.00976219866424799, -0.021803896874189377, -0.005068697966635227, -0.003444024594500661, -0.18292619287967682, 0.003574989503249526, 0.018037768080830574, -0.00852334126830101, 0.016310447826981544, 0.02455062046647072, 0.009599377401173115, 0.008254332467913628, -0.009422398172318935, -0.0015556514263153076, 0.01348585169762373, -0.001224699430167675, -0.015163619071245193, -0.019864199683070183, 0.022186173126101494, -0.0030936046969145536, -0.0012114258715882897, 0.0017476743087172508, 0.014993717893958092, 0.005206742323935032, 0.014639759436249733, -0.03129000589251518, 0.045731548219919205, 0.004074071999639273, 0.006803098600357771, 0.008388836868107319, -0.007195993792265654, 0.035707421600818634, 0.0014591974904760718, 0.002982107689604163, 0.01032145507633686, -0.007808343507349491, 0.03757632523775101, 0.0037838255520910025, 0.010675414465367794, 0.007072107866406441, -0.014625600539147854, 0.020784493535757065, -0.019255388528108597, 0.008884379640221596, 0.04057789966464043, -0.01240981463342905, -0.006817257031798363, -0.007617205381393433, -0.021860530599951744, 0.01597064547240734, 0.0018388188909739256, -0.0003327218000777066, 0.006176590919494629, -0.0346030667424202, 0.004151943139731884, -0.035056132823228836, 0.019864199683070183, 0.010795759968459606, 0.018108559772372246, -0.005132410675287247, -0.023729436099529266, 0.025428440421819687, 0.006130576133728027, -0.007114583160728216, -0.02896803431212902, -0.013393822126090527, -0.00262814830057323, -0.012119567953050137, 0.013082337565720081, -0.028500806540250778, 0.017740443348884583, -0.007829581387341022, -0.024380721151828766, -0.010894868522882462, -0.016805989667773247, -0.012112488970160484, 0.0018936825217679143, 0.0006782746058888733, 0.012869962491095066, 0.020260633900761604, -0.02639121003448963, 0.00826141145080328, 0.010243583470582962, -0.0061164177022874355, -0.005323548801243305, 0.011178036220371723, -0.011985063552856445, -0.008778192102909088, 0.00696238037198782, -0.008551658131182194, -0.02674516849219799, -0.00964893214404583, -0.0041059283539652824, -0.00548637006431818, 0.010859472677111626, -0.029279518872499466, 0.016777673736214638, -0.020713701844215393, 0.01030021719634533, -0.0028476030565798283, -0.007794185075908899, -0.00826141145080328, 0.018051927909255028, -0.006711069494485855, 0.0417955219745636, 0.015404311008751392, -0.006650896277278662, -0.007921610027551651, 0.029930803924798965, 0.008870221674442291, -0.02664606086909771, 0.02017568238079548, 0.04428739473223686, -0.009939178824424744, -0.012346101924777031, -0.0039431070908904076, 0.02099686861038208, 0.010519672185182571, 0.004017438739538193, 0.021690629422664642, 0.007178295869380236, -0.023701118305325508, 0.012523082084953785, -0.009988732635974884, 0.041653938591480255, -0.0022688794415444136, -0.04598639905452728, 0.010470117442309856, -0.012728378176689148, -0.021166769787669182, -0.10103415697813034, -0.017910342663526535, -0.0013423908967524767, 0.012997387908399105, 0.0013326569460332394, 0.006742925848811865, -0.00943655613809824, -0.009422398172318935, -0.009932099841535091, 0.030610404908657074, -0.027707938104867935, -0.01734400913119316, -0.003723652334883809, 0.009769278578460217, -0.00022830379020888358, -0.012070014141499996, 0.005974833853542805, -0.021563204005360603, -0.004020978230983019, 0.01557421125471592, 0.003858156967908144, -0.004626248963177204, -0.01400971133261919, 0.006781861186027527, 0.01737232506275177, 0.0016414865385740995, -0.02524438127875328, 0.028585758060216904, 0.013138971291482449, -0.00657302513718605, -0.015715794637799263, -3.9792776078684255e-05, -0.013025704771280289, -0.024961214512586594, -0.017952818423509598, -0.016140546649694443, 0.002605140907689929, -0.0013999092625454068, 0.012629269622266293, -0.03961513191461563, 0.0022794981487095356, 0.025187747552990913, 0.02334715984761715, 0.005684587173163891, -0.008898538537323475, -0.014908768236637115, -0.023191416636109352, 0.021265877410769463, -0.0036493209190666676, -0.006640277337282896, -0.0236728023737669, -0.01214788481593132, -0.028387540951371193, 0.0033927003387361765, 0.031459908932447433, -0.018066085875034332, 0.012310706079006195, 0.021138451993465424, -0.012303627096116543, -0.003070597304031253, -0.015659162774682045, 0.022681714966893196, -0.0014370749704539776, 0.026037249714136124, 0.019142121076583862, 0.016763515770435333, -0.02347458526492119, -0.028061898425221443, -0.003336066845804453, -0.021265877410769463, -0.013138971291482449, 0.032281093299388885, 0.003300671000033617, 0.001353894593194127, -0.019127963110804558, -0.012636348605155945, -0.024210819974541664, -0.020855285227298737, 0.004289987497031689, -0.019934991374611855, -0.019439447671175003, -0.025428440421819687, 0.00018881518917623907, -0.0097975954413414, -0.0007353505352512002, 0.01168773788958788, 0.005613795481622219, -0.002176850102841854, 0.0362454392015934, -0.03262089565396309, 0.01500787679105997, 0.03893553093075752, 0.021789737045764923, -0.039954930543899536, 0.008204777725040913, 0.00315554765984416, 0.016791831701993942, -0.010689572431147099, 0.014349512755870819, -0.007942847907543182, -0.04714738577604294, 0.015361836180090904, -0.06308971345424652, 0.045703232288360596, 0.023290526121854782, -0.02011905051767826, -0.02867070771753788, -0.03768959268927574, 0.015602528117597103, 0.0043820166029036045, -0.014710551127791405, 0.018207669258117676, -0.01168773788958788, 0.0046368674375116825, -0.010916106402873993, -0.032082874327898026, -0.021308353170752525, -0.03406504914164543, -0.0016680334229022264, 0.00028338871197775006, 0.008126907050609589, 0.0063004763796925545, 0.0068986676633358, 0.01874568685889244, 0.021435778588056564, 0.02554170787334442, -0.01422208733856678, 0.018731528893113136, -0.03389514610171318, 0.023729436099529266, -0.0018618261674419045, -0.015659162774682045, 0.025966458022594452, -0.02572576515376568, 0.01097274012863636, 0.04794025421142578, 0.001775106182321906, -0.007539334241300821, 0.003164396621286869, 0.004643946886062622, 0.02174726314842701, 0.04728896915912628, -0.03148822486400604, -0.03414999693632126, -0.011170957237482071, 0.006165971979498863, 0.02474883757531643, 0.03471633419394493, 0.009613536298274994, 0.011666500009596348, 0.016933415085077286, 0.00039311611908487976, 0.02719823643565178, 0.022228647023439407, -0.0043607791885733604, -0.039558496326208115, -0.0009264886029995978, 0.0027909695636481047, -0.03431989997625351, -0.00019213356426917017, 0.008863142691552639, -0.005015604197978973, 0.04522184655070305, 0.010073683224618435, 0.01825014501810074, -0.013004466891288757, 0.030525455251336098, 0.001964474329724908, -0.01114971935749054, -0.01374778151512146, 0.004512981977313757, -0.03426326438784599, -0.014363670721650124, 0.00607394240796566, 0.004183799494057894, 0.03757632523775101, -0.005953596439212561, -0.026263784617185593, -0.017613017931580544, 0.017188265919685364, -0.005196123383939266, -0.0019308483460918069, 0.007411908823996782, -0.011291303671896458, -0.017584700137376785, -0.01268590334802866, 0.02697170339524746, 0.006473916582763195, -0.006969459820538759, 0.010257742367684841, -0.001285757403820753, 0.01894390396773815, 0.005500528495758772, 0.022087063640356064, 0.010979819111526012, 0.014448621310293674, 0.0038121421821415424, 0.006817257031798363, -0.005815552081912756, -0.025711607187986374, 0.031629808247089386, 0.011581550352275372, 0.016211338341236115, 0.007971164770424366, 0.0017087387386709452, -0.026787644252181053, -0.01090902741998434, 0.01972261443734169, -0.027637146413326263, -0.03279079496860504, 0.007040251512080431, 0.009932099841535091, 0.01242397353053093, -0.0017680269666016102, 0.012544319964945316, 0.019609348848462105, -0.031658124178647995, 0.02534349076449871, -0.012331943958997726, -0.024281611666083336, 0.0014406145783141255, 0.031431589275598526, 0.00433600228279829, 0.0051253316923975945, 0.017966976389288902, 0.005904042162001133, 0.021081820130348206, 0.02347458526492119, 0.04171057045459747, -0.01240981463342905, 0.015715794637799263, -0.03644365444779396, 0.0164945051074028, -0.005730601958930492, -0.005705825053155422, 0.0024370101746171713, -0.03986998274922371, -0.005111173260957003, 0.008431311696767807, -0.00858705397695303, 0.028812291100621223, 0.09440804272890091, 0.01907132938504219, -0.0007057064794935286, 0.030157336965203285, -0.02540012262761593, 0.021591519936919212, 0.01832093670964241, -0.003436945378780365, -0.00834636203944683, -0.06999900192022324, -0.014823817647993565, -0.01229654811322689, 0.012565556913614273, -0.042531754821538925, 0.0010636479128152132, 0.014229166321456432, -0.014738867990672588, 0.012091252021491528, -0.030950205400586128, -0.018080243840813637, 0.006442060228437185, -0.013669909909367561, 0.032479312270879745, 0.009861307218670845, -0.028401698917150497, 0.02011905051767826, 0.012140805833041668, 0.02132251113653183, 0.011531995609402657, -0.003829840337857604, -0.00604916550219059, 0.007029633037745953, -0.0319979265332222, -0.030950205400586128, -0.001359203946776688, -0.017485592514276505, -0.01842004433274269, -0.0014229166554287076, 0.04117255285382271, 0.011262986809015274, 0.007560571655631065, 0.029477735981345177, -0.009740961715579033, -0.01587153784930706, -0.009443636052310467, -0.0073977503925561905, -0.007153518497943878, 0.007567651104182005, -0.03924701362848282]\n",
      "\n"
     ]
    }
   ],
   "source": [
    "# Function to display a selected record\n",
    "def display_record(record_number):\n",
    "    record = df.iloc[record_number]\n",
    "    display_data = {\n",
    "        \"ID\": record.get(\"id\", \"N/A\"),\n",
    "        \"Metadata\": record.get(\"metadata\", \"N/A\"),\n",
    "        \"Text\": record.get(\"text\", \"N/A\"),\n",
    "        \"Embedding\": record.get(\"embedding\", \"N/A\")\n",
    "    }\n",
    "\n",
    "    # Print the ID\n",
    "    print(\"ID:\")\n",
    "    print(display_data[\"ID\"])\n",
    "    print()\n",
    "\n",
    "    # Print the metadata in a structured format\n",
    "    print(\"Metadata:\")\n",
    "    metadata = display_data[\"Metadata\"]\n",
    "    if isinstance(metadata, list):\n",
    "        for item in metadata:\n",
    "            for key, value in item.items():\n",
    "                print(f\"{key}: {value}\")\n",
    "            print()\n",
    "    else:\n",
    "        print(metadata)\n",
    "    print()\n",
    "\n",
    "    # Print the text\n",
    "    print(\"Text:\")\n",
    "    print(display_data[\"Text\"])\n",
    "    print()\n",
    "\n",
    "    # Print the embedding\n",
    "    print(\"Embedding:\")\n",
    "    print(display_data[\"Embedding\"])\n",
    "    print()\n",
    "\n",
    "# Function call to display a record\n",
    "rec = 0  # Replace with the desired record number\n",
    "display_record(rec)"
   ]
  },
  {
   "cell_type": "markdown",
   "metadata": {
    "id": "MAdhB_6Ap-6C"
   },
   "source": [
    "# Original documents"
   ]
  },
  {
   "cell_type": "code",
   "execution_count": null,
   "metadata": {
    "id": "7T5fIdlDp-6C"
   },
   "outputs": [],
   "source": [
    "# Ensure 'text' column is of type string\n",
    "df['text'] = df['text'].astype(str)\n",
    "# Create documents with IDs\n",
    "documents = [Document(text=row['text'], doc_id=str(row['id'])) for _, row in df.iterrows()]"
   ]
  },
  {
   "cell_type": "markdown",
   "metadata": {
    "id": "LUkP-cuv9blu"
   },
   "source": [
    "# Pipeline 3:Index-based RAG"
   ]
  },
  {
   "cell_type": "markdown",
   "metadata": {
    "id": "KXtVtTxPZCkC"
   },
   "source": [
    "## User input and RAG parameters"
   ]
  },
  {
   "cell_type": "code",
   "execution_count": null,
   "metadata": {
    "id": "qwOHg08CZENh"
   },
   "outputs": [],
   "source": [
    "user_input=\"How do drones identify vehicles?\"\n",
    "\n",
    "#similarity_top_k\n",
    "k=3\n",
    "#temperature\n",
    "temp=0.1\n",
    "#num_output\n",
    "mt=1024"
   ]
  },
  {
   "cell_type": "markdown",
   "metadata": {
    "id": "IieaLOBFSkgy"
   },
   "source": [
    "## Cosine similarity metric"
   ]
  },
  {
   "cell_type": "code",
   "execution_count": null,
   "metadata": {
    "id": "Zbn2Ci2PazeO"
   },
   "outputs": [],
   "source": [
    "from sklearn.feature_extraction.text import TfidfVectorizer\n",
    "from sklearn.metrics.pairwise import cosine_similarity"
   ]
  },
  {
   "cell_type": "code",
   "execution_count": null,
   "metadata": {
    "colab": {
     "base_uri": "https://localhost:8080/",
     "height": 425,
     "referenced_widgets": [
      "02a9765b794e4e70b07a3a4ec8ecb997",
      "63b464fe718d475c82a783c576e4e7e4",
      "d0fe22d5e8454ed4b9e997c7efc2f3d7",
      "5fbaa6d4aca844ba919022644923163f",
      "b5a10ec452f84dd9860b2be34d7c97ea",
      "bc9cbb1bb3b54520a824af2995c89959",
      "e4ae9e6d4ba345389efe85273eac0886",
      "9401caf6be2d4dfab10307bacfeb602c",
      "13921712c22b4877835cbd4b23adc8db",
      "1fe9c1d04a9741c0b4369e5838c8ae01",
      "41c34e2632f04aa2a67cc1578e37c348",
      "19029ea522324617bb7913e72377bf62",
      "34ed6c11d7c7436083e20ad66abb3fc1",
      "608c011bd4054134bba8a16541511b62",
      "0f82b4d09a28415eb5fec3ede7070b8b",
      "44d9968e0fa64183a5f608b6b8f33498",
      "ba5d71929e2e4528b255208f25f5a748",
      "46d6352d9a77487288cc0dcb7a5a0e48",
      "214ac2d8f151418dac7da8c3368fdee8",
      "e6e92bbf6789468b97da705bb0cc9bd3",
      "f5b52141dab24c5cbbed6a498612429c",
      "5bf1dbb8810940b7b87a5b587926d838",
      "2154484deed74dd08cfb3e8f04927d7e",
      "f24c673424594b7eb6f0ffe39bf69513",
      "bb8a471f3f684d928f925cb24317c2ba",
      "ac0d11fd90f849c792120c73414a8a1e",
      "8cd07f233f3f4f2b9ae9db13c757cd18",
      "7a291b08b1064f0f8077516aae4f5497",
      "34b402eb223a4fd79dffd0ca19c63c06",
      "8f7f82ce282645588e418fcf9cbc7c8f",
      "216785bb035b45ebb02ed0547ff42577",
      "7501b02d23c046639cf8b29c1df85db9",
      "f02adcd093944909afc1386974420214",
      "dbb0fe24e6284d9287bf073162428858",
      "932f521dbd214f2486d5e536098e3066",
      "4f1c192e224e4f8784150ae234f263fc",
      "0c37310991754eff8d567074c875c31a",
      "d7c5adee1e594b5eb2991bdd8d0771ec",
      "127dfa2057be45bbb1c521766d85e145",
      "924c2616ea844674ac439246d2e6a934",
      "d255872d231245c09663fb2f6676fad4",
      "27a092a272a54683a170ffa799f01611",
      "2fda031473724105a01ed00d38737afd",
      "19b056141d144c03bdd2722eafe83afd",
      "5eb7a4237e1040c9afe090c33faa1a89",
      "b8104bab44ab419d823447bf35833574",
      "7813436562104d8db92758afa7df9a0f",
      "377e04ba9541484c813431660bc2adda",
      "ad742bbb70fc4693924c5419d6403ec6",
      "25f95dbdedcc4e7c91b5d2951d025619",
      "d2c3eb2cfb0344ff839a01dfc6c50ee3",
      "5576fdd1d934469a99e9e3e21454f0f3",
      "71384876baf34c47b389b4696f94e4c2",
      "e317caf2f64d4023a6166fec375270fb",
      "feda893ba90445a89c693c80d53a6e6c",
      "067d4c1d55954e9ca6d238eff7f61842",
      "e977817388dd436d828608b12c091248",
      "8d62e32492f04f55ae67425c2fcf512c",
      "bcf6ae696e9b4c098a5c48b6f3b5140c",
      "5f12cb2e604e4bf18a085fb68a873f74",
      "de2e663dcc6445d698aa7c58affc134f",
      "53b7210c68954e5eb29ecc9785d1a2e8",
      "096a6a46299547dcb839445fc3fa3181",
      "401a8e15c8454be3bae1049eb4e606ed",
      "33c8476d2f9f42ae976c3953e9ff4efb",
      "9afdc547fb48476ebf8528a31701d6fe",
      "3eda09f6739846c28d84eaa5de971841",
      "4975186362f74f70a5e26a67a256ff1f",
      "1f3854ce54dc4f3e86de64e3bdc19c04",
      "55081fab141f4b6ab9783100a448b3f2",
      "2c6cd21e0d9b4d66a103421f6afb6313",
      "c5342e7d723a477dacc312b887385dfd",
      "b3dcd109c3954f26a0717e6f706cbdf0",
      "490b14c2be0c49b59d1236fa4abcdfc4",
      "5e925b068ff24337b56fde07d5467bea",
      "994ae56df4bc4b6f9a9516324ed68b51",
      "1e435a788e214f04a329ee79c182e3fb",
      "a4e8a75150dc4e2d9e1be17cb62181a5",
      "b5b1d30a0d93410ba36f92cddcf429c6",
      "b97ace6eae7f469eb3fe3efd2dd8ff85",
      "aeb9921a5fde4934ad9924596ab775b3",
      "6e0e7ff854574b67ba5af1ecf59234dd",
      "1a2cce0cb2354b5fb8c2e92ab221b77e",
      "502332806e7b4ead99ce3e41a35551c3",
      "174ee1af6f7441ffbaf6d61b6ff97633",
      "bb2285cb20574fefb14c67e1be5dd117",
      "61884f59a60247878582db0b73ea670a",
      "310fe91747ff4c1bb1f4552ed311c1db",
      "738b6445e5fb442eb6a286ddde9e4bbd",
      "f14ad13dcf2d4784a3497263e3e7c950",
      "fced669b5cd74a888422b289cc12bef6",
      "66d738a42f064b618349aefcf490aac9",
      "f4a66e78d5cb415a92a2a2236074c6d9",
      "7bb9d91b8cd74f2e9d429d94a115fc63",
      "ef78e20fec0f4273bec3c2db965995c5",
      "34d3c9c19bfa469f9f1f46ad4312c6ec",
      "5f29a32353f642e39372ac17a6adb6c3",
      "1d191169bd5e476da884d5649651e3a5",
      "75620be3f4ad4d1e99809d1086c0e3ee",
      "d75aa15469a04c7798958b07e649e4da",
      "34f196b7436f491299089297187fd827",
      "9fa183e9c3c94babb647a23bbc1e96b1",
      "5dbde136c0454bc1aea9b692f496a764",
      "c8da0f4957194ce69b23aca2c882eb72",
      "fa5cc8cb8486411487895e0cf9e762c1",
      "e9fcd26342844355b5dfad06906a9af1",
      "1eeb9a3cff5d4545b58f95c5086faff1",
      "ac3e39a29c65480e8789793be7325372",
      "b33e50a221dc44a8a6b1f3cd9ddf9bbb",
      "1b69d3cc7c5a4f1387e29cfe6b68092f",
      "45603466a3b34112a3a3f92988f05300",
      "69d6da3a3d7c45c382d92a52569b92eb",
      "f21888b569e14b09980463cdcc480bda",
      "57b56f88e61a48059900dd87a19b6464",
      "27c3b9298cf64d3bbda0bd106b23e6ff",
      "1de799b71c5441e498cd8d43d45b8366",
      "2b7956880e364a01907fd4633d349257",
      "07670af9cfd3490bac902eae4afa8366",
      "89e6fd130be14dee8ed5d6aa40d99fdf",
      "bace242e7f7148fc98fc0624b29d60ff",
      "2ed533c6085c40b8b3c1d71895fd8f8e"
     ]
    },
    "id": "TorTwpZiSqGX",
    "outputId": "700ad758-c89c-488f-d8c0-0d1575c1433c"
   },
   "outputs": [
    {
     "name": "stderr",
     "output_type": "stream",
     "text": [
      "/usr/local/lib/python3.10/dist-packages/sentence_transformers/cross_encoder/CrossEncoder.py:11: TqdmExperimentalWarning: Using `tqdm.autonotebook.tqdm` in notebook mode. Use `tqdm.tqdm` instead to force console mode (e.g. in jupyter console)\n",
      "  from tqdm.autonotebook import tqdm, trange\n"
     ]
    },
    {
     "data": {
      "application/vnd.jupyter.widget-view+json": {
       "model_id": "02a9765b794e4e70b07a3a4ec8ecb997",
       "version_major": 2,
       "version_minor": 0
      },
      "text/plain": [
       "modules.json:   0%|          | 0.00/349 [00:00<?, ?B/s]"
      ]
     },
     "metadata": {},
     "output_type": "display_data"
    },
    {
     "data": {
      "application/vnd.jupyter.widget-view+json": {
       "model_id": "19029ea522324617bb7913e72377bf62",
       "version_major": 2,
       "version_minor": 0
      },
      "text/plain": [
       "config_sentence_transformers.json:   0%|          | 0.00/116 [00:00<?, ?B/s]"
      ]
     },
     "metadata": {},
     "output_type": "display_data"
    },
    {
     "data": {
      "application/vnd.jupyter.widget-view+json": {
       "model_id": "2154484deed74dd08cfb3e8f04927d7e",
       "version_major": 2,
       "version_minor": 0
      },
      "text/plain": [
       "README.md:   0%|          | 0.00/10.7k [00:00<?, ?B/s]"
      ]
     },
     "metadata": {},
     "output_type": "display_data"
    },
    {
     "data": {
      "application/vnd.jupyter.widget-view+json": {
       "model_id": "dbb0fe24e6284d9287bf073162428858",
       "version_major": 2,
       "version_minor": 0
      },
      "text/plain": [
       "sentence_bert_config.json:   0%|          | 0.00/53.0 [00:00<?, ?B/s]"
      ]
     },
     "metadata": {},
     "output_type": "display_data"
    },
    {
     "data": {
      "application/vnd.jupyter.widget-view+json": {
       "model_id": "5eb7a4237e1040c9afe090c33faa1a89",
       "version_major": 2,
       "version_minor": 0
      },
      "text/plain": [
       "config.json:   0%|          | 0.00/612 [00:00<?, ?B/s]"
      ]
     },
     "metadata": {},
     "output_type": "display_data"
    },
    {
     "data": {
      "application/vnd.jupyter.widget-view+json": {
       "model_id": "067d4c1d55954e9ca6d238eff7f61842",
       "version_major": 2,
       "version_minor": 0
      },
      "text/plain": [
       "model.safetensors:   0%|          | 0.00/90.9M [00:00<?, ?B/s]"
      ]
     },
     "metadata": {},
     "output_type": "display_data"
    },
    {
     "data": {
      "application/vnd.jupyter.widget-view+json": {
       "model_id": "3eda09f6739846c28d84eaa5de971841",
       "version_major": 2,
       "version_minor": 0
      },
      "text/plain": [
       "tokenizer_config.json:   0%|          | 0.00/350 [00:00<?, ?B/s]"
      ]
     },
     "metadata": {},
     "output_type": "display_data"
    },
    {
     "data": {
      "application/vnd.jupyter.widget-view+json": {
       "model_id": "a4e8a75150dc4e2d9e1be17cb62181a5",
       "version_major": 2,
       "version_minor": 0
      },
      "text/plain": [
       "vocab.txt:   0%|          | 0.00/232k [00:00<?, ?B/s]"
      ]
     },
     "metadata": {},
     "output_type": "display_data"
    },
    {
     "data": {
      "application/vnd.jupyter.widget-view+json": {
       "model_id": "738b6445e5fb442eb6a286ddde9e4bbd",
       "version_major": 2,
       "version_minor": 0
      },
      "text/plain": [
       "tokenizer.json:   0%|          | 0.00/466k [00:00<?, ?B/s]"
      ]
     },
     "metadata": {},
     "output_type": "display_data"
    },
    {
     "data": {
      "application/vnd.jupyter.widget-view+json": {
       "model_id": "d75aa15469a04c7798958b07e649e4da",
       "version_major": 2,
       "version_minor": 0
      },
      "text/plain": [
       "special_tokens_map.json:   0%|          | 0.00/112 [00:00<?, ?B/s]"
      ]
     },
     "metadata": {},
     "output_type": "display_data"
    },
    {
     "data": {
      "application/vnd.jupyter.widget-view+json": {
       "model_id": "45603466a3b34112a3a3f92988f05300",
       "version_major": 2,
       "version_minor": 0
      },
      "text/plain": [
       "1_Pooling/config.json:   0%|          | 0.00/190 [00:00<?, ?B/s]"
      ]
     },
     "metadata": {},
     "output_type": "display_data"
    }
   ],
   "source": [
    "from sentence_transformers import SentenceTransformer\n",
    "model = SentenceTransformer('all-MiniLM-L6-v2')\n",
    "\n",
    "def calculate_cosine_similarity_with_embeddings(text1, text2):\n",
    "    embeddings1 = model.encode(text1)\n",
    "    embeddings2 = model.encode(text2)\n",
    "    similarity = cosine_similarity([embeddings1], [embeddings2])\n",
    "    return similarity[0][0]"
   ]
  },
  {
   "cell_type": "markdown",
   "metadata": {
    "id": "IJFVccYkmQkc"
   },
   "source": [
    "# Vector store index query engine"
   ]
  },
  {
   "cell_type": "code",
   "execution_count": null,
   "metadata": {
    "id": "PrBA5RZ3emV1"
   },
   "outputs": [],
   "source": [
    "from llama_index.core import VectorStoreIndex\n",
    "vector_store_index = VectorStoreIndex.from_documents(documents)"
   ]
  },
  {
   "cell_type": "code",
   "execution_count": null,
   "metadata": {
    "colab": {
     "base_uri": "https://localhost:8080/"
    },
    "id": "uk_hTSdcbntf",
    "outputId": "d6112133-a2e6-4a7c-e074-1b8622c41dd6"
   },
   "outputs": [
    {
     "name": "stdout",
     "output_type": "stream",
     "text": [
      "<class 'llama_index.core.indices.vector_store.base.VectorStoreIndex'>\n"
     ]
    }
   ],
   "source": [
    "print(type(vector_store_index))"
   ]
  },
  {
   "cell_type": "code",
   "execution_count": null,
   "metadata": {
    "id": "w6g6JTOtemV9"
   },
   "outputs": [],
   "source": [
    "vector_query_engine = vector_store_index.as_query_engine(similarity_top_k=k, temperature=temp, num_output=mt)"
   ]
  },
  {
   "cell_type": "code",
   "execution_count": null,
   "metadata": {
    "colab": {
     "base_uri": "https://localhost:8080/"
    },
    "id": "-Eq-AVSicTrg",
    "outputId": "9cedfb2a-0475-4cb8-c3ca-eae165d5c4a5"
   },
   "outputs": [
    {
     "name": "stdout",
     "output_type": "stream",
     "text": [
      "<class 'llama_index.core.query_engine.retriever_query_engine.RetrieverQueryEngine'>\n"
     ]
    }
   ],
   "source": [
    "print(type(vector_query_engine))"
   ]
  },
  {
   "cell_type": "markdown",
   "metadata": {
    "id": "RSAMGVyTmU9_"
   },
   "source": [
    "## Query response and source"
   ]
  },
  {
   "cell_type": "code",
   "execution_count": null,
   "metadata": {
    "id": "_4a9dRIdEeZa"
   },
   "outputs": [],
   "source": [
    "import pandas as pd\n",
    "import textwrap\n",
    "\n",
    "def index_query(input_query):\n",
    "    response = vector_query_engine.query(input_query)\n",
    "\n",
    "    # Optional: Print a formatted view of the response (remove if you don't need it in the output)\n",
    "    print(textwrap.fill(str(response), 100))\n",
    "\n",
    "    node_data = []\n",
    "    for node_with_score in response.source_nodes:\n",
    "        node = node_with_score.node\n",
    "        node_info = {\n",
    "            'Node ID': node.id_,\n",
    "            'Score': node_with_score.score,\n",
    "            'Text': node.text\n",
    "        }\n",
    "        node_data.append(node_info)\n",
    "\n",
    "    df = pd.DataFrame(node_data)\n",
    "\n",
    "    # Instead of printing, return the DataFrame and the response object\n",
    "    return df, response\n"
   ]
  },
  {
   "cell_type": "code",
   "execution_count": null,
   "metadata": {
    "colab": {
     "base_uri": "https://localhost:8080/"
    },
    "id": "QzZGn0aEEhza",
    "outputId": "6a73383f-3fb4-4ddc-f5d1-84b0074c88d5"
   },
   "outputs": [
    {
     "name": "stdout",
     "output_type": "stream",
     "text": [
      "Drones can identify vehicles across different cameras with different viewpoints and hardware\n",
      "specifications using reidentification methods.\n",
      "Query execution time: 1.3266 seconds\n",
      "| Node ID                              | Score    | Text                                                                                                                                                                                                                                                                                                                                                                                                                                                                                                                                                                                                                                                                                                                                                                                                                                                                                                                                                                                                                                                                                                                                                                                                                                                                                                                                                                                                                                                                                                                                                                                                                                                                                                                                                                                                                                                                                                                                                                                                                                                                                                                                                                                                                                                                                                                                                                                                                                                                                                                                                                                                                                                                                                                                                                                                                                                                                                                                                                                                                                                                                                                                                                                                                                                                                                                                                                                                                                                                                                                                                                                                                                                                                                                                                                                                                                                                                                                                                                                                                                                                                                                                                                                                                                                                                                                                                                                                                                                                                                                                                                                              |\n",
      "|:-------------------------------------|:---------|:--------------------------------------------------------------------------------------------------------------------------------------------------------------------------------------------------------------------------------------------------------------------------------------------------------------------------------------------------------------------------------------------------------------------------------------------------------------------------------------------------------------------------------------------------------------------------------------------------------------------------------------------------------------------------------------------------------------------------------------------------------------------------------------------------------------------------------------------------------------------------------------------------------------------------------------------------------------------------------------------------------------------------------------------------------------------------------------------------------------------------------------------------------------------------------------------------------------------------------------------------------------------------------------------------------------------------------------------------------------------------------------------------------------------------------------------------------------------------------------------------------------------------------------------------------------------------------------------------------------------------------------------------------------------------------------------------------------------------------------------------------------------------------------------------------------------------------------------------------------------------------------------------------------------------------------------------------------------------------------------------------------------------------------------------------------------------------------------------------------------------------------------------------------------------------------------------------------------------------------------------------------------------------------------------------------------------------------------------------------------------------------------------------------------------------------------------------------------------------------------------------------------------------------------------------------------------------------------------------------------------------------------------------------------------------------------------------------------------------------------------------------------------------------------------------------------------------------------------------------------------------------------------------------------------------------------------------------------------------------------------------------------------------------------------------------------------------------------------------------------------------------------------------------------------------------------------------------------------------------------------------------------------------------------------------------------------------------------------------------------------------------------------------------------------------------------------------------------------------------------------------------------------------------------------------------------------------------------------------------------------------------------------------------------------------------------------------------------------------------------------------------------------------------------------------------------------------------------------------------------------------------------------------------------------------------------------------------------------------------------------------------------------------------------------------------------------------------------------------------------------------------------------------------------------------------------------------------------------------------------------------------------------------------------------------------------------------------------------------------------------------------------------------------------------------------------------------------------------------------------------------------------------------------------------------------------------------------------------|\n",
      "| 83a135c6-dddd-402e-9423-d282e6524160 | 0.84995  | ['194  It is also possible to automatically identify UAVs across different cameras with different view points and hardware specification with reidentification methods.  195  Commercial systems such as the Aaronia AARTOS have been installed on major international airports.  196   197  Once a UAV is detected it can be countered with kinetic force missiles projectiles or another UAV or by nonkinetic force laser microwaves communications jamming.  198  Antiaircraft missile systems such as the Iron Dome are also being enhanced with CUAS technologies. Utilising a smart UAV swarm to counter one or more hostile UAVs is also proposed.  199  Regulation  edit  Main article Regulation of unmanned aerial vehicles Regulatory bodies around the world are developing unmanned aircraft system traffic management solutions to better integrate UAVs into airspace.  200  The use of unmanned aerial vehicles is becoming increasingly regulated by the civil aviation authorities of individual countries. Regulatory regimes can differ significantly according to drone size and use. The International Civil Aviation Organization ICAO began exploring the use of drone technology as far back as 2005 which resulted in a 2011 report.  201  France was among the first countries to set a national framework based on this report and larger aviation bodies such as the FAA and the EASA quickly followed suit.  202  In 2021 the FAA published a rule requiring all commercially used UAVs and all UAVs regardless of intent weighing 250g or more to participate in Remote ID  which makes drone locations controller locations and other information public from takeoff to shutdown this rule has since been challenged in the pending federal lawsuit RaceDayQuads v. FAA .  203   204  EU Drone Certification  Class Identification Label  edit  The implementation of the Class Identification Label serves a crucial purpose in the regulation and operation of drones.  205  The label is a verification mechanism designed to confirm that drones within a specific class meet the rigorous standards set by administrations for design and manufacturing.  206  These standards are necessary to ensure the safety and reliability of drones in various industries and applications. By providing this assurance to customers the Class Identification Label helps to increase confidence in drone technology and encourages wider adoption across industries. This in turn contributes to the growth and development of the drone industry and supports the integration of drones into society. Export controls  edit  The export of UAVs or technology capable of carrying a 500\\xa0kg payload at least 300\\xa0km is restricted in many countries by the Missile Technology Control Regime . See also  edit  List of unmanned aerial vehicles Delivery drone Drone in a Box Glide bomb International Aerial Robotics Competition List of films featuring drones List of military electronics of the United States MARSS Interceptor Micromechanical Flying Insect ParcAberporth Quadcopter Radiocontrolled aircraft Autonomous aircraft Optionally piloted vehicle Sypaq Corvo Precision Payload Delivery System Satellite Sentinel Project Tactical Control System UAV ground control station Unmanned underwater vehicle Portals  Aviation Systems science Engineering Telecommunication References  edit  Citations  edit   Tice Brian P. Spring 1991. Unmanned Aerial Vehicles  The Force Multiplier of the 1990s . Airpower Journal . Archived from the original on 24 July 2009 . Retrieved 6 June 2013 . When used UAVs should generally perform missions characterized by the three Ds dull dirty and dangerous.  a b Alvarado Ed 3 May 2021. 237 Ways Drone Applications Revolutionize Business . Drone Industry Insights . Archived from the original on 11 May 2021 . Retrieved 11 May 2021 .  F.  RekabiBana Hu J. T. Krajník Arvin F.  Unified Robust Path Planning and Optimal Trajectory Generation for Efficient 3D Area Coverage of Quadrotor UAVs  IEEE Transactions on Intelligent Transportation Systems 2023.  a b Hu J. Niu H. Carrasco J. Lennox B. Arvin F.  Faulttolerant cooperative navigation of networked UAV swarms for forest fire monitoring  Aerospace Science and Technology 2022.  a b Remote sensing of the environment using unmanned aerial systems UAS . S.l. ELSEVIER  HEALTH SCIENCE. 2023. ISBN 9780323852838 . OCLC 1329422815 . Archived from the original on 27 February 2023 . Retrieved 11 January 2023 .'] |\n",
      "| 7b7b55fe-0354-45bc-98da-0a715ceaaab0 | 0.832245 | ['Drone Industry Insights . Archived from the original on 17 May 2021 . Retrieved 17 May 2021 .  UAS Remote Identification Overview . www.faa.gov . Archived from the original on 27 May 2021 . Retrieved 29 May 2021 .  FAA Legal Battle  Challenging Remote ID . RaceDayQuads . Archived from the original on 27 May 2021 . Retrieved 29 May 2021 .  UAS Class Label . www.eudronport.com . August 2022. Archived from the original on 5 October 2022 . Retrieved 21 February 2023 .  Official Journal of the European Union . www.eurlex.europa.eu . Archived from the original on 1 November 2020 . Retrieved 20 February 2023 . Bibliography  edit  Axe David. Drone War Vietnam. Pen  Sword Military. Great Britain. 2021. ISBN 978 1 52677 026 4 Sayler Kelley June 2015. A world of proliferated drones a technology primer PDF . Center for a New American Security . Archived from the original PDF on 6 March 2016. Wagner William 1982 Lightning Bugs and other Reconnaissance Drones The cando story of Ryans unmanned spy planes  Armed Forces Journal International\\xa0 Aero Publishers ISBN 9780816866540 Further reading  edit  Cahill Bill April 2022. Lightning Bugs  Buffalo Hunters The Ryan Model 147 Drone in Vietnam. The Aviation Historian 39 1827. ISSN 20511930 . Hill J.  Rogers A. 2014. The rise of the drones From The Great War to Gaza . Vancouver Island University Arts  Humanities Colloquium Series . Javier GarciaBernardoa Peter Sheridan Dodds Neil F. Johnson 2016. Quantitative patterns in drone wars PDF . Science direct . Archived from the original PDF on 6 February 2016. Rogers A.  Hill J. 2014. Unmanned Drone warfare and global security . Between the Lines. ISBN 9781771131544 External links  edit  Wikimedia Commons has media related to Unmanned aerial vehicles . Wikiquote has quotations related to Drones .']                                                                                                                                                                                                                                                                                                                                                                                                                                                                                                                                                                                                                                                                                                                                                                                                                                                                                                                                                                                                                                                                                                                                                                                                                                                                                                                                                                                                                                                                                                                                                                                                                                                                                                                                                                                                                                                                                                                                                                                                                                                                                                                                                                                                                                                                                                                                                                                                                                                                                                                                                                                                                                                                                                                    |\n",
      "| 18528a16-ce77-46a9-bbc6-5e8f05418d95 | 0.829875 | ['CNN.com . Archived from the original on 5 March 2017 . Retrieved 6 December 2016 .  Walters Sander 29 October 2016. How Can Drones Be Hacked The updated list of vulnerable drones  attack tools . Medium . Archived from the original on 23 July 2018 . Retrieved 6 December 2016 .  Glaser April 4 January 2017. The U.S. government showed just how easy it is to hack drones made by Parrot DBPower and Cheerson . Recode . Archived from the original on 5 January 2017 . Retrieved 6 January 2017 .  Antidrone technology to be test flown on UK base amid terror fears . 6 March 2017. Archived from the original on 7 May 2017 . Retrieved 9 May 2017 .  IsaacMedina Brian K. S. Poyser Matthew Organisciak Daniel Willcocks Chris G. Breckon Toby P. Shum Hubert P. H. 2021. Unmanned Aerial Vehicle Visual Detection and Tracking using Deep Neural Networks A Performance Benchmark . pp.\\xa012231232. arXiv  2103.13933 .  Organisciak Daniel Poyser Matthew Alsehaim Aishah Hu Shanfeng IsaacMedina Brian K. S. Breckon Toby P. Shum Hubert P. H. 2022. UAVReID A Benchmark on Unmanned Aerial Vehicle Reidentification in Video Imagery. Proceedings of the 17th International Joint Conference on Computer Vision Imaging and Computer Graphics Theory and Applications . SciTePress. pp.\\xa0136146. arXiv  2104.06219 . doi  10.52200010836600003124 . ISBN 9789897585555 .  Heathrow picks CUAS to combat drone disruption . Archived from the original on 9 November 2019 . Retrieved 13 March 2019 .  Muscat International Airport to install USD10 million Aaronia counterUAS system . 21 January 2019. Archived from the original on 9 November 2019 . Retrieved 21 January 2019 .  GrandClément Sarah Bajon Theò 19 October 2022. Uncrewed Aerial Systems A Primer . United Nations Institute for Disarmament Research . Archived from the original on 5 January 2023 . Retrieved 5 January 2023 .  cite journal    CS1 maint bot original URL status unknown  link   Hartley John Shum Hubert P. H. Ho Edmond S. L. Wang He Ramamoorthy Subramanian 2022. Formation Control for UAVs Using a Flux Guided Approach. Expert Systems with Applications . 205 . Elsevier 117665. arXiv  2103.09184 . doi  10.1016j.eswa.2022.117665 . ISSN 09574174 . S2CID 232240581 .  What is unmanned traffic management . Airbus . Archived from the original on 8 February 2021 . Retrieved 28 January 2021 .  Cary Leslie Coyne James. ICAO Unmanned Aircraft Systems UAS Circular 328. 20112012 UAS Yearbook  UAS The Global Perspective PDF . Blyenburgh  Co. pp.\\xa0112115. Archived from the original PDF on 4 March 2016 . Retrieved 26 February 2022 .  Boedecker Hendrik. The 2021 Drone Regulation  What is new What is planned . Drone Industry Insights . Archived from the original on 17 May 2021 . Retrieved 17 May 2021 .  UAS Remote Identification Overview . www.faa.gov . Archived from the original on 27 May 2021 . Retrieved 29 May 2021 .  FAA Legal Battle  Challenging Remote ID . RaceDayQuads . Archived from the original on 27 May 2021 . Retrieved 29 May 2021 .  UAS Class Label . www.eudronport.com . August 2022. Archived from the original on 5 October 2022 . Retrieved 21 February 2023 .  Official Journal of the European Union . www.eurlex.europa.eu . Archived from the original on 1 November 2020 . Retrieved 20 February 2023 .']                                                                                                                                                                                                                                                                                                                                                                                                                                                                                                                                                                                                                                                                                                                                                                                                                                                                                                                                                                                                                                                                                                                                                                                                        |\n"
     ]
    }
   ],
   "source": [
    "import time\n",
    "#start the timer\n",
    "start_time = time.time()\n",
    "df, response = index_query(user_input)\n",
    "# Stop the timer\n",
    "end_time = time.time()\n",
    "# Calculate and print the execution time\n",
    "elapsed_time = end_time - start_time\n",
    "print(f\"Query execution time: {elapsed_time:.4f} seconds\")\n",
    "\n",
    "print(df.to_markdown(index=False, numalign=\"left\", stralign=\"left\"))  # Display the DataFrame using markdown"
   ]
  },
  {
   "cell_type": "markdown",
   "metadata": {
    "id": "l1fnBnGFcejp"
   },
   "source": [
    "Node information and relationships"
   ]
  },
  {
   "cell_type": "code",
   "execution_count": null,
   "metadata": {
    "colab": {
     "base_uri": "https://localhost:8080/",
     "height": 36
    },
    "id": "uqhXA3Fxd11A",
    "outputId": "d634b0bf-1c10-4f4b-e15e-4b5ac0e07546"
   },
   "outputs": [
    {
     "data": {
      "application/vnd.google.colaboratory.intrinsic+json": {
       "type": "string"
      },
      "text/plain": [
       "'83a135c6-dddd-402e-9423-d282e6524160'"
      ]
     },
     "execution_count": 31,
     "metadata": {},
     "output_type": "execute_result"
    }
   ],
   "source": [
    "nodeid=response.source_nodes[0].node_id\n",
    "nodeid"
   ]
  },
  {
   "cell_type": "code",
   "execution_count": null,
   "metadata": {
    "colab": {
     "base_uri": "https://localhost:8080/",
     "height": 250
    },
    "collapsed": true,
    "id": "iuRhyM8NfyGn",
    "outputId": "44bad28f-9f3e-4f1b-8e9e-5a9989f0089b"
   },
   "outputs": [
    {
     "data": {
      "application/vnd.google.colaboratory.intrinsic+json": {
       "type": "string"
      },
      "text/plain": [
       "\"['194  It is also possible to automatically identify UAVs across different cameras with different view points and hardware specification with reidentification methods.  195  Commercial systems such as the Aaronia AARTOS have been installed on major international airports.  196   197  Once a UAV is detected it can be countered with kinetic force missiles projectiles or another UAV or by nonkinetic force laser microwaves communications jamming.  198  Antiaircraft missile systems such as the Iron Dome are also being enhanced with CUAS technologies. Utilising a smart UAV swarm to counter one or more hostile UAVs is also proposed.  199  Regulation  edit  Main article Regulation of unmanned aerial vehicles Regulatory bodies around the world are developing unmanned aircraft system traffic management solutions to better integrate UAVs into airspace.  200  The use of unmanned aerial vehicles is becoming increasingly regulated by the civil aviation authorities of individual countries. Regulatory regimes can differ significantly according to drone size and use. The International Civil Aviation Organization ICAO began exploring the use of drone technology as far back as 2005 which resulted in a 2011 report.  201  France was among the first countries to set a national framework based on this report and larger aviation bodies such as the FAA and the EASA quickly followed suit.  202  In 2021 the FAA published a rule requiring all commercially used UAVs and all UAVs regardless of intent weighing 250g or more to participate in Remote ID  which makes drone locations controller locations and other information public from takeoff to shutdown this rule has since been challenged in the pending federal lawsuit RaceDayQuads v. FAA .  203   204  EU Drone Certification  Class Identification Label  edit  The implementation of the Class Identification Label serves a crucial purpose in the regulation and operation of drones.  205  The label is a verification mechanism designed to confirm that drones within a specific class meet the rigorous standards set by administrations for design and manufacturing.  206  These standards are necessary to ensure the safety and reliability of drones in various industries and applications. By providing this assurance to customers the Class Identification Label helps to increase confidence in drone technology and encourages wider adoption across industries. This in turn contributes to the growth and development of the drone industry and supports the integration of drones into society. Export controls  edit  The export of UAVs or technology capable of carrying a 500\\\\xa0kg payload at least 300\\\\xa0km is restricted in many countries by the Missile Technology Control Regime . See also  edit  List of unmanned aerial vehicles Delivery drone Drone in a Box Glide bomb International Aerial Robotics Competition List of films featuring drones List of military electronics of the United States MARSS Interceptor Micromechanical Flying Insect ParcAberporth Quadcopter Radiocontrolled aircraft Autonomous aircraft Optionally piloted vehicle Sypaq Corvo Precision Payload Delivery System Satellite Sentinel Project Tactical Control System UAV ground control station Unmanned underwater vehicle Portals  Aviation Systems science Engineering Telecommunication References  edit  Citations  edit   Tice Brian P. Spring 1991. Unmanned Aerial Vehicles  The Force Multiplier of the 1990s . Airpower Journal . Archived from the original on 24 July 2009 . Retrieved 6 June 2013 . When used UAVs should generally perform missions characterized by the three Ds dull dirty and dangerous.  a b Alvarado Ed 3 May 2021. 237 Ways Drone Applications Revolutionize Business . Drone Industry Insights . Archived from the original on 11 May 2021 . Retrieved 11 May 2021 .  F.  RekabiBana Hu J. T. Krajník Arvin F.  Unified Robust Path Planning and Optimal Trajectory Generation for Efficient 3D Area Coverage of Quadrotor UAVs  IEEE Transactions on Intelligent Transportation Systems 2023.  a b Hu J. Niu H. Carrasco J. Lennox B. Arvin F.  Faulttolerant cooperative navigation of networked UAV swarms for forest fire monitoring  Aerospace Science and Technology 2022.  a b Remote sensing of the environment using unmanned aerial systems UAS . S.l. ELSEVIER  HEALTH SCIENCE. 2023. ISBN 9780323852838 . OCLC 1329422815 . Archived from the original on 27 February 2023 . Retrieved 11 January 2023 .']\""
      ]
     },
     "execution_count": 32,
     "metadata": {},
     "output_type": "execute_result"
    }
   ],
   "source": [
    "response.source_nodes[0].get_text()"
   ]
  },
  {
   "cell_type": "markdown",
   "metadata": {
    "id": "lDDyAsa-oswp"
   },
   "source": [
    "## Optimized chunking"
   ]
  },
  {
   "cell_type": "code",
   "execution_count": null,
   "metadata": {
    "colab": {
     "base_uri": "https://localhost:8080/"
    },
    "id": "MmW4MFSdopQE",
    "outputId": "4f6994a4-0cbc-4b60-d47f-a69c60897369"
   },
   "outputs": [
    {
     "name": "stdout",
     "output_type": "stream",
     "text": [
      "Node ID: 83a135c6-dddd-402e-9423-d282e6524160, Chunk Size: 4417 characters\n",
      "Node ID: 7b7b55fe-0354-45bc-98da-0a715ceaaab0, Chunk Size: 1806 characters\n",
      "Node ID: 18528a16-ce77-46a9-bbc6-5e8f05418d95, Chunk Size: 3258 characters\n"
     ]
    }
   ],
   "source": [
    "# Assuming you have the 'response' object from query_engine.query()\n",
    "\n",
    "for node_with_score in response.source_nodes:\n",
    "    node = node_with_score.node  # Extract the Node object from NodeWithScore\n",
    "    chunk_size = len(node.text)\n",
    "    print(f\"Node ID: {node.id_}, Chunk Size: {chunk_size} characters\")"
   ]
  },
  {
   "cell_type": "markdown",
   "metadata": {
    "id": "_XQiH9ImiHW8"
   },
   "source": [
    "## Performance metric"
   ]
  },
  {
   "cell_type": "code",
   "execution_count": null,
   "metadata": {
    "id": "4g_H0caBiHW9"
   },
   "outputs": [],
   "source": [
    "import numpy as np\n",
    "\n",
    "def info_metrics(response):\n",
    "  # Calculate the performance (handling None scores)\n",
    "  scores = [node.score for node in response.source_nodes if node.score is not None]\n",
    "  if scores:  # Check if there are any valid scores\n",
    "      weights = np.exp(scores) / np.sum(np.exp(scores))\n",
    "      perf = np.average(scores, weights=weights) / elapsed_time\n",
    "  else:\n",
    "      perf = 0  # Or some other default value if all scores are None\n",
    "\n",
    "  average_score=np.average(scores, weights=weights)\n",
    "  print(f\"Average score: {average_score:.4f}\")\n",
    "  print(f\"Query execution time: {elapsed_time:.4f} seconds\")\n",
    "  print(f\"Performance metric: {perf:.4f}\")"
   ]
  },
  {
   "cell_type": "code",
   "execution_count": null,
   "metadata": {
    "colab": {
     "base_uri": "https://localhost:8080/"
    },
    "id": "-3K48RuAiHW9",
    "outputId": "a08aa841-d5a8-4a5e-ddfb-ff4d3416c8b1"
   },
   "outputs": [
    {
     "name": "stdout",
     "output_type": "stream",
     "text": [
      "Average score: 0.8374\n",
      "Query execution time: 1.3266 seconds\n",
      "Performance metric: 0.6312\n"
     ]
    }
   ],
   "source": [
    "info_metrics(response)"
   ]
  },
  {
   "cell_type": "markdown",
   "metadata": {
    "id": "_dqduDJ6rn7M"
   },
   "source": [
    "# Tree index query engine"
   ]
  },
  {
   "cell_type": "code",
   "execution_count": null,
   "metadata": {
    "id": "l-YeiE-PrpjV"
   },
   "outputs": [],
   "source": [
    "from llama_index.core import TreeIndex\n",
    "tree_index = TreeIndex.from_documents(documents)"
   ]
  },
  {
   "cell_type": "code",
   "execution_count": null,
   "metadata": {
    "colab": {
     "base_uri": "https://localhost:8080/"
    },
    "id": "Hb5pji6Sr5rc",
    "outputId": "a5e9ce2c-2014-44c7-c2fa-8b961ffc525a"
   },
   "outputs": [
    {
     "name": "stdout",
     "output_type": "stream",
     "text": [
      "<class 'llama_index.core.indices.tree.base.TreeIndex'>\n"
     ]
    }
   ],
   "source": [
    "print(type(tree_index))"
   ]
  },
  {
   "cell_type": "code",
   "execution_count": null,
   "metadata": {
    "id": "vXx5PyzVsId_"
   },
   "outputs": [],
   "source": [
    "tree_query_engine = tree_index.as_query_engine(similarity_top_k=k, temperature=temp, num_output=mt)"
   ]
  },
  {
   "cell_type": "code",
   "execution_count": null,
   "metadata": {
    "colab": {
     "base_uri": "https://localhost:8080/"
    },
    "id": "b8E9RQz3sPM6",
    "outputId": "77aae17b-9ae0-49cd-bb14-f34abc1ef0ab"
   },
   "outputs": [
    {
     "name": "stdout",
     "output_type": "stream",
     "text": [
      "Query execution time: 4.3360 seconds\n",
      "Drones identify vehicles using computer vision technology related to object detection. This\n",
      "technology involves detecting instances of semantic objects of a certain class, such as vehicles, in\n",
      "digital images and videos. Drones can be equipped with object detection algorithms, such as YOLOv3\n",
      "models trained on datasets like COCO, to detect vehicles in real-time by analyzing the visual data\n",
      "captured by the drone's cameras.\n"
     ]
    }
   ],
   "source": [
    "import time\n",
    "import textwrap\n",
    "# Start the timer\n",
    "start_time = time.time()\n",
    "response = tree_query_engine.query(user_input)\n",
    "# Stop the timer\n",
    "end_time = time.time()\n",
    "# Calculate and print the execution time\n",
    "elapsed_time = end_time - start_time\n",
    "print(f\"Query execution time: {elapsed_time:.4f} seconds\")\n",
    "\n",
    "print(textwrap.fill(str(response), 100))"
   ]
  },
  {
   "cell_type": "markdown",
   "metadata": {
    "id": "vQxSpKTOSSHr"
   },
   "source": [
    "## Performance metric"
   ]
  },
  {
   "cell_type": "code",
   "execution_count": null,
   "metadata": {
    "colab": {
     "base_uri": "https://localhost:8080/"
    },
    "id": "F8Cqhr1sSYRC",
    "outputId": "4545afac-7d09-4865-b415-f9d33d70ea08"
   },
   "outputs": [
    {
     "name": "stdout",
     "output_type": "stream",
     "text": [
      "Cosine Similarity Score: 0.731\n",
      "Query execution time: 4.3360 seconds\n",
      "Performance metric: 0.1686\n"
     ]
    }
   ],
   "source": [
    "similarity_score = calculate_cosine_similarity_with_embeddings(user_input, str(response))\n",
    "print(f\"Cosine Similarity Score: {similarity_score:.3f}\")\n",
    "print(f\"Query execution time: {elapsed_time:.4f} seconds\")\n",
    "performance=similarity_score/elapsed_time\n",
    "print(f\"Performance metric: {performance:.4f}\")"
   ]
  },
  {
   "cell_type": "markdown",
   "metadata": {
    "id": "3fOB37e6sWaJ"
   },
   "source": [
    "# List index query engine"
   ]
  },
  {
   "cell_type": "code",
   "execution_count": null,
   "metadata": {
    "id": "pleYlYs3tInK"
   },
   "outputs": [],
   "source": [
    "from llama_index.core import ListIndex\n",
    "list_index = ListIndex.from_documents(documents)"
   ]
  },
  {
   "cell_type": "code",
   "execution_count": null,
   "metadata": {
    "colab": {
     "base_uri": "https://localhost:8080/"
    },
    "id": "2vo8re-wtHpR",
    "outputId": "f8000c23-bc15-40b7-a5bd-d421a8a6a97b"
   },
   "outputs": [
    {
     "name": "stdout",
     "output_type": "stream",
     "text": [
      "<class 'llama_index.core.indices.list.base.SummaryIndex'>\n"
     ]
    }
   ],
   "source": [
    "print(type(list_index))"
   ]
  },
  {
   "cell_type": "code",
   "execution_count": null,
   "metadata": {
    "id": "gtFOCgNutZd3"
   },
   "outputs": [],
   "source": [
    "list_query_engine = list_index.as_query_engine(similarity_top_k=k, temperature=temp, num_output=mt)"
   ]
  },
  {
   "cell_type": "code",
   "execution_count": null,
   "metadata": {
    "colab": {
     "base_uri": "https://localhost:8080/"
    },
    "id": "Bf3KTyc2tnzA",
    "outputId": "93a607fb-94ea-41b5-c9f7-cffe27d45b24"
   },
   "outputs": [
    {
     "name": "stdout",
     "output_type": "stream",
     "text": [
      "Query execution time: 16.3123 seconds\n",
      "Drones can identify vehicles through computer vision systems that process image data captured by\n",
      "cameras mounted on the drones. These systems use techniques like object recognition and detection to\n",
      "analyze the images and identify specific objects, such as vehicles, based on predefined models or\n",
      "features. By processing the visual data in real-time, drones can effectively identify vehicles in\n",
      "their surroundings.\n"
     ]
    }
   ],
   "source": [
    "#start the timer\n",
    "start_time = time.time()\n",
    "response = list_query_engine.query(user_input)\n",
    "# Stop the timer\n",
    "end_time = time.time()\n",
    "# Calculate and print the execution time\n",
    "elapsed_time = end_time - start_time\n",
    "print(f\"Query execution time: {elapsed_time:.4f} seconds\")\n",
    "\n",
    "print(textwrap.fill(str(response), 100))"
   ]
  },
  {
   "cell_type": "markdown",
   "metadata": {
    "id": "0gSORzLPbGRS"
   },
   "source": [
    "## Performance metric"
   ]
  },
  {
   "cell_type": "code",
   "execution_count": null,
   "metadata": {
    "colab": {
     "base_uri": "https://localhost:8080/"
    },
    "id": "tfTWqYP3bBeY",
    "outputId": "93b4821c-4dc6-4c4e-fbcf-7efa26085262"
   },
   "outputs": [
    {
     "name": "stdout",
     "output_type": "stream",
     "text": [
      "Cosine Similarity Score: 0.775\n",
      "Query execution time: 16.3123 seconds\n",
      "Performance metric: 0.0475\n"
     ]
    }
   ],
   "source": [
    "similarity_score = calculate_cosine_similarity_with_embeddings(user_input, str(response))\n",
    "print(f\"Cosine Similarity Score: {similarity_score:.3f}\")\n",
    "print(f\"Query execution time: {elapsed_time:.4f} seconds\")\n",
    "performance=similarity_score/elapsed_time\n",
    "print(f\"Performance metric: {performance:.4f}\")"
   ]
  },
  {
   "cell_type": "markdown",
   "metadata": {
    "id": "B55WzTYgtw_0"
   },
   "source": [
    "# Keyword index query index"
   ]
  },
  {
   "cell_type": "code",
   "execution_count": null,
   "metadata": {
    "id": "MGVAYCqxtE7L"
   },
   "outputs": [],
   "source": [
    "from llama_index.core import KeywordTableIndex\n",
    "keyword_index = KeywordTableIndex.from_documents(documents)"
   ]
  },
  {
   "cell_type": "code",
   "execution_count": null,
   "metadata": {
    "colab": {
     "base_uri": "https://localhost:8080/",
     "height": 423
    },
    "id": "tp9vEYoCuEBl",
    "outputId": "054ab841-b0e8-4ab0-a943-8782b485d346"
   },
   "outputs": [
    {
     "data": {
      "application/vnd.google.colaboratory.intrinsic+json": {
       "summary": "{\n  \"name\": \"df\",\n  \"rows\": 3869,\n  \"fields\": [\n    {\n      \"column\": \"Keyword\",\n      \"properties\": {\n        \"dtype\": \"string\",\n        \"num_unique_values\": 2294,\n        \"samples\": [\n          \"units\",\n          \"conditional time series forecasting\",\n          \"processes\"\n        ],\n        \"semantic_type\": \"\",\n        \"description\": \"\"\n      }\n    },\n    {\n      \"column\": \"Document ID\",\n      \"properties\": {\n        \"dtype\": \"category\",\n        \"num_unique_values\": 83,\n        \"samples\": [\n          \"846071af-9d0c-4487-8b19-fa33c00e54b2\",\n          \"48696b4b-978e-46b1-a5b3-f451d5265f42\",\n          \"dd8f3db7-d5bc-49bc-ab87-f2dec0b5b845\"\n        ],\n        \"semantic_type\": \"\",\n        \"description\": \"\"\n      }\n    }\n  ]\n}",
       "type": "dataframe",
       "variable_name": "df"
      },
      "text/html": [
       "\n",
       "  <div id=\"df-c5dc4655-42f6-4d7b-bc66-8e2ac35c9903\" class=\"colab-df-container\">\n",
       "    <div>\n",
       "<style scoped>\n",
       "    .dataframe tbody tr th:only-of-type {\n",
       "        vertical-align: middle;\n",
       "    }\n",
       "\n",
       "    .dataframe tbody tr th {\n",
       "        vertical-align: top;\n",
       "    }\n",
       "\n",
       "    .dataframe thead th {\n",
       "        text-align: right;\n",
       "    }\n",
       "</style>\n",
       "<table border=\"1\" class=\"dataframe\">\n",
       "  <thead>\n",
       "    <tr style=\"text-align: right;\">\n",
       "      <th></th>\n",
       "      <th>Keyword</th>\n",
       "      <th>Document ID</th>\n",
       "    </tr>\n",
       "  </thead>\n",
       "  <tbody>\n",
       "    <tr>\n",
       "      <th>0</th>\n",
       "      <td>black</td>\n",
       "      <td>48696b4b-978e-46b1-a5b3-f451d5265f42</td>\n",
       "    </tr>\n",
       "    <tr>\n",
       "      <th>1</th>\n",
       "      <td>asymptotically flat</td>\n",
       "      <td>48696b4b-978e-46b1-a5b3-f451d5265f42</td>\n",
       "    </tr>\n",
       "    <tr>\n",
       "      <th>2</th>\n",
       "      <td>high energy physics</td>\n",
       "      <td>48696b4b-978e-46b1-a5b3-f451d5265f42</td>\n",
       "    </tr>\n",
       "    <tr>\n",
       "      <th>3</th>\n",
       "      <td>entropy</td>\n",
       "      <td>48696b4b-978e-46b1-a5b3-f451d5265f42</td>\n",
       "    </tr>\n",
       "    <tr>\n",
       "      <th>4</th>\n",
       "      <td>extreme binary black hole geometry</td>\n",
       "      <td>48696b4b-978e-46b1-a5b3-f451d5265f42</td>\n",
       "    </tr>\n",
       "    <tr>\n",
       "      <th>...</th>\n",
       "      <td>...</td>\n",
       "      <td>...</td>\n",
       "    </tr>\n",
       "    <tr>\n",
       "      <th>3864</th>\n",
       "      <td>rise of the drones</td>\n",
       "      <td>122c9909-c944-4d75-b462-0053c93fe3af</td>\n",
       "    </tr>\n",
       "    <tr>\n",
       "      <th>3865</th>\n",
       "      <td>buffalo</td>\n",
       "      <td>0c8e08a9-0f62-4321-b5fc-00da1fb7c684</td>\n",
       "    </tr>\n",
       "    <tr>\n",
       "      <th>3866</th>\n",
       "      <td>buffalo</td>\n",
       "      <td>122c9909-c944-4d75-b462-0053c93fe3af</td>\n",
       "    </tr>\n",
       "    <tr>\n",
       "      <th>3867</th>\n",
       "      <td>quantitative patterns</td>\n",
       "      <td>0c8e08a9-0f62-4321-b5fc-00da1fb7c684</td>\n",
       "    </tr>\n",
       "    <tr>\n",
       "      <th>3868</th>\n",
       "      <td>quantitative</td>\n",
       "      <td>0c8e08a9-0f62-4321-b5fc-00da1fb7c684</td>\n",
       "    </tr>\n",
       "  </tbody>\n",
       "</table>\n",
       "<p>3869 rows × 2 columns</p>\n",
       "</div>\n",
       "    <div class=\"colab-df-buttons\">\n",
       "\n",
       "  <div class=\"colab-df-container\">\n",
       "    <button class=\"colab-df-convert\" onclick=\"convertToInteractive('df-c5dc4655-42f6-4d7b-bc66-8e2ac35c9903')\"\n",
       "            title=\"Convert this dataframe to an interactive table.\"\n",
       "            style=\"display:none;\">\n",
       "\n",
       "  <svg xmlns=\"http://www.w3.org/2000/svg\" height=\"24px\" viewBox=\"0 -960 960 960\">\n",
       "    <path d=\"M120-120v-720h720v720H120Zm60-500h600v-160H180v160Zm220 220h160v-160H400v160Zm0 220h160v-160H400v160ZM180-400h160v-160H180v160Zm440 0h160v-160H620v160ZM180-180h160v-160H180v160Zm440 0h160v-160H620v160Z\"/>\n",
       "  </svg>\n",
       "    </button>\n",
       "\n",
       "  <style>\n",
       "    .colab-df-container {\n",
       "      display:flex;\n",
       "      gap: 12px;\n",
       "    }\n",
       "\n",
       "    .colab-df-convert {\n",
       "      background-color: #E8F0FE;\n",
       "      border: none;\n",
       "      border-radius: 50%;\n",
       "      cursor: pointer;\n",
       "      display: none;\n",
       "      fill: #1967D2;\n",
       "      height: 32px;\n",
       "      padding: 0 0 0 0;\n",
       "      width: 32px;\n",
       "    }\n",
       "\n",
       "    .colab-df-convert:hover {\n",
       "      background-color: #E2EBFA;\n",
       "      box-shadow: 0px 1px 2px rgba(60, 64, 67, 0.3), 0px 1px 3px 1px rgba(60, 64, 67, 0.15);\n",
       "      fill: #174EA6;\n",
       "    }\n",
       "\n",
       "    .colab-df-buttons div {\n",
       "      margin-bottom: 4px;\n",
       "    }\n",
       "\n",
       "    [theme=dark] .colab-df-convert {\n",
       "      background-color: #3B4455;\n",
       "      fill: #D2E3FC;\n",
       "    }\n",
       "\n",
       "    [theme=dark] .colab-df-convert:hover {\n",
       "      background-color: #434B5C;\n",
       "      box-shadow: 0px 1px 3px 1px rgba(0, 0, 0, 0.15);\n",
       "      filter: drop-shadow(0px 1px 2px rgba(0, 0, 0, 0.3));\n",
       "      fill: #FFFFFF;\n",
       "    }\n",
       "  </style>\n",
       "\n",
       "    <script>\n",
       "      const buttonEl =\n",
       "        document.querySelector('#df-c5dc4655-42f6-4d7b-bc66-8e2ac35c9903 button.colab-df-convert');\n",
       "      buttonEl.style.display =\n",
       "        google.colab.kernel.accessAllowed ? 'block' : 'none';\n",
       "\n",
       "      async function convertToInteractive(key) {\n",
       "        const element = document.querySelector('#df-c5dc4655-42f6-4d7b-bc66-8e2ac35c9903');\n",
       "        const dataTable =\n",
       "          await google.colab.kernel.invokeFunction('convertToInteractive',\n",
       "                                                    [key], {});\n",
       "        if (!dataTable) return;\n",
       "\n",
       "        const docLinkHtml = 'Like what you see? Visit the ' +\n",
       "          '<a target=\"_blank\" href=https://colab.research.google.com/notebooks/data_table.ipynb>data table notebook</a>'\n",
       "          + ' to learn more about interactive tables.';\n",
       "        element.innerHTML = '';\n",
       "        dataTable['output_type'] = 'display_data';\n",
       "        await google.colab.output.renderOutput(dataTable, element);\n",
       "        const docLink = document.createElement('div');\n",
       "        docLink.innerHTML = docLinkHtml;\n",
       "        element.appendChild(docLink);\n",
       "      }\n",
       "    </script>\n",
       "  </div>\n",
       "\n",
       "\n",
       "<div id=\"df-574749bc-9d61-49b6-9ec4-110efd10b5b2\">\n",
       "  <button class=\"colab-df-quickchart\" onclick=\"quickchart('df-574749bc-9d61-49b6-9ec4-110efd10b5b2')\"\n",
       "            title=\"Suggest charts\"\n",
       "            style=\"display:none;\">\n",
       "\n",
       "<svg xmlns=\"http://www.w3.org/2000/svg\" height=\"24px\"viewBox=\"0 0 24 24\"\n",
       "     width=\"24px\">\n",
       "    <g>\n",
       "        <path d=\"M19 3H5c-1.1 0-2 .9-2 2v14c0 1.1.9 2 2 2h14c1.1 0 2-.9 2-2V5c0-1.1-.9-2-2-2zM9 17H7v-7h2v7zm4 0h-2V7h2v10zm4 0h-2v-4h2v4z\"/>\n",
       "    </g>\n",
       "</svg>\n",
       "  </button>\n",
       "\n",
       "<style>\n",
       "  .colab-df-quickchart {\n",
       "      --bg-color: #E8F0FE;\n",
       "      --fill-color: #1967D2;\n",
       "      --hover-bg-color: #E2EBFA;\n",
       "      --hover-fill-color: #174EA6;\n",
       "      --disabled-fill-color: #AAA;\n",
       "      --disabled-bg-color: #DDD;\n",
       "  }\n",
       "\n",
       "  [theme=dark] .colab-df-quickchart {\n",
       "      --bg-color: #3B4455;\n",
       "      --fill-color: #D2E3FC;\n",
       "      --hover-bg-color: #434B5C;\n",
       "      --hover-fill-color: #FFFFFF;\n",
       "      --disabled-bg-color: #3B4455;\n",
       "      --disabled-fill-color: #666;\n",
       "  }\n",
       "\n",
       "  .colab-df-quickchart {\n",
       "    background-color: var(--bg-color);\n",
       "    border: none;\n",
       "    border-radius: 50%;\n",
       "    cursor: pointer;\n",
       "    display: none;\n",
       "    fill: var(--fill-color);\n",
       "    height: 32px;\n",
       "    padding: 0;\n",
       "    width: 32px;\n",
       "  }\n",
       "\n",
       "  .colab-df-quickchart:hover {\n",
       "    background-color: var(--hover-bg-color);\n",
       "    box-shadow: 0 1px 2px rgba(60, 64, 67, 0.3), 0 1px 3px 1px rgba(60, 64, 67, 0.15);\n",
       "    fill: var(--button-hover-fill-color);\n",
       "  }\n",
       "\n",
       "  .colab-df-quickchart-complete:disabled,\n",
       "  .colab-df-quickchart-complete:disabled:hover {\n",
       "    background-color: var(--disabled-bg-color);\n",
       "    fill: var(--disabled-fill-color);\n",
       "    box-shadow: none;\n",
       "  }\n",
       "\n",
       "  .colab-df-spinner {\n",
       "    border: 2px solid var(--fill-color);\n",
       "    border-color: transparent;\n",
       "    border-bottom-color: var(--fill-color);\n",
       "    animation:\n",
       "      spin 1s steps(1) infinite;\n",
       "  }\n",
       "\n",
       "  @keyframes spin {\n",
       "    0% {\n",
       "      border-color: transparent;\n",
       "      border-bottom-color: var(--fill-color);\n",
       "      border-left-color: var(--fill-color);\n",
       "    }\n",
       "    20% {\n",
       "      border-color: transparent;\n",
       "      border-left-color: var(--fill-color);\n",
       "      border-top-color: var(--fill-color);\n",
       "    }\n",
       "    30% {\n",
       "      border-color: transparent;\n",
       "      border-left-color: var(--fill-color);\n",
       "      border-top-color: var(--fill-color);\n",
       "      border-right-color: var(--fill-color);\n",
       "    }\n",
       "    40% {\n",
       "      border-color: transparent;\n",
       "      border-right-color: var(--fill-color);\n",
       "      border-top-color: var(--fill-color);\n",
       "    }\n",
       "    60% {\n",
       "      border-color: transparent;\n",
       "      border-right-color: var(--fill-color);\n",
       "    }\n",
       "    80% {\n",
       "      border-color: transparent;\n",
       "      border-right-color: var(--fill-color);\n",
       "      border-bottom-color: var(--fill-color);\n",
       "    }\n",
       "    90% {\n",
       "      border-color: transparent;\n",
       "      border-bottom-color: var(--fill-color);\n",
       "    }\n",
       "  }\n",
       "</style>\n",
       "\n",
       "  <script>\n",
       "    async function quickchart(key) {\n",
       "      const quickchartButtonEl =\n",
       "        document.querySelector('#' + key + ' button');\n",
       "      quickchartButtonEl.disabled = true;  // To prevent multiple clicks.\n",
       "      quickchartButtonEl.classList.add('colab-df-spinner');\n",
       "      try {\n",
       "        const charts = await google.colab.kernel.invokeFunction(\n",
       "            'suggestCharts', [key], {});\n",
       "      } catch (error) {\n",
       "        console.error('Error during call to suggestCharts:', error);\n",
       "      }\n",
       "      quickchartButtonEl.classList.remove('colab-df-spinner');\n",
       "      quickchartButtonEl.classList.add('colab-df-quickchart-complete');\n",
       "    }\n",
       "    (() => {\n",
       "      let quickchartButtonEl =\n",
       "        document.querySelector('#df-574749bc-9d61-49b6-9ec4-110efd10b5b2 button');\n",
       "      quickchartButtonEl.style.display =\n",
       "        google.colab.kernel.accessAllowed ? 'block' : 'none';\n",
       "    })();\n",
       "  </script>\n",
       "</div>\n",
       "\n",
       "  <div id=\"id_894ec35f-adb3-4143-a7c9-769184743f6c\">\n",
       "    <style>\n",
       "      .colab-df-generate {\n",
       "        background-color: #E8F0FE;\n",
       "        border: none;\n",
       "        border-radius: 50%;\n",
       "        cursor: pointer;\n",
       "        display: none;\n",
       "        fill: #1967D2;\n",
       "        height: 32px;\n",
       "        padding: 0 0 0 0;\n",
       "        width: 32px;\n",
       "      }\n",
       "\n",
       "      .colab-df-generate:hover {\n",
       "        background-color: #E2EBFA;\n",
       "        box-shadow: 0px 1px 2px rgba(60, 64, 67, 0.3), 0px 1px 3px 1px rgba(60, 64, 67, 0.15);\n",
       "        fill: #174EA6;\n",
       "      }\n",
       "\n",
       "      [theme=dark] .colab-df-generate {\n",
       "        background-color: #3B4455;\n",
       "        fill: #D2E3FC;\n",
       "      }\n",
       "\n",
       "      [theme=dark] .colab-df-generate:hover {\n",
       "        background-color: #434B5C;\n",
       "        box-shadow: 0px 1px 3px 1px rgba(0, 0, 0, 0.15);\n",
       "        filter: drop-shadow(0px 1px 2px rgba(0, 0, 0, 0.3));\n",
       "        fill: #FFFFFF;\n",
       "      }\n",
       "    </style>\n",
       "    <button class=\"colab-df-generate\" onclick=\"generateWithVariable('df')\"\n",
       "            title=\"Generate code using this dataframe.\"\n",
       "            style=\"display:none;\">\n",
       "\n",
       "  <svg xmlns=\"http://www.w3.org/2000/svg\" height=\"24px\"viewBox=\"0 0 24 24\"\n",
       "       width=\"24px\">\n",
       "    <path d=\"M7,19H8.4L18.45,9,17,7.55,7,17.6ZM5,21V16.75L18.45,3.32a2,2,0,0,1,2.83,0l1.4,1.43a1.91,1.91,0,0,1,.58,1.4,1.91,1.91,0,0,1-.58,1.4L9.25,21ZM18.45,9,17,7.55Zm-12,3A5.31,5.31,0,0,0,4.9,8.1,5.31,5.31,0,0,0,1,6.5,5.31,5.31,0,0,0,4.9,4.9,5.31,5.31,0,0,0,6.5,1,5.31,5.31,0,0,0,8.1,4.9,5.31,5.31,0,0,0,12,6.5,5.46,5.46,0,0,0,6.5,12Z\"/>\n",
       "  </svg>\n",
       "    </button>\n",
       "    <script>\n",
       "      (() => {\n",
       "      const buttonEl =\n",
       "        document.querySelector('#id_894ec35f-adb3-4143-a7c9-769184743f6c button.colab-df-generate');\n",
       "      buttonEl.style.display =\n",
       "        google.colab.kernel.accessAllowed ? 'block' : 'none';\n",
       "\n",
       "      buttonEl.onclick = () => {\n",
       "        google.colab.notebook.generateWithVariable('df');\n",
       "      }\n",
       "      })();\n",
       "    </script>\n",
       "  </div>\n",
       "\n",
       "    </div>\n",
       "  </div>\n"
      ],
      "text/plain": [
       "                                 Keyword                           Document ID\n",
       "0                                  black  48696b4b-978e-46b1-a5b3-f451d5265f42\n",
       "1                    asymptotically flat  48696b4b-978e-46b1-a5b3-f451d5265f42\n",
       "2                    high energy physics  48696b4b-978e-46b1-a5b3-f451d5265f42\n",
       "3                                entropy  48696b4b-978e-46b1-a5b3-f451d5265f42\n",
       "4     extreme binary black hole geometry  48696b4b-978e-46b1-a5b3-f451d5265f42\n",
       "...                                  ...                                   ...\n",
       "3864                  rise of the drones  122c9909-c944-4d75-b462-0053c93fe3af\n",
       "3865                             buffalo  0c8e08a9-0f62-4321-b5fc-00da1fb7c684\n",
       "3866                             buffalo  122c9909-c944-4d75-b462-0053c93fe3af\n",
       "3867               quantitative patterns  0c8e08a9-0f62-4321-b5fc-00da1fb7c684\n",
       "3868                        quantitative  0c8e08a9-0f62-4321-b5fc-00da1fb7c684\n",
       "\n",
       "[3869 rows x 2 columns]"
      ]
     },
     "execution_count": 49,
     "metadata": {},
     "output_type": "execute_result"
    }
   ],
   "source": [
    "# Extract data for DataFrame\n",
    "data = []\n",
    "for keyword, doc_ids in keyword_index.index_struct.table.items():\n",
    "    for doc_id in doc_ids:\n",
    "        data.append({\"Keyword\": keyword, \"Document ID\": doc_id})\n",
    "\n",
    "# Create the DataFrame\n",
    "df = pd.DataFrame(data)\n",
    "df"
   ]
  },
  {
   "cell_type": "code",
   "execution_count": null,
   "metadata": {
    "id": "ix5glq4iuUk5"
   },
   "outputs": [],
   "source": [
    "keyword_query_engine = keyword_index.as_query_engine(similarity_top_k=k, temperature=temp, num_output=mt)"
   ]
  },
  {
   "cell_type": "code",
   "execution_count": null,
   "metadata": {
    "colab": {
     "base_uri": "https://localhost:8080/"
    },
    "id": "tC8YzxoxuZSH",
    "outputId": "a7991305-5d49-4a8d-cc57-20163fe7d2f4"
   },
   "outputs": [
    {
     "name": "stdout",
     "output_type": "stream",
     "text": [
      "Query execution time: 2.4282 seconds\n",
      "Drones can identify vehicles through various means such as visual recognition using onboard cameras,\n",
      "sensors, and image processing algorithms. They can also utilize technologies like artificial\n",
      "intelligence and machine learning to analyze and classify vehicles based on their shapes, sizes, and\n",
      "movement patterns. Additionally, drones can be equipped with specialized software for object\n",
      "detection and tracking to identify vehicles accurately.\n"
     ]
    }
   ],
   "source": [
    "import time\n",
    "\n",
    "# Start the timer\n",
    "start_time = time.time()\n",
    "\n",
    "# Execute the query (using .query() method)\n",
    "response = keyword_query_engine.query(user_input)\n",
    "\n",
    "# Stop the timer\n",
    "end_time = time.time()\n",
    "\n",
    "# Calculate and print the execution time\n",
    "elapsed_time = end_time - start_time\n",
    "print(f\"Query execution time: {elapsed_time:.4f} seconds\")\n",
    "\n",
    "print(textwrap.fill(str(response), 100))"
   ]
  },
  {
   "cell_type": "markdown",
   "metadata": {
    "id": "Ay1I5OY2bWcM"
   },
   "source": [
    "## Performance metric"
   ]
  },
  {
   "cell_type": "code",
   "execution_count": null,
   "metadata": {
    "colab": {
     "base_uri": "https://localhost:8080/"
    },
    "id": "DfdJI586bWcN",
    "outputId": "5ff09dbf-a541-46e5-e090-bf863bf23d17"
   },
   "outputs": [
    {
     "name": "stdout",
     "output_type": "stream",
     "text": [
      "Cosine Similarity Score: 0.801\n",
      "Query execution time: 2.4282 seconds\n",
      "Performance metric: 0.3299\n"
     ]
    }
   ],
   "source": [
    "similarity_score = calculate_cosine_similarity_with_embeddings(user_input, str(response))\n",
    "print(f\"Cosine Similarity Score: {similarity_score:.3f}\")\n",
    "print(f\"Query execution time: {elapsed_time:.4f} seconds\")\n",
    "performance=similarity_score/elapsed_time\n",
    "print(f\"Performance metric: {performance:.4f}\")"
   ]
  }
 ],
 "metadata": {
  "colab": {
   "provenance": [],
   "toc_visible": true
  },
  "kernelspec": {
   "display_name": "Python 3 (ipykernel)",
   "language": "python",
   "name": "python3"
  },
  "language_info": {
   "codemirror_mode": {
    "name": "ipython",
    "version": 3
   },
   "file_extension": ".py",
   "mimetype": "text/x-python",
   "name": "python",
   "nbconvert_exporter": "python",
   "pygments_lexer": "ipython3",
   "version": "3.9.7"
  },
  "vscode": {
   "interpreter": {
    "hash": "6e44765f40d39e4c6e3d7a9b35e5b42b8711c1c0fb3c237b84fa62e4b3e35e04"
   }
  },
  "widgets": {
   "application/vnd.jupyter.widget-state+json": {
    "02a9765b794e4e70b07a3a4ec8ecb997": {
     "model_module": "@jupyter-widgets/controls",
     "model_module_version": "1.5.0",
     "model_name": "HBoxModel",
     "state": {
      "_dom_classes": [],
      "_model_module": "@jupyter-widgets/controls",
      "_model_module_version": "1.5.0",
      "_model_name": "HBoxModel",
      "_view_count": null,
      "_view_module": "@jupyter-widgets/controls",
      "_view_module_version": "1.5.0",
      "_view_name": "HBoxView",
      "box_style": "",
      "children": [
       "IPY_MODEL_63b464fe718d475c82a783c576e4e7e4",
       "IPY_MODEL_d0fe22d5e8454ed4b9e997c7efc2f3d7",
       "IPY_MODEL_5fbaa6d4aca844ba919022644923163f"
      ],
      "layout": "IPY_MODEL_b5a10ec452f84dd9860b2be34d7c97ea"
     }
    },
    "067d4c1d55954e9ca6d238eff7f61842": {
     "model_module": "@jupyter-widgets/controls",
     "model_module_version": "1.5.0",
     "model_name": "HBoxModel",
     "state": {
      "_dom_classes": [],
      "_model_module": "@jupyter-widgets/controls",
      "_model_module_version": "1.5.0",
      "_model_name": "HBoxModel",
      "_view_count": null,
      "_view_module": "@jupyter-widgets/controls",
      "_view_module_version": "1.5.0",
      "_view_name": "HBoxView",
      "box_style": "",
      "children": [
       "IPY_MODEL_e977817388dd436d828608b12c091248",
       "IPY_MODEL_8d62e32492f04f55ae67425c2fcf512c",
       "IPY_MODEL_bcf6ae696e9b4c098a5c48b6f3b5140c"
      ],
      "layout": "IPY_MODEL_5f12cb2e604e4bf18a085fb68a873f74"
     }
    },
    "07670af9cfd3490bac902eae4afa8366": {
     "model_module": "@jupyter-widgets/base",
     "model_module_version": "1.2.0",
     "model_name": "LayoutModel",
     "state": {
      "_model_module": "@jupyter-widgets/base",
      "_model_module_version": "1.2.0",
      "_model_name": "LayoutModel",
      "_view_count": null,
      "_view_module": "@jupyter-widgets/base",
      "_view_module_version": "1.2.0",
      "_view_name": "LayoutView",
      "align_content": null,
      "align_items": null,
      "align_self": null,
      "border": null,
      "bottom": null,
      "display": null,
      "flex": null,
      "flex_flow": null,
      "grid_area": null,
      "grid_auto_columns": null,
      "grid_auto_flow": null,
      "grid_auto_rows": null,
      "grid_column": null,
      "grid_gap": null,
      "grid_row": null,
      "grid_template_areas": null,
      "grid_template_columns": null,
      "grid_template_rows": null,
      "height": null,
      "justify_content": null,
      "justify_items": null,
      "left": null,
      "margin": null,
      "max_height": null,
      "max_width": null,
      "min_height": null,
      "min_width": null,
      "object_fit": null,
      "object_position": null,
      "order": null,
      "overflow": null,
      "overflow_x": null,
      "overflow_y": null,
      "padding": null,
      "right": null,
      "top": null,
      "visibility": null,
      "width": null
     }
    },
    "096a6a46299547dcb839445fc3fa3181": {
     "model_module": "@jupyter-widgets/base",
     "model_module_version": "1.2.0",
     "model_name": "LayoutModel",
     "state": {
      "_model_module": "@jupyter-widgets/base",
      "_model_module_version": "1.2.0",
      "_model_name": "LayoutModel",
      "_view_count": null,
      "_view_module": "@jupyter-widgets/base",
      "_view_module_version": "1.2.0",
      "_view_name": "LayoutView",
      "align_content": null,
      "align_items": null,
      "align_self": null,
      "border": null,
      "bottom": null,
      "display": null,
      "flex": null,
      "flex_flow": null,
      "grid_area": null,
      "grid_auto_columns": null,
      "grid_auto_flow": null,
      "grid_auto_rows": null,
      "grid_column": null,
      "grid_gap": null,
      "grid_row": null,
      "grid_template_areas": null,
      "grid_template_columns": null,
      "grid_template_rows": null,
      "height": null,
      "justify_content": null,
      "justify_items": null,
      "left": null,
      "margin": null,
      "max_height": null,
      "max_width": null,
      "min_height": null,
      "min_width": null,
      "object_fit": null,
      "object_position": null,
      "order": null,
      "overflow": null,
      "overflow_x": null,
      "overflow_y": null,
      "padding": null,
      "right": null,
      "top": null,
      "visibility": null,
      "width": null
     }
    },
    "0c37310991754eff8d567074c875c31a": {
     "model_module": "@jupyter-widgets/controls",
     "model_module_version": "1.5.0",
     "model_name": "HTMLModel",
     "state": {
      "_dom_classes": [],
      "_model_module": "@jupyter-widgets/controls",
      "_model_module_version": "1.5.0",
      "_model_name": "HTMLModel",
      "_view_count": null,
      "_view_module": "@jupyter-widgets/controls",
      "_view_module_version": "1.5.0",
      "_view_name": "HTMLView",
      "description": "",
      "description_tooltip": null,
      "layout": "IPY_MODEL_2fda031473724105a01ed00d38737afd",
      "placeholder": "​",
      "style": "IPY_MODEL_19b056141d144c03bdd2722eafe83afd",
      "value": " 53.0/53.0 [00:00&lt;00:00, 2.42kB/s]"
     }
    },
    "0f82b4d09a28415eb5fec3ede7070b8b": {
     "model_module": "@jupyter-widgets/controls",
     "model_module_version": "1.5.0",
     "model_name": "HTMLModel",
     "state": {
      "_dom_classes": [],
      "_model_module": "@jupyter-widgets/controls",
      "_model_module_version": "1.5.0",
      "_model_name": "HTMLModel",
      "_view_count": null,
      "_view_module": "@jupyter-widgets/controls",
      "_view_module_version": "1.5.0",
      "_view_name": "HTMLView",
      "description": "",
      "description_tooltip": null,
      "layout": "IPY_MODEL_f5b52141dab24c5cbbed6a498612429c",
      "placeholder": "​",
      "style": "IPY_MODEL_5bf1dbb8810940b7b87a5b587926d838",
      "value": " 116/116 [00:00&lt;00:00, 5.64kB/s]"
     }
    },
    "127dfa2057be45bbb1c521766d85e145": {
     "model_module": "@jupyter-widgets/base",
     "model_module_version": "1.2.0",
     "model_name": "LayoutModel",
     "state": {
      "_model_module": "@jupyter-widgets/base",
      "_model_module_version": "1.2.0",
      "_model_name": "LayoutModel",
      "_view_count": null,
      "_view_module": "@jupyter-widgets/base",
      "_view_module_version": "1.2.0",
      "_view_name": "LayoutView",
      "align_content": null,
      "align_items": null,
      "align_self": null,
      "border": null,
      "bottom": null,
      "display": null,
      "flex": null,
      "flex_flow": null,
      "grid_area": null,
      "grid_auto_columns": null,
      "grid_auto_flow": null,
      "grid_auto_rows": null,
      "grid_column": null,
      "grid_gap": null,
      "grid_row": null,
      "grid_template_areas": null,
      "grid_template_columns": null,
      "grid_template_rows": null,
      "height": null,
      "justify_content": null,
      "justify_items": null,
      "left": null,
      "margin": null,
      "max_height": null,
      "max_width": null,
      "min_height": null,
      "min_width": null,
      "object_fit": null,
      "object_position": null,
      "order": null,
      "overflow": null,
      "overflow_x": null,
      "overflow_y": null,
      "padding": null,
      "right": null,
      "top": null,
      "visibility": null,
      "width": null
     }
    },
    "13921712c22b4877835cbd4b23adc8db": {
     "model_module": "@jupyter-widgets/controls",
     "model_module_version": "1.5.0",
     "model_name": "ProgressStyleModel",
     "state": {
      "_model_module": "@jupyter-widgets/controls",
      "_model_module_version": "1.5.0",
      "_model_name": "ProgressStyleModel",
      "_view_count": null,
      "_view_module": "@jupyter-widgets/base",
      "_view_module_version": "1.2.0",
      "_view_name": "StyleView",
      "bar_color": null,
      "description_width": ""
     }
    },
    "174ee1af6f7441ffbaf6d61b6ff97633": {
     "model_module": "@jupyter-widgets/base",
     "model_module_version": "1.2.0",
     "model_name": "LayoutModel",
     "state": {
      "_model_module": "@jupyter-widgets/base",
      "_model_module_version": "1.2.0",
      "_model_name": "LayoutModel",
      "_view_count": null,
      "_view_module": "@jupyter-widgets/base",
      "_view_module_version": "1.2.0",
      "_view_name": "LayoutView",
      "align_content": null,
      "align_items": null,
      "align_self": null,
      "border": null,
      "bottom": null,
      "display": null,
      "flex": null,
      "flex_flow": null,
      "grid_area": null,
      "grid_auto_columns": null,
      "grid_auto_flow": null,
      "grid_auto_rows": null,
      "grid_column": null,
      "grid_gap": null,
      "grid_row": null,
      "grid_template_areas": null,
      "grid_template_columns": null,
      "grid_template_rows": null,
      "height": null,
      "justify_content": null,
      "justify_items": null,
      "left": null,
      "margin": null,
      "max_height": null,
      "max_width": null,
      "min_height": null,
      "min_width": null,
      "object_fit": null,
      "object_position": null,
      "order": null,
      "overflow": null,
      "overflow_x": null,
      "overflow_y": null,
      "padding": null,
      "right": null,
      "top": null,
      "visibility": null,
      "width": null
     }
    },
    "19029ea522324617bb7913e72377bf62": {
     "model_module": "@jupyter-widgets/controls",
     "model_module_version": "1.5.0",
     "model_name": "HBoxModel",
     "state": {
      "_dom_classes": [],
      "_model_module": "@jupyter-widgets/controls",
      "_model_module_version": "1.5.0",
      "_model_name": "HBoxModel",
      "_view_count": null,
      "_view_module": "@jupyter-widgets/controls",
      "_view_module_version": "1.5.0",
      "_view_name": "HBoxView",
      "box_style": "",
      "children": [
       "IPY_MODEL_34ed6c11d7c7436083e20ad66abb3fc1",
       "IPY_MODEL_608c011bd4054134bba8a16541511b62",
       "IPY_MODEL_0f82b4d09a28415eb5fec3ede7070b8b"
      ],
      "layout": "IPY_MODEL_44d9968e0fa64183a5f608b6b8f33498"
     }
    },
    "19b056141d144c03bdd2722eafe83afd": {
     "model_module": "@jupyter-widgets/controls",
     "model_module_version": "1.5.0",
     "model_name": "DescriptionStyleModel",
     "state": {
      "_model_module": "@jupyter-widgets/controls",
      "_model_module_version": "1.5.0",
      "_model_name": "DescriptionStyleModel",
      "_view_count": null,
      "_view_module": "@jupyter-widgets/base",
      "_view_module_version": "1.2.0",
      "_view_name": "StyleView",
      "description_width": ""
     }
    },
    "1a2cce0cb2354b5fb8c2e92ab221b77e": {
     "model_module": "@jupyter-widgets/base",
     "model_module_version": "1.2.0",
     "model_name": "LayoutModel",
     "state": {
      "_model_module": "@jupyter-widgets/base",
      "_model_module_version": "1.2.0",
      "_model_name": "LayoutModel",
      "_view_count": null,
      "_view_module": "@jupyter-widgets/base",
      "_view_module_version": "1.2.0",
      "_view_name": "LayoutView",
      "align_content": null,
      "align_items": null,
      "align_self": null,
      "border": null,
      "bottom": null,
      "display": null,
      "flex": null,
      "flex_flow": null,
      "grid_area": null,
      "grid_auto_columns": null,
      "grid_auto_flow": null,
      "grid_auto_rows": null,
      "grid_column": null,
      "grid_gap": null,
      "grid_row": null,
      "grid_template_areas": null,
      "grid_template_columns": null,
      "grid_template_rows": null,
      "height": null,
      "justify_content": null,
      "justify_items": null,
      "left": null,
      "margin": null,
      "max_height": null,
      "max_width": null,
      "min_height": null,
      "min_width": null,
      "object_fit": null,
      "object_position": null,
      "order": null,
      "overflow": null,
      "overflow_x": null,
      "overflow_y": null,
      "padding": null,
      "right": null,
      "top": null,
      "visibility": null,
      "width": null
     }
    },
    "1b69d3cc7c5a4f1387e29cfe6b68092f": {
     "model_module": "@jupyter-widgets/controls",
     "model_module_version": "1.5.0",
     "model_name": "DescriptionStyleModel",
     "state": {
      "_model_module": "@jupyter-widgets/controls",
      "_model_module_version": "1.5.0",
      "_model_name": "DescriptionStyleModel",
      "_view_count": null,
      "_view_module": "@jupyter-widgets/base",
      "_view_module_version": "1.2.0",
      "_view_name": "StyleView",
      "description_width": ""
     }
    },
    "1d191169bd5e476da884d5649651e3a5": {
     "model_module": "@jupyter-widgets/base",
     "model_module_version": "1.2.0",
     "model_name": "LayoutModel",
     "state": {
      "_model_module": "@jupyter-widgets/base",
      "_model_module_version": "1.2.0",
      "_model_name": "LayoutModel",
      "_view_count": null,
      "_view_module": "@jupyter-widgets/base",
      "_view_module_version": "1.2.0",
      "_view_name": "LayoutView",
      "align_content": null,
      "align_items": null,
      "align_self": null,
      "border": null,
      "bottom": null,
      "display": null,
      "flex": null,
      "flex_flow": null,
      "grid_area": null,
      "grid_auto_columns": null,
      "grid_auto_flow": null,
      "grid_auto_rows": null,
      "grid_column": null,
      "grid_gap": null,
      "grid_row": null,
      "grid_template_areas": null,
      "grid_template_columns": null,
      "grid_template_rows": null,
      "height": null,
      "justify_content": null,
      "justify_items": null,
      "left": null,
      "margin": null,
      "max_height": null,
      "max_width": null,
      "min_height": null,
      "min_width": null,
      "object_fit": null,
      "object_position": null,
      "order": null,
      "overflow": null,
      "overflow_x": null,
      "overflow_y": null,
      "padding": null,
      "right": null,
      "top": null,
      "visibility": null,
      "width": null
     }
    },
    "1de799b71c5441e498cd8d43d45b8366": {
     "model_module": "@jupyter-widgets/base",
     "model_module_version": "1.2.0",
     "model_name": "LayoutModel",
     "state": {
      "_model_module": "@jupyter-widgets/base",
      "_model_module_version": "1.2.0",
      "_model_name": "LayoutModel",
      "_view_count": null,
      "_view_module": "@jupyter-widgets/base",
      "_view_module_version": "1.2.0",
      "_view_name": "LayoutView",
      "align_content": null,
      "align_items": null,
      "align_self": null,
      "border": null,
      "bottom": null,
      "display": null,
      "flex": null,
      "flex_flow": null,
      "grid_area": null,
      "grid_auto_columns": null,
      "grid_auto_flow": null,
      "grid_auto_rows": null,
      "grid_column": null,
      "grid_gap": null,
      "grid_row": null,
      "grid_template_areas": null,
      "grid_template_columns": null,
      "grid_template_rows": null,
      "height": null,
      "justify_content": null,
      "justify_items": null,
      "left": null,
      "margin": null,
      "max_height": null,
      "max_width": null,
      "min_height": null,
      "min_width": null,
      "object_fit": null,
      "object_position": null,
      "order": null,
      "overflow": null,
      "overflow_x": null,
      "overflow_y": null,
      "padding": null,
      "right": null,
      "top": null,
      "visibility": null,
      "width": null
     }
    },
    "1e435a788e214f04a329ee79c182e3fb": {
     "model_module": "@jupyter-widgets/controls",
     "model_module_version": "1.5.0",
     "model_name": "DescriptionStyleModel",
     "state": {
      "_model_module": "@jupyter-widgets/controls",
      "_model_module_version": "1.5.0",
      "_model_name": "DescriptionStyleModel",
      "_view_count": null,
      "_view_module": "@jupyter-widgets/base",
      "_view_module_version": "1.2.0",
      "_view_name": "StyleView",
      "description_width": ""
     }
    },
    "1eeb9a3cff5d4545b58f95c5086faff1": {
     "model_module": "@jupyter-widgets/base",
     "model_module_version": "1.2.0",
     "model_name": "LayoutModel",
     "state": {
      "_model_module": "@jupyter-widgets/base",
      "_model_module_version": "1.2.0",
      "_model_name": "LayoutModel",
      "_view_count": null,
      "_view_module": "@jupyter-widgets/base",
      "_view_module_version": "1.2.0",
      "_view_name": "LayoutView",
      "align_content": null,
      "align_items": null,
      "align_self": null,
      "border": null,
      "bottom": null,
      "display": null,
      "flex": null,
      "flex_flow": null,
      "grid_area": null,
      "grid_auto_columns": null,
      "grid_auto_flow": null,
      "grid_auto_rows": null,
      "grid_column": null,
      "grid_gap": null,
      "grid_row": null,
      "grid_template_areas": null,
      "grid_template_columns": null,
      "grid_template_rows": null,
      "height": null,
      "justify_content": null,
      "justify_items": null,
      "left": null,
      "margin": null,
      "max_height": null,
      "max_width": null,
      "min_height": null,
      "min_width": null,
      "object_fit": null,
      "object_position": null,
      "order": null,
      "overflow": null,
      "overflow_x": null,
      "overflow_y": null,
      "padding": null,
      "right": null,
      "top": null,
      "visibility": null,
      "width": null
     }
    },
    "1f3854ce54dc4f3e86de64e3bdc19c04": {
     "model_module": "@jupyter-widgets/controls",
     "model_module_version": "1.5.0",
     "model_name": "FloatProgressModel",
     "state": {
      "_dom_classes": [],
      "_model_module": "@jupyter-widgets/controls",
      "_model_module_version": "1.5.0",
      "_model_name": "FloatProgressModel",
      "_view_count": null,
      "_view_module": "@jupyter-widgets/controls",
      "_view_module_version": "1.5.0",
      "_view_name": "ProgressView",
      "bar_style": "success",
      "description": "",
      "description_tooltip": null,
      "layout": "IPY_MODEL_490b14c2be0c49b59d1236fa4abcdfc4",
      "max": 350,
      "min": 0,
      "orientation": "horizontal",
      "style": "IPY_MODEL_5e925b068ff24337b56fde07d5467bea",
      "value": 350
     }
    },
    "1fe9c1d04a9741c0b4369e5838c8ae01": {
     "model_module": "@jupyter-widgets/base",
     "model_module_version": "1.2.0",
     "model_name": "LayoutModel",
     "state": {
      "_model_module": "@jupyter-widgets/base",
      "_model_module_version": "1.2.0",
      "_model_name": "LayoutModel",
      "_view_count": null,
      "_view_module": "@jupyter-widgets/base",
      "_view_module_version": "1.2.0",
      "_view_name": "LayoutView",
      "align_content": null,
      "align_items": null,
      "align_self": null,
      "border": null,
      "bottom": null,
      "display": null,
      "flex": null,
      "flex_flow": null,
      "grid_area": null,
      "grid_auto_columns": null,
      "grid_auto_flow": null,
      "grid_auto_rows": null,
      "grid_column": null,
      "grid_gap": null,
      "grid_row": null,
      "grid_template_areas": null,
      "grid_template_columns": null,
      "grid_template_rows": null,
      "height": null,
      "justify_content": null,
      "justify_items": null,
      "left": null,
      "margin": null,
      "max_height": null,
      "max_width": null,
      "min_height": null,
      "min_width": null,
      "object_fit": null,
      "object_position": null,
      "order": null,
      "overflow": null,
      "overflow_x": null,
      "overflow_y": null,
      "padding": null,
      "right": null,
      "top": null,
      "visibility": null,
      "width": null
     }
    },
    "214ac2d8f151418dac7da8c3368fdee8": {
     "model_module": "@jupyter-widgets/base",
     "model_module_version": "1.2.0",
     "model_name": "LayoutModel",
     "state": {
      "_model_module": "@jupyter-widgets/base",
      "_model_module_version": "1.2.0",
      "_model_name": "LayoutModel",
      "_view_count": null,
      "_view_module": "@jupyter-widgets/base",
      "_view_module_version": "1.2.0",
      "_view_name": "LayoutView",
      "align_content": null,
      "align_items": null,
      "align_self": null,
      "border": null,
      "bottom": null,
      "display": null,
      "flex": null,
      "flex_flow": null,
      "grid_area": null,
      "grid_auto_columns": null,
      "grid_auto_flow": null,
      "grid_auto_rows": null,
      "grid_column": null,
      "grid_gap": null,
      "grid_row": null,
      "grid_template_areas": null,
      "grid_template_columns": null,
      "grid_template_rows": null,
      "height": null,
      "justify_content": null,
      "justify_items": null,
      "left": null,
      "margin": null,
      "max_height": null,
      "max_width": null,
      "min_height": null,
      "min_width": null,
      "object_fit": null,
      "object_position": null,
      "order": null,
      "overflow": null,
      "overflow_x": null,
      "overflow_y": null,
      "padding": null,
      "right": null,
      "top": null,
      "visibility": null,
      "width": null
     }
    },
    "2154484deed74dd08cfb3e8f04927d7e": {
     "model_module": "@jupyter-widgets/controls",
     "model_module_version": "1.5.0",
     "model_name": "HBoxModel",
     "state": {
      "_dom_classes": [],
      "_model_module": "@jupyter-widgets/controls",
      "_model_module_version": "1.5.0",
      "_model_name": "HBoxModel",
      "_view_count": null,
      "_view_module": "@jupyter-widgets/controls",
      "_view_module_version": "1.5.0",
      "_view_name": "HBoxView",
      "box_style": "",
      "children": [
       "IPY_MODEL_f24c673424594b7eb6f0ffe39bf69513",
       "IPY_MODEL_bb8a471f3f684d928f925cb24317c2ba",
       "IPY_MODEL_ac0d11fd90f849c792120c73414a8a1e"
      ],
      "layout": "IPY_MODEL_8cd07f233f3f4f2b9ae9db13c757cd18"
     }
    },
    "216785bb035b45ebb02ed0547ff42577": {
     "model_module": "@jupyter-widgets/controls",
     "model_module_version": "1.5.0",
     "model_name": "ProgressStyleModel",
     "state": {
      "_model_module": "@jupyter-widgets/controls",
      "_model_module_version": "1.5.0",
      "_model_name": "ProgressStyleModel",
      "_view_count": null,
      "_view_module": "@jupyter-widgets/base",
      "_view_module_version": "1.2.0",
      "_view_name": "StyleView",
      "bar_color": null,
      "description_width": ""
     }
    },
    "25f95dbdedcc4e7c91b5d2951d025619": {
     "model_module": "@jupyter-widgets/base",
     "model_module_version": "1.2.0",
     "model_name": "LayoutModel",
     "state": {
      "_model_module": "@jupyter-widgets/base",
      "_model_module_version": "1.2.0",
      "_model_name": "LayoutModel",
      "_view_count": null,
      "_view_module": "@jupyter-widgets/base",
      "_view_module_version": "1.2.0",
      "_view_name": "LayoutView",
      "align_content": null,
      "align_items": null,
      "align_self": null,
      "border": null,
      "bottom": null,
      "display": null,
      "flex": null,
      "flex_flow": null,
      "grid_area": null,
      "grid_auto_columns": null,
      "grid_auto_flow": null,
      "grid_auto_rows": null,
      "grid_column": null,
      "grid_gap": null,
      "grid_row": null,
      "grid_template_areas": null,
      "grid_template_columns": null,
      "grid_template_rows": null,
      "height": null,
      "justify_content": null,
      "justify_items": null,
      "left": null,
      "margin": null,
      "max_height": null,
      "max_width": null,
      "min_height": null,
      "min_width": null,
      "object_fit": null,
      "object_position": null,
      "order": null,
      "overflow": null,
      "overflow_x": null,
      "overflow_y": null,
      "padding": null,
      "right": null,
      "top": null,
      "visibility": null,
      "width": null
     }
    },
    "27a092a272a54683a170ffa799f01611": {
     "model_module": "@jupyter-widgets/controls",
     "model_module_version": "1.5.0",
     "model_name": "ProgressStyleModel",
     "state": {
      "_model_module": "@jupyter-widgets/controls",
      "_model_module_version": "1.5.0",
      "_model_name": "ProgressStyleModel",
      "_view_count": null,
      "_view_module": "@jupyter-widgets/base",
      "_view_module_version": "1.2.0",
      "_view_name": "StyleView",
      "bar_color": null,
      "description_width": ""
     }
    },
    "27c3b9298cf64d3bbda0bd106b23e6ff": {
     "model_module": "@jupyter-widgets/base",
     "model_module_version": "1.2.0",
     "model_name": "LayoutModel",
     "state": {
      "_model_module": "@jupyter-widgets/base",
      "_model_module_version": "1.2.0",
      "_model_name": "LayoutModel",
      "_view_count": null,
      "_view_module": "@jupyter-widgets/base",
      "_view_module_version": "1.2.0",
      "_view_name": "LayoutView",
      "align_content": null,
      "align_items": null,
      "align_self": null,
      "border": null,
      "bottom": null,
      "display": null,
      "flex": null,
      "flex_flow": null,
      "grid_area": null,
      "grid_auto_columns": null,
      "grid_auto_flow": null,
      "grid_auto_rows": null,
      "grid_column": null,
      "grid_gap": null,
      "grid_row": null,
      "grid_template_areas": null,
      "grid_template_columns": null,
      "grid_template_rows": null,
      "height": null,
      "justify_content": null,
      "justify_items": null,
      "left": null,
      "margin": null,
      "max_height": null,
      "max_width": null,
      "min_height": null,
      "min_width": null,
      "object_fit": null,
      "object_position": null,
      "order": null,
      "overflow": null,
      "overflow_x": null,
      "overflow_y": null,
      "padding": null,
      "right": null,
      "top": null,
      "visibility": null,
      "width": null
     }
    },
    "2b7956880e364a01907fd4633d349257": {
     "model_module": "@jupyter-widgets/controls",
     "model_module_version": "1.5.0",
     "model_name": "DescriptionStyleModel",
     "state": {
      "_model_module": "@jupyter-widgets/controls",
      "_model_module_version": "1.5.0",
      "_model_name": "DescriptionStyleModel",
      "_view_count": null,
      "_view_module": "@jupyter-widgets/base",
      "_view_module_version": "1.2.0",
      "_view_name": "StyleView",
      "description_width": ""
     }
    },
    "2c6cd21e0d9b4d66a103421f6afb6313": {
     "model_module": "@jupyter-widgets/base",
     "model_module_version": "1.2.0",
     "model_name": "LayoutModel",
     "state": {
      "_model_module": "@jupyter-widgets/base",
      "_model_module_version": "1.2.0",
      "_model_name": "LayoutModel",
      "_view_count": null,
      "_view_module": "@jupyter-widgets/base",
      "_view_module_version": "1.2.0",
      "_view_name": "LayoutView",
      "align_content": null,
      "align_items": null,
      "align_self": null,
      "border": null,
      "bottom": null,
      "display": null,
      "flex": null,
      "flex_flow": null,
      "grid_area": null,
      "grid_auto_columns": null,
      "grid_auto_flow": null,
      "grid_auto_rows": null,
      "grid_column": null,
      "grid_gap": null,
      "grid_row": null,
      "grid_template_areas": null,
      "grid_template_columns": null,
      "grid_template_rows": null,
      "height": null,
      "justify_content": null,
      "justify_items": null,
      "left": null,
      "margin": null,
      "max_height": null,
      "max_width": null,
      "min_height": null,
      "min_width": null,
      "object_fit": null,
      "object_position": null,
      "order": null,
      "overflow": null,
      "overflow_x": null,
      "overflow_y": null,
      "padding": null,
      "right": null,
      "top": null,
      "visibility": null,
      "width": null
     }
    },
    "2ed533c6085c40b8b3c1d71895fd8f8e": {
     "model_module": "@jupyter-widgets/controls",
     "model_module_version": "1.5.0",
     "model_name": "DescriptionStyleModel",
     "state": {
      "_model_module": "@jupyter-widgets/controls",
      "_model_module_version": "1.5.0",
      "_model_name": "DescriptionStyleModel",
      "_view_count": null,
      "_view_module": "@jupyter-widgets/base",
      "_view_module_version": "1.2.0",
      "_view_name": "StyleView",
      "description_width": ""
     }
    },
    "2fda031473724105a01ed00d38737afd": {
     "model_module": "@jupyter-widgets/base",
     "model_module_version": "1.2.0",
     "model_name": "LayoutModel",
     "state": {
      "_model_module": "@jupyter-widgets/base",
      "_model_module_version": "1.2.0",
      "_model_name": "LayoutModel",
      "_view_count": null,
      "_view_module": "@jupyter-widgets/base",
      "_view_module_version": "1.2.0",
      "_view_name": "LayoutView",
      "align_content": null,
      "align_items": null,
      "align_self": null,
      "border": null,
      "bottom": null,
      "display": null,
      "flex": null,
      "flex_flow": null,
      "grid_area": null,
      "grid_auto_columns": null,
      "grid_auto_flow": null,
      "grid_auto_rows": null,
      "grid_column": null,
      "grid_gap": null,
      "grid_row": null,
      "grid_template_areas": null,
      "grid_template_columns": null,
      "grid_template_rows": null,
      "height": null,
      "justify_content": null,
      "justify_items": null,
      "left": null,
      "margin": null,
      "max_height": null,
      "max_width": null,
      "min_height": null,
      "min_width": null,
      "object_fit": null,
      "object_position": null,
      "order": null,
      "overflow": null,
      "overflow_x": null,
      "overflow_y": null,
      "padding": null,
      "right": null,
      "top": null,
      "visibility": null,
      "width": null
     }
    },
    "310fe91747ff4c1bb1f4552ed311c1db": {
     "model_module": "@jupyter-widgets/controls",
     "model_module_version": "1.5.0",
     "model_name": "DescriptionStyleModel",
     "state": {
      "_model_module": "@jupyter-widgets/controls",
      "_model_module_version": "1.5.0",
      "_model_name": "DescriptionStyleModel",
      "_view_count": null,
      "_view_module": "@jupyter-widgets/base",
      "_view_module_version": "1.2.0",
      "_view_name": "StyleView",
      "description_width": ""
     }
    },
    "33c8476d2f9f42ae976c3953e9ff4efb": {
     "model_module": "@jupyter-widgets/base",
     "model_module_version": "1.2.0",
     "model_name": "LayoutModel",
     "state": {
      "_model_module": "@jupyter-widgets/base",
      "_model_module_version": "1.2.0",
      "_model_name": "LayoutModel",
      "_view_count": null,
      "_view_module": "@jupyter-widgets/base",
      "_view_module_version": "1.2.0",
      "_view_name": "LayoutView",
      "align_content": null,
      "align_items": null,
      "align_self": null,
      "border": null,
      "bottom": null,
      "display": null,
      "flex": null,
      "flex_flow": null,
      "grid_area": null,
      "grid_auto_columns": null,
      "grid_auto_flow": null,
      "grid_auto_rows": null,
      "grid_column": null,
      "grid_gap": null,
      "grid_row": null,
      "grid_template_areas": null,
      "grid_template_columns": null,
      "grid_template_rows": null,
      "height": null,
      "justify_content": null,
      "justify_items": null,
      "left": null,
      "margin": null,
      "max_height": null,
      "max_width": null,
      "min_height": null,
      "min_width": null,
      "object_fit": null,
      "object_position": null,
      "order": null,
      "overflow": null,
      "overflow_x": null,
      "overflow_y": null,
      "padding": null,
      "right": null,
      "top": null,
      "visibility": null,
      "width": null
     }
    },
    "34b402eb223a4fd79dffd0ca19c63c06": {
     "model_module": "@jupyter-widgets/controls",
     "model_module_version": "1.5.0",
     "model_name": "DescriptionStyleModel",
     "state": {
      "_model_module": "@jupyter-widgets/controls",
      "_model_module_version": "1.5.0",
      "_model_name": "DescriptionStyleModel",
      "_view_count": null,
      "_view_module": "@jupyter-widgets/base",
      "_view_module_version": "1.2.0",
      "_view_name": "StyleView",
      "description_width": ""
     }
    },
    "34d3c9c19bfa469f9f1f46ad4312c6ec": {
     "model_module": "@jupyter-widgets/base",
     "model_module_version": "1.2.0",
     "model_name": "LayoutModel",
     "state": {
      "_model_module": "@jupyter-widgets/base",
      "_model_module_version": "1.2.0",
      "_model_name": "LayoutModel",
      "_view_count": null,
      "_view_module": "@jupyter-widgets/base",
      "_view_module_version": "1.2.0",
      "_view_name": "LayoutView",
      "align_content": null,
      "align_items": null,
      "align_self": null,
      "border": null,
      "bottom": null,
      "display": null,
      "flex": null,
      "flex_flow": null,
      "grid_area": null,
      "grid_auto_columns": null,
      "grid_auto_flow": null,
      "grid_auto_rows": null,
      "grid_column": null,
      "grid_gap": null,
      "grid_row": null,
      "grid_template_areas": null,
      "grid_template_columns": null,
      "grid_template_rows": null,
      "height": null,
      "justify_content": null,
      "justify_items": null,
      "left": null,
      "margin": null,
      "max_height": null,
      "max_width": null,
      "min_height": null,
      "min_width": null,
      "object_fit": null,
      "object_position": null,
      "order": null,
      "overflow": null,
      "overflow_x": null,
      "overflow_y": null,
      "padding": null,
      "right": null,
      "top": null,
      "visibility": null,
      "width": null
     }
    },
    "34ed6c11d7c7436083e20ad66abb3fc1": {
     "model_module": "@jupyter-widgets/controls",
     "model_module_version": "1.5.0",
     "model_name": "HTMLModel",
     "state": {
      "_dom_classes": [],
      "_model_module": "@jupyter-widgets/controls",
      "_model_module_version": "1.5.0",
      "_model_name": "HTMLModel",
      "_view_count": null,
      "_view_module": "@jupyter-widgets/controls",
      "_view_module_version": "1.5.0",
      "_view_name": "HTMLView",
      "description": "",
      "description_tooltip": null,
      "layout": "IPY_MODEL_ba5d71929e2e4528b255208f25f5a748",
      "placeholder": "​",
      "style": "IPY_MODEL_46d6352d9a77487288cc0dcb7a5a0e48",
      "value": "config_sentence_transformers.json: 100%"
     }
    },
    "34f196b7436f491299089297187fd827": {
     "model_module": "@jupyter-widgets/controls",
     "model_module_version": "1.5.0",
     "model_name": "HTMLModel",
     "state": {
      "_dom_classes": [],
      "_model_module": "@jupyter-widgets/controls",
      "_model_module_version": "1.5.0",
      "_model_name": "HTMLModel",
      "_view_count": null,
      "_view_module": "@jupyter-widgets/controls",
      "_view_module_version": "1.5.0",
      "_view_name": "HTMLView",
      "description": "",
      "description_tooltip": null,
      "layout": "IPY_MODEL_fa5cc8cb8486411487895e0cf9e762c1",
      "placeholder": "​",
      "style": "IPY_MODEL_e9fcd26342844355b5dfad06906a9af1",
      "value": "special_tokens_map.json: 100%"
     }
    },
    "377e04ba9541484c813431660bc2adda": {
     "model_module": "@jupyter-widgets/controls",
     "model_module_version": "1.5.0",
     "model_name": "HTMLModel",
     "state": {
      "_dom_classes": [],
      "_model_module": "@jupyter-widgets/controls",
      "_model_module_version": "1.5.0",
      "_model_name": "HTMLModel",
      "_view_count": null,
      "_view_module": "@jupyter-widgets/controls",
      "_view_module_version": "1.5.0",
      "_view_name": "HTMLView",
      "description": "",
      "description_tooltip": null,
      "layout": "IPY_MODEL_e317caf2f64d4023a6166fec375270fb",
      "placeholder": "​",
      "style": "IPY_MODEL_feda893ba90445a89c693c80d53a6e6c",
      "value": " 612/612 [00:00&lt;00:00, 32.7kB/s]"
     }
    },
    "3eda09f6739846c28d84eaa5de971841": {
     "model_module": "@jupyter-widgets/controls",
     "model_module_version": "1.5.0",
     "model_name": "HBoxModel",
     "state": {
      "_dom_classes": [],
      "_model_module": "@jupyter-widgets/controls",
      "_model_module_version": "1.5.0",
      "_model_name": "HBoxModel",
      "_view_count": null,
      "_view_module": "@jupyter-widgets/controls",
      "_view_module_version": "1.5.0",
      "_view_name": "HBoxView",
      "box_style": "",
      "children": [
       "IPY_MODEL_4975186362f74f70a5e26a67a256ff1f",
       "IPY_MODEL_1f3854ce54dc4f3e86de64e3bdc19c04",
       "IPY_MODEL_55081fab141f4b6ab9783100a448b3f2"
      ],
      "layout": "IPY_MODEL_2c6cd21e0d9b4d66a103421f6afb6313"
     }
    },
    "401a8e15c8454be3bae1049eb4e606ed": {
     "model_module": "@jupyter-widgets/controls",
     "model_module_version": "1.5.0",
     "model_name": "ProgressStyleModel",
     "state": {
      "_model_module": "@jupyter-widgets/controls",
      "_model_module_version": "1.5.0",
      "_model_name": "ProgressStyleModel",
      "_view_count": null,
      "_view_module": "@jupyter-widgets/base",
      "_view_module_version": "1.2.0",
      "_view_name": "StyleView",
      "bar_color": null,
      "description_width": ""
     }
    },
    "41c34e2632f04aa2a67cc1578e37c348": {
     "model_module": "@jupyter-widgets/controls",
     "model_module_version": "1.5.0",
     "model_name": "DescriptionStyleModel",
     "state": {
      "_model_module": "@jupyter-widgets/controls",
      "_model_module_version": "1.5.0",
      "_model_name": "DescriptionStyleModel",
      "_view_count": null,
      "_view_module": "@jupyter-widgets/base",
      "_view_module_version": "1.2.0",
      "_view_name": "StyleView",
      "description_width": ""
     }
    },
    "44d9968e0fa64183a5f608b6b8f33498": {
     "model_module": "@jupyter-widgets/base",
     "model_module_version": "1.2.0",
     "model_name": "LayoutModel",
     "state": {
      "_model_module": "@jupyter-widgets/base",
      "_model_module_version": "1.2.0",
      "_model_name": "LayoutModel",
      "_view_count": null,
      "_view_module": "@jupyter-widgets/base",
      "_view_module_version": "1.2.0",
      "_view_name": "LayoutView",
      "align_content": null,
      "align_items": null,
      "align_self": null,
      "border": null,
      "bottom": null,
      "display": null,
      "flex": null,
      "flex_flow": null,
      "grid_area": null,
      "grid_auto_columns": null,
      "grid_auto_flow": null,
      "grid_auto_rows": null,
      "grid_column": null,
      "grid_gap": null,
      "grid_row": null,
      "grid_template_areas": null,
      "grid_template_columns": null,
      "grid_template_rows": null,
      "height": null,
      "justify_content": null,
      "justify_items": null,
      "left": null,
      "margin": null,
      "max_height": null,
      "max_width": null,
      "min_height": null,
      "min_width": null,
      "object_fit": null,
      "object_position": null,
      "order": null,
      "overflow": null,
      "overflow_x": null,
      "overflow_y": null,
      "padding": null,
      "right": null,
      "top": null,
      "visibility": null,
      "width": null
     }
    },
    "45603466a3b34112a3a3f92988f05300": {
     "model_module": "@jupyter-widgets/controls",
     "model_module_version": "1.5.0",
     "model_name": "HBoxModel",
     "state": {
      "_dom_classes": [],
      "_model_module": "@jupyter-widgets/controls",
      "_model_module_version": "1.5.0",
      "_model_name": "HBoxModel",
      "_view_count": null,
      "_view_module": "@jupyter-widgets/controls",
      "_view_module_version": "1.5.0",
      "_view_name": "HBoxView",
      "box_style": "",
      "children": [
       "IPY_MODEL_69d6da3a3d7c45c382d92a52569b92eb",
       "IPY_MODEL_f21888b569e14b09980463cdcc480bda",
       "IPY_MODEL_57b56f88e61a48059900dd87a19b6464"
      ],
      "layout": "IPY_MODEL_27c3b9298cf64d3bbda0bd106b23e6ff"
     }
    },
    "46d6352d9a77487288cc0dcb7a5a0e48": {
     "model_module": "@jupyter-widgets/controls",
     "model_module_version": "1.5.0",
     "model_name": "DescriptionStyleModel",
     "state": {
      "_model_module": "@jupyter-widgets/controls",
      "_model_module_version": "1.5.0",
      "_model_name": "DescriptionStyleModel",
      "_view_count": null,
      "_view_module": "@jupyter-widgets/base",
      "_view_module_version": "1.2.0",
      "_view_name": "StyleView",
      "description_width": ""
     }
    },
    "490b14c2be0c49b59d1236fa4abcdfc4": {
     "model_module": "@jupyter-widgets/base",
     "model_module_version": "1.2.0",
     "model_name": "LayoutModel",
     "state": {
      "_model_module": "@jupyter-widgets/base",
      "_model_module_version": "1.2.0",
      "_model_name": "LayoutModel",
      "_view_count": null,
      "_view_module": "@jupyter-widgets/base",
      "_view_module_version": "1.2.0",
      "_view_name": "LayoutView",
      "align_content": null,
      "align_items": null,
      "align_self": null,
      "border": null,
      "bottom": null,
      "display": null,
      "flex": null,
      "flex_flow": null,
      "grid_area": null,
      "grid_auto_columns": null,
      "grid_auto_flow": null,
      "grid_auto_rows": null,
      "grid_column": null,
      "grid_gap": null,
      "grid_row": null,
      "grid_template_areas": null,
      "grid_template_columns": null,
      "grid_template_rows": null,
      "height": null,
      "justify_content": null,
      "justify_items": null,
      "left": null,
      "margin": null,
      "max_height": null,
      "max_width": null,
      "min_height": null,
      "min_width": null,
      "object_fit": null,
      "object_position": null,
      "order": null,
      "overflow": null,
      "overflow_x": null,
      "overflow_y": null,
      "padding": null,
      "right": null,
      "top": null,
      "visibility": null,
      "width": null
     }
    },
    "4975186362f74f70a5e26a67a256ff1f": {
     "model_module": "@jupyter-widgets/controls",
     "model_module_version": "1.5.0",
     "model_name": "HTMLModel",
     "state": {
      "_dom_classes": [],
      "_model_module": "@jupyter-widgets/controls",
      "_model_module_version": "1.5.0",
      "_model_name": "HTMLModel",
      "_view_count": null,
      "_view_module": "@jupyter-widgets/controls",
      "_view_module_version": "1.5.0",
      "_view_name": "HTMLView",
      "description": "",
      "description_tooltip": null,
      "layout": "IPY_MODEL_c5342e7d723a477dacc312b887385dfd",
      "placeholder": "​",
      "style": "IPY_MODEL_b3dcd109c3954f26a0717e6f706cbdf0",
      "value": "tokenizer_config.json: 100%"
     }
    },
    "4f1c192e224e4f8784150ae234f263fc": {
     "model_module": "@jupyter-widgets/controls",
     "model_module_version": "1.5.0",
     "model_name": "FloatProgressModel",
     "state": {
      "_dom_classes": [],
      "_model_module": "@jupyter-widgets/controls",
      "_model_module_version": "1.5.0",
      "_model_name": "FloatProgressModel",
      "_view_count": null,
      "_view_module": "@jupyter-widgets/controls",
      "_view_module_version": "1.5.0",
      "_view_name": "ProgressView",
      "bar_style": "success",
      "description": "",
      "description_tooltip": null,
      "layout": "IPY_MODEL_d255872d231245c09663fb2f6676fad4",
      "max": 53,
      "min": 0,
      "orientation": "horizontal",
      "style": "IPY_MODEL_27a092a272a54683a170ffa799f01611",
      "value": 53
     }
    },
    "502332806e7b4ead99ce3e41a35551c3": {
     "model_module": "@jupyter-widgets/controls",
     "model_module_version": "1.5.0",
     "model_name": "DescriptionStyleModel",
     "state": {
      "_model_module": "@jupyter-widgets/controls",
      "_model_module_version": "1.5.0",
      "_model_name": "DescriptionStyleModel",
      "_view_count": null,
      "_view_module": "@jupyter-widgets/base",
      "_view_module_version": "1.2.0",
      "_view_name": "StyleView",
      "description_width": ""
     }
    },
    "53b7210c68954e5eb29ecc9785d1a2e8": {
     "model_module": "@jupyter-widgets/controls",
     "model_module_version": "1.5.0",
     "model_name": "DescriptionStyleModel",
     "state": {
      "_model_module": "@jupyter-widgets/controls",
      "_model_module_version": "1.5.0",
      "_model_name": "DescriptionStyleModel",
      "_view_count": null,
      "_view_module": "@jupyter-widgets/base",
      "_view_module_version": "1.2.0",
      "_view_name": "StyleView",
      "description_width": ""
     }
    },
    "55081fab141f4b6ab9783100a448b3f2": {
     "model_module": "@jupyter-widgets/controls",
     "model_module_version": "1.5.0",
     "model_name": "HTMLModel",
     "state": {
      "_dom_classes": [],
      "_model_module": "@jupyter-widgets/controls",
      "_model_module_version": "1.5.0",
      "_model_name": "HTMLModel",
      "_view_count": null,
      "_view_module": "@jupyter-widgets/controls",
      "_view_module_version": "1.5.0",
      "_view_name": "HTMLView",
      "description": "",
      "description_tooltip": null,
      "layout": "IPY_MODEL_994ae56df4bc4b6f9a9516324ed68b51",
      "placeholder": "​",
      "style": "IPY_MODEL_1e435a788e214f04a329ee79c182e3fb",
      "value": " 350/350 [00:00&lt;00:00, 8.46kB/s]"
     }
    },
    "5576fdd1d934469a99e9e3e21454f0f3": {
     "model_module": "@jupyter-widgets/base",
     "model_module_version": "1.2.0",
     "model_name": "LayoutModel",
     "state": {
      "_model_module": "@jupyter-widgets/base",
      "_model_module_version": "1.2.0",
      "_model_name": "LayoutModel",
      "_view_count": null,
      "_view_module": "@jupyter-widgets/base",
      "_view_module_version": "1.2.0",
      "_view_name": "LayoutView",
      "align_content": null,
      "align_items": null,
      "align_self": null,
      "border": null,
      "bottom": null,
      "display": null,
      "flex": null,
      "flex_flow": null,
      "grid_area": null,
      "grid_auto_columns": null,
      "grid_auto_flow": null,
      "grid_auto_rows": null,
      "grid_column": null,
      "grid_gap": null,
      "grid_row": null,
      "grid_template_areas": null,
      "grid_template_columns": null,
      "grid_template_rows": null,
      "height": null,
      "justify_content": null,
      "justify_items": null,
      "left": null,
      "margin": null,
      "max_height": null,
      "max_width": null,
      "min_height": null,
      "min_width": null,
      "object_fit": null,
      "object_position": null,
      "order": null,
      "overflow": null,
      "overflow_x": null,
      "overflow_y": null,
      "padding": null,
      "right": null,
      "top": null,
      "visibility": null,
      "width": null
     }
    },
    "57b56f88e61a48059900dd87a19b6464": {
     "model_module": "@jupyter-widgets/controls",
     "model_module_version": "1.5.0",
     "model_name": "HTMLModel",
     "state": {
      "_dom_classes": [],
      "_model_module": "@jupyter-widgets/controls",
      "_model_module_version": "1.5.0",
      "_model_name": "HTMLModel",
      "_view_count": null,
      "_view_module": "@jupyter-widgets/controls",
      "_view_module_version": "1.5.0",
      "_view_name": "HTMLView",
      "description": "",
      "description_tooltip": null,
      "layout": "IPY_MODEL_bace242e7f7148fc98fc0624b29d60ff",
      "placeholder": "​",
      "style": "IPY_MODEL_2ed533c6085c40b8b3c1d71895fd8f8e",
      "value": " 190/190 [00:00&lt;00:00, 9.90kB/s]"
     }
    },
    "5bf1dbb8810940b7b87a5b587926d838": {
     "model_module": "@jupyter-widgets/controls",
     "model_module_version": "1.5.0",
     "model_name": "DescriptionStyleModel",
     "state": {
      "_model_module": "@jupyter-widgets/controls",
      "_model_module_version": "1.5.0",
      "_model_name": "DescriptionStyleModel",
      "_view_count": null,
      "_view_module": "@jupyter-widgets/base",
      "_view_module_version": "1.2.0",
      "_view_name": "StyleView",
      "description_width": ""
     }
    },
    "5dbde136c0454bc1aea9b692f496a764": {
     "model_module": "@jupyter-widgets/controls",
     "model_module_version": "1.5.0",
     "model_name": "HTMLModel",
     "state": {
      "_dom_classes": [],
      "_model_module": "@jupyter-widgets/controls",
      "_model_module_version": "1.5.0",
      "_model_name": "HTMLModel",
      "_view_count": null,
      "_view_module": "@jupyter-widgets/controls",
      "_view_module_version": "1.5.0",
      "_view_name": "HTMLView",
      "description": "",
      "description_tooltip": null,
      "layout": "IPY_MODEL_b33e50a221dc44a8a6b1f3cd9ddf9bbb",
      "placeholder": "​",
      "style": "IPY_MODEL_1b69d3cc7c5a4f1387e29cfe6b68092f",
      "value": " 112/112 [00:00&lt;00:00, 4.91kB/s]"
     }
    },
    "5e925b068ff24337b56fde07d5467bea": {
     "model_module": "@jupyter-widgets/controls",
     "model_module_version": "1.5.0",
     "model_name": "ProgressStyleModel",
     "state": {
      "_model_module": "@jupyter-widgets/controls",
      "_model_module_version": "1.5.0",
      "_model_name": "ProgressStyleModel",
      "_view_count": null,
      "_view_module": "@jupyter-widgets/base",
      "_view_module_version": "1.2.0",
      "_view_name": "StyleView",
      "bar_color": null,
      "description_width": ""
     }
    },
    "5eb7a4237e1040c9afe090c33faa1a89": {
     "model_module": "@jupyter-widgets/controls",
     "model_module_version": "1.5.0",
     "model_name": "HBoxModel",
     "state": {
      "_dom_classes": [],
      "_model_module": "@jupyter-widgets/controls",
      "_model_module_version": "1.5.0",
      "_model_name": "HBoxModel",
      "_view_count": null,
      "_view_module": "@jupyter-widgets/controls",
      "_view_module_version": "1.5.0",
      "_view_name": "HBoxView",
      "box_style": "",
      "children": [
       "IPY_MODEL_b8104bab44ab419d823447bf35833574",
       "IPY_MODEL_7813436562104d8db92758afa7df9a0f",
       "IPY_MODEL_377e04ba9541484c813431660bc2adda"
      ],
      "layout": "IPY_MODEL_ad742bbb70fc4693924c5419d6403ec6"
     }
    },
    "5f12cb2e604e4bf18a085fb68a873f74": {
     "model_module": "@jupyter-widgets/base",
     "model_module_version": "1.2.0",
     "model_name": "LayoutModel",
     "state": {
      "_model_module": "@jupyter-widgets/base",
      "_model_module_version": "1.2.0",
      "_model_name": "LayoutModel",
      "_view_count": null,
      "_view_module": "@jupyter-widgets/base",
      "_view_module_version": "1.2.0",
      "_view_name": "LayoutView",
      "align_content": null,
      "align_items": null,
      "align_self": null,
      "border": null,
      "bottom": null,
      "display": null,
      "flex": null,
      "flex_flow": null,
      "grid_area": null,
      "grid_auto_columns": null,
      "grid_auto_flow": null,
      "grid_auto_rows": null,
      "grid_column": null,
      "grid_gap": null,
      "grid_row": null,
      "grid_template_areas": null,
      "grid_template_columns": null,
      "grid_template_rows": null,
      "height": null,
      "justify_content": null,
      "justify_items": null,
      "left": null,
      "margin": null,
      "max_height": null,
      "max_width": null,
      "min_height": null,
      "min_width": null,
      "object_fit": null,
      "object_position": null,
      "order": null,
      "overflow": null,
      "overflow_x": null,
      "overflow_y": null,
      "padding": null,
      "right": null,
      "top": null,
      "visibility": null,
      "width": null
     }
    },
    "5f29a32353f642e39372ac17a6adb6c3": {
     "model_module": "@jupyter-widgets/controls",
     "model_module_version": "1.5.0",
     "model_name": "ProgressStyleModel",
     "state": {
      "_model_module": "@jupyter-widgets/controls",
      "_model_module_version": "1.5.0",
      "_model_name": "ProgressStyleModel",
      "_view_count": null,
      "_view_module": "@jupyter-widgets/base",
      "_view_module_version": "1.2.0",
      "_view_name": "StyleView",
      "bar_color": null,
      "description_width": ""
     }
    },
    "5fbaa6d4aca844ba919022644923163f": {
     "model_module": "@jupyter-widgets/controls",
     "model_module_version": "1.5.0",
     "model_name": "HTMLModel",
     "state": {
      "_dom_classes": [],
      "_model_module": "@jupyter-widgets/controls",
      "_model_module_version": "1.5.0",
      "_model_name": "HTMLModel",
      "_view_count": null,
      "_view_module": "@jupyter-widgets/controls",
      "_view_module_version": "1.5.0",
      "_view_name": "HTMLView",
      "description": "",
      "description_tooltip": null,
      "layout": "IPY_MODEL_1fe9c1d04a9741c0b4369e5838c8ae01",
      "placeholder": "​",
      "style": "IPY_MODEL_41c34e2632f04aa2a67cc1578e37c348",
      "value": " 349/349 [00:00&lt;00:00, 19.9kB/s]"
     }
    },
    "608c011bd4054134bba8a16541511b62": {
     "model_module": "@jupyter-widgets/controls",
     "model_module_version": "1.5.0",
     "model_name": "FloatProgressModel",
     "state": {
      "_dom_classes": [],
      "_model_module": "@jupyter-widgets/controls",
      "_model_module_version": "1.5.0",
      "_model_name": "FloatProgressModel",
      "_view_count": null,
      "_view_module": "@jupyter-widgets/controls",
      "_view_module_version": "1.5.0",
      "_view_name": "ProgressView",
      "bar_style": "success",
      "description": "",
      "description_tooltip": null,
      "layout": "IPY_MODEL_214ac2d8f151418dac7da8c3368fdee8",
      "max": 116,
      "min": 0,
      "orientation": "horizontal",
      "style": "IPY_MODEL_e6e92bbf6789468b97da705bb0cc9bd3",
      "value": 116
     }
    },
    "61884f59a60247878582db0b73ea670a": {
     "model_module": "@jupyter-widgets/base",
     "model_module_version": "1.2.0",
     "model_name": "LayoutModel",
     "state": {
      "_model_module": "@jupyter-widgets/base",
      "_model_module_version": "1.2.0",
      "_model_name": "LayoutModel",
      "_view_count": null,
      "_view_module": "@jupyter-widgets/base",
      "_view_module_version": "1.2.0",
      "_view_name": "LayoutView",
      "align_content": null,
      "align_items": null,
      "align_self": null,
      "border": null,
      "bottom": null,
      "display": null,
      "flex": null,
      "flex_flow": null,
      "grid_area": null,
      "grid_auto_columns": null,
      "grid_auto_flow": null,
      "grid_auto_rows": null,
      "grid_column": null,
      "grid_gap": null,
      "grid_row": null,
      "grid_template_areas": null,
      "grid_template_columns": null,
      "grid_template_rows": null,
      "height": null,
      "justify_content": null,
      "justify_items": null,
      "left": null,
      "margin": null,
      "max_height": null,
      "max_width": null,
      "min_height": null,
      "min_width": null,
      "object_fit": null,
      "object_position": null,
      "order": null,
      "overflow": null,
      "overflow_x": null,
      "overflow_y": null,
      "padding": null,
      "right": null,
      "top": null,
      "visibility": null,
      "width": null
     }
    },
    "63b464fe718d475c82a783c576e4e7e4": {
     "model_module": "@jupyter-widgets/controls",
     "model_module_version": "1.5.0",
     "model_name": "HTMLModel",
     "state": {
      "_dom_classes": [],
      "_model_module": "@jupyter-widgets/controls",
      "_model_module_version": "1.5.0",
      "_model_name": "HTMLModel",
      "_view_count": null,
      "_view_module": "@jupyter-widgets/controls",
      "_view_module_version": "1.5.0",
      "_view_name": "HTMLView",
      "description": "",
      "description_tooltip": null,
      "layout": "IPY_MODEL_bc9cbb1bb3b54520a824af2995c89959",
      "placeholder": "​",
      "style": "IPY_MODEL_e4ae9e6d4ba345389efe85273eac0886",
      "value": "modules.json: 100%"
     }
    },
    "66d738a42f064b618349aefcf490aac9": {
     "model_module": "@jupyter-widgets/controls",
     "model_module_version": "1.5.0",
     "model_name": "HTMLModel",
     "state": {
      "_dom_classes": [],
      "_model_module": "@jupyter-widgets/controls",
      "_model_module_version": "1.5.0",
      "_model_name": "HTMLModel",
      "_view_count": null,
      "_view_module": "@jupyter-widgets/controls",
      "_view_module_version": "1.5.0",
      "_view_name": "HTMLView",
      "description": "",
      "description_tooltip": null,
      "layout": "IPY_MODEL_1d191169bd5e476da884d5649651e3a5",
      "placeholder": "​",
      "style": "IPY_MODEL_75620be3f4ad4d1e99809d1086c0e3ee",
      "value": " 466k/466k [00:00&lt;00:00, 9.58MB/s]"
     }
    },
    "69d6da3a3d7c45c382d92a52569b92eb": {
     "model_module": "@jupyter-widgets/controls",
     "model_module_version": "1.5.0",
     "model_name": "HTMLModel",
     "state": {
      "_dom_classes": [],
      "_model_module": "@jupyter-widgets/controls",
      "_model_module_version": "1.5.0",
      "_model_name": "HTMLModel",
      "_view_count": null,
      "_view_module": "@jupyter-widgets/controls",
      "_view_module_version": "1.5.0",
      "_view_name": "HTMLView",
      "description": "",
      "description_tooltip": null,
      "layout": "IPY_MODEL_1de799b71c5441e498cd8d43d45b8366",
      "placeholder": "​",
      "style": "IPY_MODEL_2b7956880e364a01907fd4633d349257",
      "value": "1_Pooling/config.json: 100%"
     }
    },
    "6e0e7ff854574b67ba5af1ecf59234dd": {
     "model_module": "@jupyter-widgets/base",
     "model_module_version": "1.2.0",
     "model_name": "LayoutModel",
     "state": {
      "_model_module": "@jupyter-widgets/base",
      "_model_module_version": "1.2.0",
      "_model_name": "LayoutModel",
      "_view_count": null,
      "_view_module": "@jupyter-widgets/base",
      "_view_module_version": "1.2.0",
      "_view_name": "LayoutView",
      "align_content": null,
      "align_items": null,
      "align_self": null,
      "border": null,
      "bottom": null,
      "display": null,
      "flex": null,
      "flex_flow": null,
      "grid_area": null,
      "grid_auto_columns": null,
      "grid_auto_flow": null,
      "grid_auto_rows": null,
      "grid_column": null,
      "grid_gap": null,
      "grid_row": null,
      "grid_template_areas": null,
      "grid_template_columns": null,
      "grid_template_rows": null,
      "height": null,
      "justify_content": null,
      "justify_items": null,
      "left": null,
      "margin": null,
      "max_height": null,
      "max_width": null,
      "min_height": null,
      "min_width": null,
      "object_fit": null,
      "object_position": null,
      "order": null,
      "overflow": null,
      "overflow_x": null,
      "overflow_y": null,
      "padding": null,
      "right": null,
      "top": null,
      "visibility": null,
      "width": null
     }
    },
    "71384876baf34c47b389b4696f94e4c2": {
     "model_module": "@jupyter-widgets/controls",
     "model_module_version": "1.5.0",
     "model_name": "ProgressStyleModel",
     "state": {
      "_model_module": "@jupyter-widgets/controls",
      "_model_module_version": "1.5.0",
      "_model_name": "ProgressStyleModel",
      "_view_count": null,
      "_view_module": "@jupyter-widgets/base",
      "_view_module_version": "1.2.0",
      "_view_name": "StyleView",
      "bar_color": null,
      "description_width": ""
     }
    },
    "738b6445e5fb442eb6a286ddde9e4bbd": {
     "model_module": "@jupyter-widgets/controls",
     "model_module_version": "1.5.0",
     "model_name": "HBoxModel",
     "state": {
      "_dom_classes": [],
      "_model_module": "@jupyter-widgets/controls",
      "_model_module_version": "1.5.0",
      "_model_name": "HBoxModel",
      "_view_count": null,
      "_view_module": "@jupyter-widgets/controls",
      "_view_module_version": "1.5.0",
      "_view_name": "HBoxView",
      "box_style": "",
      "children": [
       "IPY_MODEL_f14ad13dcf2d4784a3497263e3e7c950",
       "IPY_MODEL_fced669b5cd74a888422b289cc12bef6",
       "IPY_MODEL_66d738a42f064b618349aefcf490aac9"
      ],
      "layout": "IPY_MODEL_f4a66e78d5cb415a92a2a2236074c6d9"
     }
    },
    "7501b02d23c046639cf8b29c1df85db9": {
     "model_module": "@jupyter-widgets/base",
     "model_module_version": "1.2.0",
     "model_name": "LayoutModel",
     "state": {
      "_model_module": "@jupyter-widgets/base",
      "_model_module_version": "1.2.0",
      "_model_name": "LayoutModel",
      "_view_count": null,
      "_view_module": "@jupyter-widgets/base",
      "_view_module_version": "1.2.0",
      "_view_name": "LayoutView",
      "align_content": null,
      "align_items": null,
      "align_self": null,
      "border": null,
      "bottom": null,
      "display": null,
      "flex": null,
      "flex_flow": null,
      "grid_area": null,
      "grid_auto_columns": null,
      "grid_auto_flow": null,
      "grid_auto_rows": null,
      "grid_column": null,
      "grid_gap": null,
      "grid_row": null,
      "grid_template_areas": null,
      "grid_template_columns": null,
      "grid_template_rows": null,
      "height": null,
      "justify_content": null,
      "justify_items": null,
      "left": null,
      "margin": null,
      "max_height": null,
      "max_width": null,
      "min_height": null,
      "min_width": null,
      "object_fit": null,
      "object_position": null,
      "order": null,
      "overflow": null,
      "overflow_x": null,
      "overflow_y": null,
      "padding": null,
      "right": null,
      "top": null,
      "visibility": null,
      "width": null
     }
    },
    "75620be3f4ad4d1e99809d1086c0e3ee": {
     "model_module": "@jupyter-widgets/controls",
     "model_module_version": "1.5.0",
     "model_name": "DescriptionStyleModel",
     "state": {
      "_model_module": "@jupyter-widgets/controls",
      "_model_module_version": "1.5.0",
      "_model_name": "DescriptionStyleModel",
      "_view_count": null,
      "_view_module": "@jupyter-widgets/base",
      "_view_module_version": "1.2.0",
      "_view_name": "StyleView",
      "description_width": ""
     }
    },
    "7813436562104d8db92758afa7df9a0f": {
     "model_module": "@jupyter-widgets/controls",
     "model_module_version": "1.5.0",
     "model_name": "FloatProgressModel",
     "state": {
      "_dom_classes": [],
      "_model_module": "@jupyter-widgets/controls",
      "_model_module_version": "1.5.0",
      "_model_name": "FloatProgressModel",
      "_view_count": null,
      "_view_module": "@jupyter-widgets/controls",
      "_view_module_version": "1.5.0",
      "_view_name": "ProgressView",
      "bar_style": "success",
      "description": "",
      "description_tooltip": null,
      "layout": "IPY_MODEL_5576fdd1d934469a99e9e3e21454f0f3",
      "max": 612,
      "min": 0,
      "orientation": "horizontal",
      "style": "IPY_MODEL_71384876baf34c47b389b4696f94e4c2",
      "value": 612
     }
    },
    "7a291b08b1064f0f8077516aae4f5497": {
     "model_module": "@jupyter-widgets/base",
     "model_module_version": "1.2.0",
     "model_name": "LayoutModel",
     "state": {
      "_model_module": "@jupyter-widgets/base",
      "_model_module_version": "1.2.0",
      "_model_name": "LayoutModel",
      "_view_count": null,
      "_view_module": "@jupyter-widgets/base",
      "_view_module_version": "1.2.0",
      "_view_name": "LayoutView",
      "align_content": null,
      "align_items": null,
      "align_self": null,
      "border": null,
      "bottom": null,
      "display": null,
      "flex": null,
      "flex_flow": null,
      "grid_area": null,
      "grid_auto_columns": null,
      "grid_auto_flow": null,
      "grid_auto_rows": null,
      "grid_column": null,
      "grid_gap": null,
      "grid_row": null,
      "grid_template_areas": null,
      "grid_template_columns": null,
      "grid_template_rows": null,
      "height": null,
      "justify_content": null,
      "justify_items": null,
      "left": null,
      "margin": null,
      "max_height": null,
      "max_width": null,
      "min_height": null,
      "min_width": null,
      "object_fit": null,
      "object_position": null,
      "order": null,
      "overflow": null,
      "overflow_x": null,
      "overflow_y": null,
      "padding": null,
      "right": null,
      "top": null,
      "visibility": null,
      "width": null
     }
    },
    "7bb9d91b8cd74f2e9d429d94a115fc63": {
     "model_module": "@jupyter-widgets/base",
     "model_module_version": "1.2.0",
     "model_name": "LayoutModel",
     "state": {
      "_model_module": "@jupyter-widgets/base",
      "_model_module_version": "1.2.0",
      "_model_name": "LayoutModel",
      "_view_count": null,
      "_view_module": "@jupyter-widgets/base",
      "_view_module_version": "1.2.0",
      "_view_name": "LayoutView",
      "align_content": null,
      "align_items": null,
      "align_self": null,
      "border": null,
      "bottom": null,
      "display": null,
      "flex": null,
      "flex_flow": null,
      "grid_area": null,
      "grid_auto_columns": null,
      "grid_auto_flow": null,
      "grid_auto_rows": null,
      "grid_column": null,
      "grid_gap": null,
      "grid_row": null,
      "grid_template_areas": null,
      "grid_template_columns": null,
      "grid_template_rows": null,
      "height": null,
      "justify_content": null,
      "justify_items": null,
      "left": null,
      "margin": null,
      "max_height": null,
      "max_width": null,
      "min_height": null,
      "min_width": null,
      "object_fit": null,
      "object_position": null,
      "order": null,
      "overflow": null,
      "overflow_x": null,
      "overflow_y": null,
      "padding": null,
      "right": null,
      "top": null,
      "visibility": null,
      "width": null
     }
    },
    "89e6fd130be14dee8ed5d6aa40d99fdf": {
     "model_module": "@jupyter-widgets/controls",
     "model_module_version": "1.5.0",
     "model_name": "ProgressStyleModel",
     "state": {
      "_model_module": "@jupyter-widgets/controls",
      "_model_module_version": "1.5.0",
      "_model_name": "ProgressStyleModel",
      "_view_count": null,
      "_view_module": "@jupyter-widgets/base",
      "_view_module_version": "1.2.0",
      "_view_name": "StyleView",
      "bar_color": null,
      "description_width": ""
     }
    },
    "8cd07f233f3f4f2b9ae9db13c757cd18": {
     "model_module": "@jupyter-widgets/base",
     "model_module_version": "1.2.0",
     "model_name": "LayoutModel",
     "state": {
      "_model_module": "@jupyter-widgets/base",
      "_model_module_version": "1.2.0",
      "_model_name": "LayoutModel",
      "_view_count": null,
      "_view_module": "@jupyter-widgets/base",
      "_view_module_version": "1.2.0",
      "_view_name": "LayoutView",
      "align_content": null,
      "align_items": null,
      "align_self": null,
      "border": null,
      "bottom": null,
      "display": null,
      "flex": null,
      "flex_flow": null,
      "grid_area": null,
      "grid_auto_columns": null,
      "grid_auto_flow": null,
      "grid_auto_rows": null,
      "grid_column": null,
      "grid_gap": null,
      "grid_row": null,
      "grid_template_areas": null,
      "grid_template_columns": null,
      "grid_template_rows": null,
      "height": null,
      "justify_content": null,
      "justify_items": null,
      "left": null,
      "margin": null,
      "max_height": null,
      "max_width": null,
      "min_height": null,
      "min_width": null,
      "object_fit": null,
      "object_position": null,
      "order": null,
      "overflow": null,
      "overflow_x": null,
      "overflow_y": null,
      "padding": null,
      "right": null,
      "top": null,
      "visibility": null,
      "width": null
     }
    },
    "8d62e32492f04f55ae67425c2fcf512c": {
     "model_module": "@jupyter-widgets/controls",
     "model_module_version": "1.5.0",
     "model_name": "FloatProgressModel",
     "state": {
      "_dom_classes": [],
      "_model_module": "@jupyter-widgets/controls",
      "_model_module_version": "1.5.0",
      "_model_name": "FloatProgressModel",
      "_view_count": null,
      "_view_module": "@jupyter-widgets/controls",
      "_view_module_version": "1.5.0",
      "_view_name": "ProgressView",
      "bar_style": "success",
      "description": "",
      "description_tooltip": null,
      "layout": "IPY_MODEL_096a6a46299547dcb839445fc3fa3181",
      "max": 90868376,
      "min": 0,
      "orientation": "horizontal",
      "style": "IPY_MODEL_401a8e15c8454be3bae1049eb4e606ed",
      "value": 90868376
     }
    },
    "8f7f82ce282645588e418fcf9cbc7c8f": {
     "model_module": "@jupyter-widgets/base",
     "model_module_version": "1.2.0",
     "model_name": "LayoutModel",
     "state": {
      "_model_module": "@jupyter-widgets/base",
      "_model_module_version": "1.2.0",
      "_model_name": "LayoutModel",
      "_view_count": null,
      "_view_module": "@jupyter-widgets/base",
      "_view_module_version": "1.2.0",
      "_view_name": "LayoutView",
      "align_content": null,
      "align_items": null,
      "align_self": null,
      "border": null,
      "bottom": null,
      "display": null,
      "flex": null,
      "flex_flow": null,
      "grid_area": null,
      "grid_auto_columns": null,
      "grid_auto_flow": null,
      "grid_auto_rows": null,
      "grid_column": null,
      "grid_gap": null,
      "grid_row": null,
      "grid_template_areas": null,
      "grid_template_columns": null,
      "grid_template_rows": null,
      "height": null,
      "justify_content": null,
      "justify_items": null,
      "left": null,
      "margin": null,
      "max_height": null,
      "max_width": null,
      "min_height": null,
      "min_width": null,
      "object_fit": null,
      "object_position": null,
      "order": null,
      "overflow": null,
      "overflow_x": null,
      "overflow_y": null,
      "padding": null,
      "right": null,
      "top": null,
      "visibility": null,
      "width": null
     }
    },
    "924c2616ea844674ac439246d2e6a934": {
     "model_module": "@jupyter-widgets/controls",
     "model_module_version": "1.5.0",
     "model_name": "DescriptionStyleModel",
     "state": {
      "_model_module": "@jupyter-widgets/controls",
      "_model_module_version": "1.5.0",
      "_model_name": "DescriptionStyleModel",
      "_view_count": null,
      "_view_module": "@jupyter-widgets/base",
      "_view_module_version": "1.2.0",
      "_view_name": "StyleView",
      "description_width": ""
     }
    },
    "932f521dbd214f2486d5e536098e3066": {
     "model_module": "@jupyter-widgets/controls",
     "model_module_version": "1.5.0",
     "model_name": "HTMLModel",
     "state": {
      "_dom_classes": [],
      "_model_module": "@jupyter-widgets/controls",
      "_model_module_version": "1.5.0",
      "_model_name": "HTMLModel",
      "_view_count": null,
      "_view_module": "@jupyter-widgets/controls",
      "_view_module_version": "1.5.0",
      "_view_name": "HTMLView",
      "description": "",
      "description_tooltip": null,
      "layout": "IPY_MODEL_127dfa2057be45bbb1c521766d85e145",
      "placeholder": "​",
      "style": "IPY_MODEL_924c2616ea844674ac439246d2e6a934",
      "value": "sentence_bert_config.json: 100%"
     }
    },
    "9401caf6be2d4dfab10307bacfeb602c": {
     "model_module": "@jupyter-widgets/base",
     "model_module_version": "1.2.0",
     "model_name": "LayoutModel",
     "state": {
      "_model_module": "@jupyter-widgets/base",
      "_model_module_version": "1.2.0",
      "_model_name": "LayoutModel",
      "_view_count": null,
      "_view_module": "@jupyter-widgets/base",
      "_view_module_version": "1.2.0",
      "_view_name": "LayoutView",
      "align_content": null,
      "align_items": null,
      "align_self": null,
      "border": null,
      "bottom": null,
      "display": null,
      "flex": null,
      "flex_flow": null,
      "grid_area": null,
      "grid_auto_columns": null,
      "grid_auto_flow": null,
      "grid_auto_rows": null,
      "grid_column": null,
      "grid_gap": null,
      "grid_row": null,
      "grid_template_areas": null,
      "grid_template_columns": null,
      "grid_template_rows": null,
      "height": null,
      "justify_content": null,
      "justify_items": null,
      "left": null,
      "margin": null,
      "max_height": null,
      "max_width": null,
      "min_height": null,
      "min_width": null,
      "object_fit": null,
      "object_position": null,
      "order": null,
      "overflow": null,
      "overflow_x": null,
      "overflow_y": null,
      "padding": null,
      "right": null,
      "top": null,
      "visibility": null,
      "width": null
     }
    },
    "994ae56df4bc4b6f9a9516324ed68b51": {
     "model_module": "@jupyter-widgets/base",
     "model_module_version": "1.2.0",
     "model_name": "LayoutModel",
     "state": {
      "_model_module": "@jupyter-widgets/base",
      "_model_module_version": "1.2.0",
      "_model_name": "LayoutModel",
      "_view_count": null,
      "_view_module": "@jupyter-widgets/base",
      "_view_module_version": "1.2.0",
      "_view_name": "LayoutView",
      "align_content": null,
      "align_items": null,
      "align_self": null,
      "border": null,
      "bottom": null,
      "display": null,
      "flex": null,
      "flex_flow": null,
      "grid_area": null,
      "grid_auto_columns": null,
      "grid_auto_flow": null,
      "grid_auto_rows": null,
      "grid_column": null,
      "grid_gap": null,
      "grid_row": null,
      "grid_template_areas": null,
      "grid_template_columns": null,
      "grid_template_rows": null,
      "height": null,
      "justify_content": null,
      "justify_items": null,
      "left": null,
      "margin": null,
      "max_height": null,
      "max_width": null,
      "min_height": null,
      "min_width": null,
      "object_fit": null,
      "object_position": null,
      "order": null,
      "overflow": null,
      "overflow_x": null,
      "overflow_y": null,
      "padding": null,
      "right": null,
      "top": null,
      "visibility": null,
      "width": null
     }
    },
    "9afdc547fb48476ebf8528a31701d6fe": {
     "model_module": "@jupyter-widgets/controls",
     "model_module_version": "1.5.0",
     "model_name": "DescriptionStyleModel",
     "state": {
      "_model_module": "@jupyter-widgets/controls",
      "_model_module_version": "1.5.0",
      "_model_name": "DescriptionStyleModel",
      "_view_count": null,
      "_view_module": "@jupyter-widgets/base",
      "_view_module_version": "1.2.0",
      "_view_name": "StyleView",
      "description_width": ""
     }
    },
    "9fa183e9c3c94babb647a23bbc1e96b1": {
     "model_module": "@jupyter-widgets/controls",
     "model_module_version": "1.5.0",
     "model_name": "FloatProgressModel",
     "state": {
      "_dom_classes": [],
      "_model_module": "@jupyter-widgets/controls",
      "_model_module_version": "1.5.0",
      "_model_name": "FloatProgressModel",
      "_view_count": null,
      "_view_module": "@jupyter-widgets/controls",
      "_view_module_version": "1.5.0",
      "_view_name": "ProgressView",
      "bar_style": "success",
      "description": "",
      "description_tooltip": null,
      "layout": "IPY_MODEL_1eeb9a3cff5d4545b58f95c5086faff1",
      "max": 112,
      "min": 0,
      "orientation": "horizontal",
      "style": "IPY_MODEL_ac3e39a29c65480e8789793be7325372",
      "value": 112
     }
    },
    "a4e8a75150dc4e2d9e1be17cb62181a5": {
     "model_module": "@jupyter-widgets/controls",
     "model_module_version": "1.5.0",
     "model_name": "HBoxModel",
     "state": {
      "_dom_classes": [],
      "_model_module": "@jupyter-widgets/controls",
      "_model_module_version": "1.5.0",
      "_model_name": "HBoxModel",
      "_view_count": null,
      "_view_module": "@jupyter-widgets/controls",
      "_view_module_version": "1.5.0",
      "_view_name": "HBoxView",
      "box_style": "",
      "children": [
       "IPY_MODEL_b5b1d30a0d93410ba36f92cddcf429c6",
       "IPY_MODEL_b97ace6eae7f469eb3fe3efd2dd8ff85",
       "IPY_MODEL_aeb9921a5fde4934ad9924596ab775b3"
      ],
      "layout": "IPY_MODEL_6e0e7ff854574b67ba5af1ecf59234dd"
     }
    },
    "ac0d11fd90f849c792120c73414a8a1e": {
     "model_module": "@jupyter-widgets/controls",
     "model_module_version": "1.5.0",
     "model_name": "HTMLModel",
     "state": {
      "_dom_classes": [],
      "_model_module": "@jupyter-widgets/controls",
      "_model_module_version": "1.5.0",
      "_model_name": "HTMLModel",
      "_view_count": null,
      "_view_module": "@jupyter-widgets/controls",
      "_view_module_version": "1.5.0",
      "_view_name": "HTMLView",
      "description": "",
      "description_tooltip": null,
      "layout": "IPY_MODEL_7501b02d23c046639cf8b29c1df85db9",
      "placeholder": "​",
      "style": "IPY_MODEL_f02adcd093944909afc1386974420214",
      "value": " 10.7k/10.7k [00:00&lt;00:00, 499kB/s]"
     }
    },
    "ac3e39a29c65480e8789793be7325372": {
     "model_module": "@jupyter-widgets/controls",
     "model_module_version": "1.5.0",
     "model_name": "ProgressStyleModel",
     "state": {
      "_model_module": "@jupyter-widgets/controls",
      "_model_module_version": "1.5.0",
      "_model_name": "ProgressStyleModel",
      "_view_count": null,
      "_view_module": "@jupyter-widgets/base",
      "_view_module_version": "1.2.0",
      "_view_name": "StyleView",
      "bar_color": null,
      "description_width": ""
     }
    },
    "ad742bbb70fc4693924c5419d6403ec6": {
     "model_module": "@jupyter-widgets/base",
     "model_module_version": "1.2.0",
     "model_name": "LayoutModel",
     "state": {
      "_model_module": "@jupyter-widgets/base",
      "_model_module_version": "1.2.0",
      "_model_name": "LayoutModel",
      "_view_count": null,
      "_view_module": "@jupyter-widgets/base",
      "_view_module_version": "1.2.0",
      "_view_name": "LayoutView",
      "align_content": null,
      "align_items": null,
      "align_self": null,
      "border": null,
      "bottom": null,
      "display": null,
      "flex": null,
      "flex_flow": null,
      "grid_area": null,
      "grid_auto_columns": null,
      "grid_auto_flow": null,
      "grid_auto_rows": null,
      "grid_column": null,
      "grid_gap": null,
      "grid_row": null,
      "grid_template_areas": null,
      "grid_template_columns": null,
      "grid_template_rows": null,
      "height": null,
      "justify_content": null,
      "justify_items": null,
      "left": null,
      "margin": null,
      "max_height": null,
      "max_width": null,
      "min_height": null,
      "min_width": null,
      "object_fit": null,
      "object_position": null,
      "order": null,
      "overflow": null,
      "overflow_x": null,
      "overflow_y": null,
      "padding": null,
      "right": null,
      "top": null,
      "visibility": null,
      "width": null
     }
    },
    "aeb9921a5fde4934ad9924596ab775b3": {
     "model_module": "@jupyter-widgets/controls",
     "model_module_version": "1.5.0",
     "model_name": "HTMLModel",
     "state": {
      "_dom_classes": [],
      "_model_module": "@jupyter-widgets/controls",
      "_model_module_version": "1.5.0",
      "_model_name": "HTMLModel",
      "_view_count": null,
      "_view_module": "@jupyter-widgets/controls",
      "_view_module_version": "1.5.0",
      "_view_name": "HTMLView",
      "description": "",
      "description_tooltip": null,
      "layout": "IPY_MODEL_61884f59a60247878582db0b73ea670a",
      "placeholder": "​",
      "style": "IPY_MODEL_310fe91747ff4c1bb1f4552ed311c1db",
      "value": " 232k/232k [00:00&lt;00:00, 3.95MB/s]"
     }
    },
    "b33e50a221dc44a8a6b1f3cd9ddf9bbb": {
     "model_module": "@jupyter-widgets/base",
     "model_module_version": "1.2.0",
     "model_name": "LayoutModel",
     "state": {
      "_model_module": "@jupyter-widgets/base",
      "_model_module_version": "1.2.0",
      "_model_name": "LayoutModel",
      "_view_count": null,
      "_view_module": "@jupyter-widgets/base",
      "_view_module_version": "1.2.0",
      "_view_name": "LayoutView",
      "align_content": null,
      "align_items": null,
      "align_self": null,
      "border": null,
      "bottom": null,
      "display": null,
      "flex": null,
      "flex_flow": null,
      "grid_area": null,
      "grid_auto_columns": null,
      "grid_auto_flow": null,
      "grid_auto_rows": null,
      "grid_column": null,
      "grid_gap": null,
      "grid_row": null,
      "grid_template_areas": null,
      "grid_template_columns": null,
      "grid_template_rows": null,
      "height": null,
      "justify_content": null,
      "justify_items": null,
      "left": null,
      "margin": null,
      "max_height": null,
      "max_width": null,
      "min_height": null,
      "min_width": null,
      "object_fit": null,
      "object_position": null,
      "order": null,
      "overflow": null,
      "overflow_x": null,
      "overflow_y": null,
      "padding": null,
      "right": null,
      "top": null,
      "visibility": null,
      "width": null
     }
    },
    "b3dcd109c3954f26a0717e6f706cbdf0": {
     "model_module": "@jupyter-widgets/controls",
     "model_module_version": "1.5.0",
     "model_name": "DescriptionStyleModel",
     "state": {
      "_model_module": "@jupyter-widgets/controls",
      "_model_module_version": "1.5.0",
      "_model_name": "DescriptionStyleModel",
      "_view_count": null,
      "_view_module": "@jupyter-widgets/base",
      "_view_module_version": "1.2.0",
      "_view_name": "StyleView",
      "description_width": ""
     }
    },
    "b5a10ec452f84dd9860b2be34d7c97ea": {
     "model_module": "@jupyter-widgets/base",
     "model_module_version": "1.2.0",
     "model_name": "LayoutModel",
     "state": {
      "_model_module": "@jupyter-widgets/base",
      "_model_module_version": "1.2.0",
      "_model_name": "LayoutModel",
      "_view_count": null,
      "_view_module": "@jupyter-widgets/base",
      "_view_module_version": "1.2.0",
      "_view_name": "LayoutView",
      "align_content": null,
      "align_items": null,
      "align_self": null,
      "border": null,
      "bottom": null,
      "display": null,
      "flex": null,
      "flex_flow": null,
      "grid_area": null,
      "grid_auto_columns": null,
      "grid_auto_flow": null,
      "grid_auto_rows": null,
      "grid_column": null,
      "grid_gap": null,
      "grid_row": null,
      "grid_template_areas": null,
      "grid_template_columns": null,
      "grid_template_rows": null,
      "height": null,
      "justify_content": null,
      "justify_items": null,
      "left": null,
      "margin": null,
      "max_height": null,
      "max_width": null,
      "min_height": null,
      "min_width": null,
      "object_fit": null,
      "object_position": null,
      "order": null,
      "overflow": null,
      "overflow_x": null,
      "overflow_y": null,
      "padding": null,
      "right": null,
      "top": null,
      "visibility": null,
      "width": null
     }
    },
    "b5b1d30a0d93410ba36f92cddcf429c6": {
     "model_module": "@jupyter-widgets/controls",
     "model_module_version": "1.5.0",
     "model_name": "HTMLModel",
     "state": {
      "_dom_classes": [],
      "_model_module": "@jupyter-widgets/controls",
      "_model_module_version": "1.5.0",
      "_model_name": "HTMLModel",
      "_view_count": null,
      "_view_module": "@jupyter-widgets/controls",
      "_view_module_version": "1.5.0",
      "_view_name": "HTMLView",
      "description": "",
      "description_tooltip": null,
      "layout": "IPY_MODEL_1a2cce0cb2354b5fb8c2e92ab221b77e",
      "placeholder": "​",
      "style": "IPY_MODEL_502332806e7b4ead99ce3e41a35551c3",
      "value": "vocab.txt: 100%"
     }
    },
    "b8104bab44ab419d823447bf35833574": {
     "model_module": "@jupyter-widgets/controls",
     "model_module_version": "1.5.0",
     "model_name": "HTMLModel",
     "state": {
      "_dom_classes": [],
      "_model_module": "@jupyter-widgets/controls",
      "_model_module_version": "1.5.0",
      "_model_name": "HTMLModel",
      "_view_count": null,
      "_view_module": "@jupyter-widgets/controls",
      "_view_module_version": "1.5.0",
      "_view_name": "HTMLView",
      "description": "",
      "description_tooltip": null,
      "layout": "IPY_MODEL_25f95dbdedcc4e7c91b5d2951d025619",
      "placeholder": "​",
      "style": "IPY_MODEL_d2c3eb2cfb0344ff839a01dfc6c50ee3",
      "value": "config.json: 100%"
     }
    },
    "b97ace6eae7f469eb3fe3efd2dd8ff85": {
     "model_module": "@jupyter-widgets/controls",
     "model_module_version": "1.5.0",
     "model_name": "FloatProgressModel",
     "state": {
      "_dom_classes": [],
      "_model_module": "@jupyter-widgets/controls",
      "_model_module_version": "1.5.0",
      "_model_name": "FloatProgressModel",
      "_view_count": null,
      "_view_module": "@jupyter-widgets/controls",
      "_view_module_version": "1.5.0",
      "_view_name": "ProgressView",
      "bar_style": "success",
      "description": "",
      "description_tooltip": null,
      "layout": "IPY_MODEL_174ee1af6f7441ffbaf6d61b6ff97633",
      "max": 231508,
      "min": 0,
      "orientation": "horizontal",
      "style": "IPY_MODEL_bb2285cb20574fefb14c67e1be5dd117",
      "value": 231508
     }
    },
    "ba5d71929e2e4528b255208f25f5a748": {
     "model_module": "@jupyter-widgets/base",
     "model_module_version": "1.2.0",
     "model_name": "LayoutModel",
     "state": {
      "_model_module": "@jupyter-widgets/base",
      "_model_module_version": "1.2.0",
      "_model_name": "LayoutModel",
      "_view_count": null,
      "_view_module": "@jupyter-widgets/base",
      "_view_module_version": "1.2.0",
      "_view_name": "LayoutView",
      "align_content": null,
      "align_items": null,
      "align_self": null,
      "border": null,
      "bottom": null,
      "display": null,
      "flex": null,
      "flex_flow": null,
      "grid_area": null,
      "grid_auto_columns": null,
      "grid_auto_flow": null,
      "grid_auto_rows": null,
      "grid_column": null,
      "grid_gap": null,
      "grid_row": null,
      "grid_template_areas": null,
      "grid_template_columns": null,
      "grid_template_rows": null,
      "height": null,
      "justify_content": null,
      "justify_items": null,
      "left": null,
      "margin": null,
      "max_height": null,
      "max_width": null,
      "min_height": null,
      "min_width": null,
      "object_fit": null,
      "object_position": null,
      "order": null,
      "overflow": null,
      "overflow_x": null,
      "overflow_y": null,
      "padding": null,
      "right": null,
      "top": null,
      "visibility": null,
      "width": null
     }
    },
    "bace242e7f7148fc98fc0624b29d60ff": {
     "model_module": "@jupyter-widgets/base",
     "model_module_version": "1.2.0",
     "model_name": "LayoutModel",
     "state": {
      "_model_module": "@jupyter-widgets/base",
      "_model_module_version": "1.2.0",
      "_model_name": "LayoutModel",
      "_view_count": null,
      "_view_module": "@jupyter-widgets/base",
      "_view_module_version": "1.2.0",
      "_view_name": "LayoutView",
      "align_content": null,
      "align_items": null,
      "align_self": null,
      "border": null,
      "bottom": null,
      "display": null,
      "flex": null,
      "flex_flow": null,
      "grid_area": null,
      "grid_auto_columns": null,
      "grid_auto_flow": null,
      "grid_auto_rows": null,
      "grid_column": null,
      "grid_gap": null,
      "grid_row": null,
      "grid_template_areas": null,
      "grid_template_columns": null,
      "grid_template_rows": null,
      "height": null,
      "justify_content": null,
      "justify_items": null,
      "left": null,
      "margin": null,
      "max_height": null,
      "max_width": null,
      "min_height": null,
      "min_width": null,
      "object_fit": null,
      "object_position": null,
      "order": null,
      "overflow": null,
      "overflow_x": null,
      "overflow_y": null,
      "padding": null,
      "right": null,
      "top": null,
      "visibility": null,
      "width": null
     }
    },
    "bb2285cb20574fefb14c67e1be5dd117": {
     "model_module": "@jupyter-widgets/controls",
     "model_module_version": "1.5.0",
     "model_name": "ProgressStyleModel",
     "state": {
      "_model_module": "@jupyter-widgets/controls",
      "_model_module_version": "1.5.0",
      "_model_name": "ProgressStyleModel",
      "_view_count": null,
      "_view_module": "@jupyter-widgets/base",
      "_view_module_version": "1.2.0",
      "_view_name": "StyleView",
      "bar_color": null,
      "description_width": ""
     }
    },
    "bb8a471f3f684d928f925cb24317c2ba": {
     "model_module": "@jupyter-widgets/controls",
     "model_module_version": "1.5.0",
     "model_name": "FloatProgressModel",
     "state": {
      "_dom_classes": [],
      "_model_module": "@jupyter-widgets/controls",
      "_model_module_version": "1.5.0",
      "_model_name": "FloatProgressModel",
      "_view_count": null,
      "_view_module": "@jupyter-widgets/controls",
      "_view_module_version": "1.5.0",
      "_view_name": "ProgressView",
      "bar_style": "success",
      "description": "",
      "description_tooltip": null,
      "layout": "IPY_MODEL_8f7f82ce282645588e418fcf9cbc7c8f",
      "max": 10659,
      "min": 0,
      "orientation": "horizontal",
      "style": "IPY_MODEL_216785bb035b45ebb02ed0547ff42577",
      "value": 10659
     }
    },
    "bc9cbb1bb3b54520a824af2995c89959": {
     "model_module": "@jupyter-widgets/base",
     "model_module_version": "1.2.0",
     "model_name": "LayoutModel",
     "state": {
      "_model_module": "@jupyter-widgets/base",
      "_model_module_version": "1.2.0",
      "_model_name": "LayoutModel",
      "_view_count": null,
      "_view_module": "@jupyter-widgets/base",
      "_view_module_version": "1.2.0",
      "_view_name": "LayoutView",
      "align_content": null,
      "align_items": null,
      "align_self": null,
      "border": null,
      "bottom": null,
      "display": null,
      "flex": null,
      "flex_flow": null,
      "grid_area": null,
      "grid_auto_columns": null,
      "grid_auto_flow": null,
      "grid_auto_rows": null,
      "grid_column": null,
      "grid_gap": null,
      "grid_row": null,
      "grid_template_areas": null,
      "grid_template_columns": null,
      "grid_template_rows": null,
      "height": null,
      "justify_content": null,
      "justify_items": null,
      "left": null,
      "margin": null,
      "max_height": null,
      "max_width": null,
      "min_height": null,
      "min_width": null,
      "object_fit": null,
      "object_position": null,
      "order": null,
      "overflow": null,
      "overflow_x": null,
      "overflow_y": null,
      "padding": null,
      "right": null,
      "top": null,
      "visibility": null,
      "width": null
     }
    },
    "bcf6ae696e9b4c098a5c48b6f3b5140c": {
     "model_module": "@jupyter-widgets/controls",
     "model_module_version": "1.5.0",
     "model_name": "HTMLModel",
     "state": {
      "_dom_classes": [],
      "_model_module": "@jupyter-widgets/controls",
      "_model_module_version": "1.5.0",
      "_model_name": "HTMLModel",
      "_view_count": null,
      "_view_module": "@jupyter-widgets/controls",
      "_view_module_version": "1.5.0",
      "_view_name": "HTMLView",
      "description": "",
      "description_tooltip": null,
      "layout": "IPY_MODEL_33c8476d2f9f42ae976c3953e9ff4efb",
      "placeholder": "​",
      "style": "IPY_MODEL_9afdc547fb48476ebf8528a31701d6fe",
      "value": " 90.9M/90.9M [00:00&lt;00:00, 123MB/s]"
     }
    },
    "c5342e7d723a477dacc312b887385dfd": {
     "model_module": "@jupyter-widgets/base",
     "model_module_version": "1.2.0",
     "model_name": "LayoutModel",
     "state": {
      "_model_module": "@jupyter-widgets/base",
      "_model_module_version": "1.2.0",
      "_model_name": "LayoutModel",
      "_view_count": null,
      "_view_module": "@jupyter-widgets/base",
      "_view_module_version": "1.2.0",
      "_view_name": "LayoutView",
      "align_content": null,
      "align_items": null,
      "align_self": null,
      "border": null,
      "bottom": null,
      "display": null,
      "flex": null,
      "flex_flow": null,
      "grid_area": null,
      "grid_auto_columns": null,
      "grid_auto_flow": null,
      "grid_auto_rows": null,
      "grid_column": null,
      "grid_gap": null,
      "grid_row": null,
      "grid_template_areas": null,
      "grid_template_columns": null,
      "grid_template_rows": null,
      "height": null,
      "justify_content": null,
      "justify_items": null,
      "left": null,
      "margin": null,
      "max_height": null,
      "max_width": null,
      "min_height": null,
      "min_width": null,
      "object_fit": null,
      "object_position": null,
      "order": null,
      "overflow": null,
      "overflow_x": null,
      "overflow_y": null,
      "padding": null,
      "right": null,
      "top": null,
      "visibility": null,
      "width": null
     }
    },
    "c8da0f4957194ce69b23aca2c882eb72": {
     "model_module": "@jupyter-widgets/base",
     "model_module_version": "1.2.0",
     "model_name": "LayoutModel",
     "state": {
      "_model_module": "@jupyter-widgets/base",
      "_model_module_version": "1.2.0",
      "_model_name": "LayoutModel",
      "_view_count": null,
      "_view_module": "@jupyter-widgets/base",
      "_view_module_version": "1.2.0",
      "_view_name": "LayoutView",
      "align_content": null,
      "align_items": null,
      "align_self": null,
      "border": null,
      "bottom": null,
      "display": null,
      "flex": null,
      "flex_flow": null,
      "grid_area": null,
      "grid_auto_columns": null,
      "grid_auto_flow": null,
      "grid_auto_rows": null,
      "grid_column": null,
      "grid_gap": null,
      "grid_row": null,
      "grid_template_areas": null,
      "grid_template_columns": null,
      "grid_template_rows": null,
      "height": null,
      "justify_content": null,
      "justify_items": null,
      "left": null,
      "margin": null,
      "max_height": null,
      "max_width": null,
      "min_height": null,
      "min_width": null,
      "object_fit": null,
      "object_position": null,
      "order": null,
      "overflow": null,
      "overflow_x": null,
      "overflow_y": null,
      "padding": null,
      "right": null,
      "top": null,
      "visibility": null,
      "width": null
     }
    },
    "d0fe22d5e8454ed4b9e997c7efc2f3d7": {
     "model_module": "@jupyter-widgets/controls",
     "model_module_version": "1.5.0",
     "model_name": "FloatProgressModel",
     "state": {
      "_dom_classes": [],
      "_model_module": "@jupyter-widgets/controls",
      "_model_module_version": "1.5.0",
      "_model_name": "FloatProgressModel",
      "_view_count": null,
      "_view_module": "@jupyter-widgets/controls",
      "_view_module_version": "1.5.0",
      "_view_name": "ProgressView",
      "bar_style": "success",
      "description": "",
      "description_tooltip": null,
      "layout": "IPY_MODEL_9401caf6be2d4dfab10307bacfeb602c",
      "max": 349,
      "min": 0,
      "orientation": "horizontal",
      "style": "IPY_MODEL_13921712c22b4877835cbd4b23adc8db",
      "value": 349
     }
    },
    "d255872d231245c09663fb2f6676fad4": {
     "model_module": "@jupyter-widgets/base",
     "model_module_version": "1.2.0",
     "model_name": "LayoutModel",
     "state": {
      "_model_module": "@jupyter-widgets/base",
      "_model_module_version": "1.2.0",
      "_model_name": "LayoutModel",
      "_view_count": null,
      "_view_module": "@jupyter-widgets/base",
      "_view_module_version": "1.2.0",
      "_view_name": "LayoutView",
      "align_content": null,
      "align_items": null,
      "align_self": null,
      "border": null,
      "bottom": null,
      "display": null,
      "flex": null,
      "flex_flow": null,
      "grid_area": null,
      "grid_auto_columns": null,
      "grid_auto_flow": null,
      "grid_auto_rows": null,
      "grid_column": null,
      "grid_gap": null,
      "grid_row": null,
      "grid_template_areas": null,
      "grid_template_columns": null,
      "grid_template_rows": null,
      "height": null,
      "justify_content": null,
      "justify_items": null,
      "left": null,
      "margin": null,
      "max_height": null,
      "max_width": null,
      "min_height": null,
      "min_width": null,
      "object_fit": null,
      "object_position": null,
      "order": null,
      "overflow": null,
      "overflow_x": null,
      "overflow_y": null,
      "padding": null,
      "right": null,
      "top": null,
      "visibility": null,
      "width": null
     }
    },
    "d2c3eb2cfb0344ff839a01dfc6c50ee3": {
     "model_module": "@jupyter-widgets/controls",
     "model_module_version": "1.5.0",
     "model_name": "DescriptionStyleModel",
     "state": {
      "_model_module": "@jupyter-widgets/controls",
      "_model_module_version": "1.5.0",
      "_model_name": "DescriptionStyleModel",
      "_view_count": null,
      "_view_module": "@jupyter-widgets/base",
      "_view_module_version": "1.2.0",
      "_view_name": "StyleView",
      "description_width": ""
     }
    },
    "d75aa15469a04c7798958b07e649e4da": {
     "model_module": "@jupyter-widgets/controls",
     "model_module_version": "1.5.0",
     "model_name": "HBoxModel",
     "state": {
      "_dom_classes": [],
      "_model_module": "@jupyter-widgets/controls",
      "_model_module_version": "1.5.0",
      "_model_name": "HBoxModel",
      "_view_count": null,
      "_view_module": "@jupyter-widgets/controls",
      "_view_module_version": "1.5.0",
      "_view_name": "HBoxView",
      "box_style": "",
      "children": [
       "IPY_MODEL_34f196b7436f491299089297187fd827",
       "IPY_MODEL_9fa183e9c3c94babb647a23bbc1e96b1",
       "IPY_MODEL_5dbde136c0454bc1aea9b692f496a764"
      ],
      "layout": "IPY_MODEL_c8da0f4957194ce69b23aca2c882eb72"
     }
    },
    "d7c5adee1e594b5eb2991bdd8d0771ec": {
     "model_module": "@jupyter-widgets/base",
     "model_module_version": "1.2.0",
     "model_name": "LayoutModel",
     "state": {
      "_model_module": "@jupyter-widgets/base",
      "_model_module_version": "1.2.0",
      "_model_name": "LayoutModel",
      "_view_count": null,
      "_view_module": "@jupyter-widgets/base",
      "_view_module_version": "1.2.0",
      "_view_name": "LayoutView",
      "align_content": null,
      "align_items": null,
      "align_self": null,
      "border": null,
      "bottom": null,
      "display": null,
      "flex": null,
      "flex_flow": null,
      "grid_area": null,
      "grid_auto_columns": null,
      "grid_auto_flow": null,
      "grid_auto_rows": null,
      "grid_column": null,
      "grid_gap": null,
      "grid_row": null,
      "grid_template_areas": null,
      "grid_template_columns": null,
      "grid_template_rows": null,
      "height": null,
      "justify_content": null,
      "justify_items": null,
      "left": null,
      "margin": null,
      "max_height": null,
      "max_width": null,
      "min_height": null,
      "min_width": null,
      "object_fit": null,
      "object_position": null,
      "order": null,
      "overflow": null,
      "overflow_x": null,
      "overflow_y": null,
      "padding": null,
      "right": null,
      "top": null,
      "visibility": null,
      "width": null
     }
    },
    "dbb0fe24e6284d9287bf073162428858": {
     "model_module": "@jupyter-widgets/controls",
     "model_module_version": "1.5.0",
     "model_name": "HBoxModel",
     "state": {
      "_dom_classes": [],
      "_model_module": "@jupyter-widgets/controls",
      "_model_module_version": "1.5.0",
      "_model_name": "HBoxModel",
      "_view_count": null,
      "_view_module": "@jupyter-widgets/controls",
      "_view_module_version": "1.5.0",
      "_view_name": "HBoxView",
      "box_style": "",
      "children": [
       "IPY_MODEL_932f521dbd214f2486d5e536098e3066",
       "IPY_MODEL_4f1c192e224e4f8784150ae234f263fc",
       "IPY_MODEL_0c37310991754eff8d567074c875c31a"
      ],
      "layout": "IPY_MODEL_d7c5adee1e594b5eb2991bdd8d0771ec"
     }
    },
    "de2e663dcc6445d698aa7c58affc134f": {
     "model_module": "@jupyter-widgets/base",
     "model_module_version": "1.2.0",
     "model_name": "LayoutModel",
     "state": {
      "_model_module": "@jupyter-widgets/base",
      "_model_module_version": "1.2.0",
      "_model_name": "LayoutModel",
      "_view_count": null,
      "_view_module": "@jupyter-widgets/base",
      "_view_module_version": "1.2.0",
      "_view_name": "LayoutView",
      "align_content": null,
      "align_items": null,
      "align_self": null,
      "border": null,
      "bottom": null,
      "display": null,
      "flex": null,
      "flex_flow": null,
      "grid_area": null,
      "grid_auto_columns": null,
      "grid_auto_flow": null,
      "grid_auto_rows": null,
      "grid_column": null,
      "grid_gap": null,
      "grid_row": null,
      "grid_template_areas": null,
      "grid_template_columns": null,
      "grid_template_rows": null,
      "height": null,
      "justify_content": null,
      "justify_items": null,
      "left": null,
      "margin": null,
      "max_height": null,
      "max_width": null,
      "min_height": null,
      "min_width": null,
      "object_fit": null,
      "object_position": null,
      "order": null,
      "overflow": null,
      "overflow_x": null,
      "overflow_y": null,
      "padding": null,
      "right": null,
      "top": null,
      "visibility": null,
      "width": null
     }
    },
    "e317caf2f64d4023a6166fec375270fb": {
     "model_module": "@jupyter-widgets/base",
     "model_module_version": "1.2.0",
     "model_name": "LayoutModel",
     "state": {
      "_model_module": "@jupyter-widgets/base",
      "_model_module_version": "1.2.0",
      "_model_name": "LayoutModel",
      "_view_count": null,
      "_view_module": "@jupyter-widgets/base",
      "_view_module_version": "1.2.0",
      "_view_name": "LayoutView",
      "align_content": null,
      "align_items": null,
      "align_self": null,
      "border": null,
      "bottom": null,
      "display": null,
      "flex": null,
      "flex_flow": null,
      "grid_area": null,
      "grid_auto_columns": null,
      "grid_auto_flow": null,
      "grid_auto_rows": null,
      "grid_column": null,
      "grid_gap": null,
      "grid_row": null,
      "grid_template_areas": null,
      "grid_template_columns": null,
      "grid_template_rows": null,
      "height": null,
      "justify_content": null,
      "justify_items": null,
      "left": null,
      "margin": null,
      "max_height": null,
      "max_width": null,
      "min_height": null,
      "min_width": null,
      "object_fit": null,
      "object_position": null,
      "order": null,
      "overflow": null,
      "overflow_x": null,
      "overflow_y": null,
      "padding": null,
      "right": null,
      "top": null,
      "visibility": null,
      "width": null
     }
    },
    "e4ae9e6d4ba345389efe85273eac0886": {
     "model_module": "@jupyter-widgets/controls",
     "model_module_version": "1.5.0",
     "model_name": "DescriptionStyleModel",
     "state": {
      "_model_module": "@jupyter-widgets/controls",
      "_model_module_version": "1.5.0",
      "_model_name": "DescriptionStyleModel",
      "_view_count": null,
      "_view_module": "@jupyter-widgets/base",
      "_view_module_version": "1.2.0",
      "_view_name": "StyleView",
      "description_width": ""
     }
    },
    "e6e92bbf6789468b97da705bb0cc9bd3": {
     "model_module": "@jupyter-widgets/controls",
     "model_module_version": "1.5.0",
     "model_name": "ProgressStyleModel",
     "state": {
      "_model_module": "@jupyter-widgets/controls",
      "_model_module_version": "1.5.0",
      "_model_name": "ProgressStyleModel",
      "_view_count": null,
      "_view_module": "@jupyter-widgets/base",
      "_view_module_version": "1.2.0",
      "_view_name": "StyleView",
      "bar_color": null,
      "description_width": ""
     }
    },
    "e977817388dd436d828608b12c091248": {
     "model_module": "@jupyter-widgets/controls",
     "model_module_version": "1.5.0",
     "model_name": "HTMLModel",
     "state": {
      "_dom_classes": [],
      "_model_module": "@jupyter-widgets/controls",
      "_model_module_version": "1.5.0",
      "_model_name": "HTMLModel",
      "_view_count": null,
      "_view_module": "@jupyter-widgets/controls",
      "_view_module_version": "1.5.0",
      "_view_name": "HTMLView",
      "description": "",
      "description_tooltip": null,
      "layout": "IPY_MODEL_de2e663dcc6445d698aa7c58affc134f",
      "placeholder": "​",
      "style": "IPY_MODEL_53b7210c68954e5eb29ecc9785d1a2e8",
      "value": "model.safetensors: 100%"
     }
    },
    "e9fcd26342844355b5dfad06906a9af1": {
     "model_module": "@jupyter-widgets/controls",
     "model_module_version": "1.5.0",
     "model_name": "DescriptionStyleModel",
     "state": {
      "_model_module": "@jupyter-widgets/controls",
      "_model_module_version": "1.5.0",
      "_model_name": "DescriptionStyleModel",
      "_view_count": null,
      "_view_module": "@jupyter-widgets/base",
      "_view_module_version": "1.2.0",
      "_view_name": "StyleView",
      "description_width": ""
     }
    },
    "ef78e20fec0f4273bec3c2db965995c5": {
     "model_module": "@jupyter-widgets/controls",
     "model_module_version": "1.5.0",
     "model_name": "DescriptionStyleModel",
     "state": {
      "_model_module": "@jupyter-widgets/controls",
      "_model_module_version": "1.5.0",
      "_model_name": "DescriptionStyleModel",
      "_view_count": null,
      "_view_module": "@jupyter-widgets/base",
      "_view_module_version": "1.2.0",
      "_view_name": "StyleView",
      "description_width": ""
     }
    },
    "f02adcd093944909afc1386974420214": {
     "model_module": "@jupyter-widgets/controls",
     "model_module_version": "1.5.0",
     "model_name": "DescriptionStyleModel",
     "state": {
      "_model_module": "@jupyter-widgets/controls",
      "_model_module_version": "1.5.0",
      "_model_name": "DescriptionStyleModel",
      "_view_count": null,
      "_view_module": "@jupyter-widgets/base",
      "_view_module_version": "1.2.0",
      "_view_name": "StyleView",
      "description_width": ""
     }
    },
    "f14ad13dcf2d4784a3497263e3e7c950": {
     "model_module": "@jupyter-widgets/controls",
     "model_module_version": "1.5.0",
     "model_name": "HTMLModel",
     "state": {
      "_dom_classes": [],
      "_model_module": "@jupyter-widgets/controls",
      "_model_module_version": "1.5.0",
      "_model_name": "HTMLModel",
      "_view_count": null,
      "_view_module": "@jupyter-widgets/controls",
      "_view_module_version": "1.5.0",
      "_view_name": "HTMLView",
      "description": "",
      "description_tooltip": null,
      "layout": "IPY_MODEL_7bb9d91b8cd74f2e9d429d94a115fc63",
      "placeholder": "​",
      "style": "IPY_MODEL_ef78e20fec0f4273bec3c2db965995c5",
      "value": "tokenizer.json: 100%"
     }
    },
    "f21888b569e14b09980463cdcc480bda": {
     "model_module": "@jupyter-widgets/controls",
     "model_module_version": "1.5.0",
     "model_name": "FloatProgressModel",
     "state": {
      "_dom_classes": [],
      "_model_module": "@jupyter-widgets/controls",
      "_model_module_version": "1.5.0",
      "_model_name": "FloatProgressModel",
      "_view_count": null,
      "_view_module": "@jupyter-widgets/controls",
      "_view_module_version": "1.5.0",
      "_view_name": "ProgressView",
      "bar_style": "success",
      "description": "",
      "description_tooltip": null,
      "layout": "IPY_MODEL_07670af9cfd3490bac902eae4afa8366",
      "max": 190,
      "min": 0,
      "orientation": "horizontal",
      "style": "IPY_MODEL_89e6fd130be14dee8ed5d6aa40d99fdf",
      "value": 190
     }
    },
    "f24c673424594b7eb6f0ffe39bf69513": {
     "model_module": "@jupyter-widgets/controls",
     "model_module_version": "1.5.0",
     "model_name": "HTMLModel",
     "state": {
      "_dom_classes": [],
      "_model_module": "@jupyter-widgets/controls",
      "_model_module_version": "1.5.0",
      "_model_name": "HTMLModel",
      "_view_count": null,
      "_view_module": "@jupyter-widgets/controls",
      "_view_module_version": "1.5.0",
      "_view_name": "HTMLView",
      "description": "",
      "description_tooltip": null,
      "layout": "IPY_MODEL_7a291b08b1064f0f8077516aae4f5497",
      "placeholder": "​",
      "style": "IPY_MODEL_34b402eb223a4fd79dffd0ca19c63c06",
      "value": "README.md: 100%"
     }
    },
    "f4a66e78d5cb415a92a2a2236074c6d9": {
     "model_module": "@jupyter-widgets/base",
     "model_module_version": "1.2.0",
     "model_name": "LayoutModel",
     "state": {
      "_model_module": "@jupyter-widgets/base",
      "_model_module_version": "1.2.0",
      "_model_name": "LayoutModel",
      "_view_count": null,
      "_view_module": "@jupyter-widgets/base",
      "_view_module_version": "1.2.0",
      "_view_name": "LayoutView",
      "align_content": null,
      "align_items": null,
      "align_self": null,
      "border": null,
      "bottom": null,
      "display": null,
      "flex": null,
      "flex_flow": null,
      "grid_area": null,
      "grid_auto_columns": null,
      "grid_auto_flow": null,
      "grid_auto_rows": null,
      "grid_column": null,
      "grid_gap": null,
      "grid_row": null,
      "grid_template_areas": null,
      "grid_template_columns": null,
      "grid_template_rows": null,
      "height": null,
      "justify_content": null,
      "justify_items": null,
      "left": null,
      "margin": null,
      "max_height": null,
      "max_width": null,
      "min_height": null,
      "min_width": null,
      "object_fit": null,
      "object_position": null,
      "order": null,
      "overflow": null,
      "overflow_x": null,
      "overflow_y": null,
      "padding": null,
      "right": null,
      "top": null,
      "visibility": null,
      "width": null
     }
    },
    "f5b52141dab24c5cbbed6a498612429c": {
     "model_module": "@jupyter-widgets/base",
     "model_module_version": "1.2.0",
     "model_name": "LayoutModel",
     "state": {
      "_model_module": "@jupyter-widgets/base",
      "_model_module_version": "1.2.0",
      "_model_name": "LayoutModel",
      "_view_count": null,
      "_view_module": "@jupyter-widgets/base",
      "_view_module_version": "1.2.0",
      "_view_name": "LayoutView",
      "align_content": null,
      "align_items": null,
      "align_self": null,
      "border": null,
      "bottom": null,
      "display": null,
      "flex": null,
      "flex_flow": null,
      "grid_area": null,
      "grid_auto_columns": null,
      "grid_auto_flow": null,
      "grid_auto_rows": null,
      "grid_column": null,
      "grid_gap": null,
      "grid_row": null,
      "grid_template_areas": null,
      "grid_template_columns": null,
      "grid_template_rows": null,
      "height": null,
      "justify_content": null,
      "justify_items": null,
      "left": null,
      "margin": null,
      "max_height": null,
      "max_width": null,
      "min_height": null,
      "min_width": null,
      "object_fit": null,
      "object_position": null,
      "order": null,
      "overflow": null,
      "overflow_x": null,
      "overflow_y": null,
      "padding": null,
      "right": null,
      "top": null,
      "visibility": null,
      "width": null
     }
    },
    "fa5cc8cb8486411487895e0cf9e762c1": {
     "model_module": "@jupyter-widgets/base",
     "model_module_version": "1.2.0",
     "model_name": "LayoutModel",
     "state": {
      "_model_module": "@jupyter-widgets/base",
      "_model_module_version": "1.2.0",
      "_model_name": "LayoutModel",
      "_view_count": null,
      "_view_module": "@jupyter-widgets/base",
      "_view_module_version": "1.2.0",
      "_view_name": "LayoutView",
      "align_content": null,
      "align_items": null,
      "align_self": null,
      "border": null,
      "bottom": null,
      "display": null,
      "flex": null,
      "flex_flow": null,
      "grid_area": null,
      "grid_auto_columns": null,
      "grid_auto_flow": null,
      "grid_auto_rows": null,
      "grid_column": null,
      "grid_gap": null,
      "grid_row": null,
      "grid_template_areas": null,
      "grid_template_columns": null,
      "grid_template_rows": null,
      "height": null,
      "justify_content": null,
      "justify_items": null,
      "left": null,
      "margin": null,
      "max_height": null,
      "max_width": null,
      "min_height": null,
      "min_width": null,
      "object_fit": null,
      "object_position": null,
      "order": null,
      "overflow": null,
      "overflow_x": null,
      "overflow_y": null,
      "padding": null,
      "right": null,
      "top": null,
      "visibility": null,
      "width": null
     }
    },
    "fced669b5cd74a888422b289cc12bef6": {
     "model_module": "@jupyter-widgets/controls",
     "model_module_version": "1.5.0",
     "model_name": "FloatProgressModel",
     "state": {
      "_dom_classes": [],
      "_model_module": "@jupyter-widgets/controls",
      "_model_module_version": "1.5.0",
      "_model_name": "FloatProgressModel",
      "_view_count": null,
      "_view_module": "@jupyter-widgets/controls",
      "_view_module_version": "1.5.0",
      "_view_name": "ProgressView",
      "bar_style": "success",
      "description": "",
      "description_tooltip": null,
      "layout": "IPY_MODEL_34d3c9c19bfa469f9f1f46ad4312c6ec",
      "max": 466247,
      "min": 0,
      "orientation": "horizontal",
      "style": "IPY_MODEL_5f29a32353f642e39372ac17a6adb6c3",
      "value": 466247
     }
    },
    "feda893ba90445a89c693c80d53a6e6c": {
     "model_module": "@jupyter-widgets/controls",
     "model_module_version": "1.5.0",
     "model_name": "DescriptionStyleModel",
     "state": {
      "_model_module": "@jupyter-widgets/controls",
      "_model_module_version": "1.5.0",
      "_model_name": "DescriptionStyleModel",
      "_view_count": null,
      "_view_module": "@jupyter-widgets/base",
      "_view_module_version": "1.2.0",
      "_view_name": "StyleView",
      "description_width": ""
     }
    }
   }
  }
 },
 "nbformat": 4,
 "nbformat_minor": 1
}
