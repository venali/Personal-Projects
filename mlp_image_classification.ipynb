{
 "cells": [
  {
   "cell_type": "markdown",
   "metadata": {
    "id": "gxanw-kB2hFx"
   },
   "source": [
    "# Image classification with modern MLP models\n",
    "\n",
    "**Author:** venali sonone<br>\n",
    "**Date created:** 2025/01/20<br>\n",
    "**Description:** Implementing the MLP-Mixer, FNet, and gMLP models for CIFAR-100 image classification."
   ]
  },
  {
   "cell_type": "markdown",
   "metadata": {
    "id": "RFk6eUy02hFz"
   },
   "source": [
    "## Introduction\n",
    "\n",
    "This example implements three modern attention-free, multi-layer perceptron (MLP) based models for image\n",
    "classification, demonstrated on the CIFAR-100 dataset:\n",
    "\n",
    "1. The [MLP-Mixer](https://arxiv.org/abs/2105.01601) model, by Ilya Tolstikhin et al., based on two types of MLPs.\n",
    "3. The [FNet](https://arxiv.org/abs/2105.03824) model, by James Lee-Thorp et al., based on unparameterized\n",
    "Fourier Transform.\n",
    "2. The [gMLP](https://arxiv.org/abs/2105.08050) model, by Hanxiao Liu et al., based on MLP with gating.\n",
    "\n",
    "The purpose of the example is not to compare between these models, as they might perform differently on\n",
    "different datasets with well-tuned hyperparameters. Rather, it is to show simple implementations of their\n",
    "main building blocks."
   ]
  },
  {
   "cell_type": "markdown",
   "metadata": {
    "id": "fxPQd4pa2hF0"
   },
   "source": [
    "## Setup"
   ]
  },
  {
   "cell_type": "code",
   "execution_count": null,
   "metadata": {
    "id": "GDEQp_Oy2hF1"
   },
   "outputs": [],
   "source": [
    "import numpy as np\n",
    "import keras\n",
    "from keras import layers"
   ]
  },
  {
   "cell_type": "markdown",
   "metadata": {
    "id": "1sipEUAr2hF2"
   },
   "source": [
    "## Prepare the data"
   ]
  },
  {
   "cell_type": "code",
   "execution_count": null,
   "metadata": {
    "id": "PUUga-ax2hF2"
   },
   "outputs": [],
   "source": [
    "num_classes = 100\n",
    "input_shape = (32, 32, 3)\n",
    "\n",
    "(x_train, y_train), (x_test, y_test) = keras.datasets.cifar100.load_data()\n",
    "\n",
    "print(f\"x_train shape: {x_train.shape} - y_train shape: {y_train.shape}\")\n",
    "print(f\"x_test shape: {x_test.shape} - y_test shape: {y_test.shape}\")"
   ]
  },
  {
   "cell_type": "markdown",
   "metadata": {
    "id": "xB_A4Zxa2hF2"
   },
   "source": [
    "## Configure the hyperparameters"
   ]
  },
  {
   "cell_type": "code",
   "execution_count": null,
   "metadata": {
    "id": "fFa9z-gm2hF3"
   },
   "outputs": [],
   "source": [
    "weight_decay = 0.0001\n",
    "batch_size = 128\n",
    "num_epochs = 1  # Recommended num_epochs = 50\n",
    "dropout_rate = 0.2\n",
    "image_size = 64  # We'll resize input images to this size.\n",
    "patch_size = 8  # Size of the patches to be extracted from the input images.\n",
    "num_patches = (image_size // patch_size) ** 2  # Size of the data array.\n",
    "embedding_dim = 256  # Number of hidden units.\n",
    "num_blocks = 4  # Number of blocks.\n",
    "\n",
    "print(f\"Image size: {image_size} X {image_size} = {image_size ** 2}\")\n",
    "print(f\"Patch size: {patch_size} X {patch_size} = {patch_size ** 2} \")\n",
    "print(f\"Patches per image: {num_patches}\")\n",
    "print(f\"Elements per patch (3 channels): {(patch_size ** 2) * 3}\")"
   ]
  },
  {
   "cell_type": "markdown",
   "metadata": {
    "id": "J7Yk8n8h2hF3"
   },
   "source": [
    "## Build a classification model\n",
    "\n",
    "We implement a method that builds a classifier given the processing blocks."
   ]
  },
  {
   "cell_type": "code",
   "execution_count": null,
   "metadata": {
    "id": "dvMhlcpO2hF3"
   },
   "outputs": [],
   "source": [
    "\n",
    "def build_classifier(blocks, positional_encoding=False):\n",
    "    inputs = layers.Input(shape=input_shape)\n",
    "    # Augment data.\n",
    "    augmented = data_augmentation(inputs)\n",
    "    # Create patches.\n",
    "    patches = Patches(patch_size)(augmented)\n",
    "    # Encode patches to generate a [batch_size, num_patches, embedding_dim] tensor.\n",
    "    x = layers.Dense(units=embedding_dim)(patches)\n",
    "    if positional_encoding:\n",
    "        x = x + PositionEmbedding(sequence_length=num_patches)(x)\n",
    "    # Process x using the module blocks.\n",
    "    x = blocks(x)\n",
    "    # Apply global average pooling to generate a [batch_size, embedding_dim] representation tensor.\n",
    "    representation = layers.GlobalAveragePooling1D()(x)\n",
    "    # Apply dropout.\n",
    "    representation = layers.Dropout(rate=dropout_rate)(representation)\n",
    "    # Compute logits outputs.\n",
    "    logits = layers.Dense(num_classes)(representation)\n",
    "    # Create the Keras model.\n",
    "    return keras.Model(inputs=inputs, outputs=logits)\n"
   ]
  },
  {
   "cell_type": "markdown",
   "metadata": {
    "id": "HeYdHbgU2hF3"
   },
   "source": [
    "## Define an experiment\n",
    "\n",
    "We implement a utility function to compile, train, and evaluate a given model."
   ]
  },
  {
   "cell_type": "code",
   "execution_count": null,
   "metadata": {
    "id": "SOhjHumU2hF4"
   },
   "outputs": [],
   "source": [
    "\n",
    "def run_experiment(model):\n",
    "    # Create Adam optimizer with weight decay.\n",
    "    optimizer = keras.optimizers.AdamW(\n",
    "        learning_rate=learning_rate,\n",
    "        weight_decay=weight_decay,\n",
    "    )\n",
    "    # Compile the model.\n",
    "    model.compile(\n",
    "        optimizer=optimizer,\n",
    "        loss=keras.losses.SparseCategoricalCrossentropy(from_logits=True),\n",
    "        metrics=[\n",
    "            keras.metrics.SparseCategoricalAccuracy(name=\"acc\"),\n",
    "            keras.metrics.SparseTopKCategoricalAccuracy(5, name=\"top5-acc\"),\n",
    "        ],\n",
    "    )\n",
    "    # Create a learning rate scheduler callback.\n",
    "    reduce_lr = keras.callbacks.ReduceLROnPlateau(\n",
    "        monitor=\"val_loss\", factor=0.5, patience=5\n",
    "    )\n",
    "    # Create an early stopping callback.\n",
    "    early_stopping = keras.callbacks.EarlyStopping(\n",
    "        monitor=\"val_loss\", patience=10, restore_best_weights=True\n",
    "    )\n",
    "    # Fit the model.\n",
    "    history = model.fit(\n",
    "        x=x_train,\n",
    "        y=y_train,\n",
    "        batch_size=batch_size,\n",
    "        epochs=num_epochs,\n",
    "        validation_split=0.1,\n",
    "        callbacks=[early_stopping, reduce_lr],\n",
    "    )\n",
    "\n",
    "    _, accuracy, top_5_accuracy = model.evaluate(x_test, y_test)\n",
    "    print(f\"Test accuracy: {round(accuracy * 100, 2)}%\")\n",
    "    print(f\"Test top 5 accuracy: {round(top_5_accuracy * 100, 2)}%\")\n",
    "\n",
    "    # Return history to plot learning curves.\n",
    "    return history\n"
   ]
  },
  {
   "cell_type": "markdown",
   "metadata": {
    "id": "ZJaSNIo92hF4"
   },
   "source": [
    "## Use data augmentation"
   ]
  },
  {
   "cell_type": "code",
   "execution_count": null,
   "metadata": {
    "id": "Ozeznwqs2hF4"
   },
   "outputs": [],
   "source": [
    "data_augmentation = keras.Sequential(\n",
    "    [\n",
    "        layers.Normalization(),\n",
    "        layers.Resizing(image_size, image_size),\n",
    "        layers.RandomFlip(\"horizontal\"),\n",
    "        layers.RandomZoom(height_factor=0.2, width_factor=0.2),\n",
    "    ],\n",
    "    name=\"data_augmentation\",\n",
    ")\n",
    "# Compute the mean and the variance of the training data for normalization.\n",
    "data_augmentation.layers[0].adapt(x_train)\n"
   ]
  },
  {
   "cell_type": "markdown",
   "metadata": {
    "id": "M5_P9xLs2hF4"
   },
   "source": [
    "## Implement patch extraction as a layer"
   ]
  },
  {
   "cell_type": "code",
   "execution_count": null,
   "metadata": {
    "id": "hhLjQbSF2hF4"
   },
   "outputs": [],
   "source": [
    "\n",
    "class Patches(layers.Layer):\n",
    "    def __init__(self, patch_size, **kwargs):\n",
    "        super().__init__(**kwargs)\n",
    "        self.patch_size = patch_size\n",
    "\n",
    "    def call(self, x):\n",
    "        patches = keras.ops.image.extract_patches(x, self.patch_size)\n",
    "        batch_size = keras.ops.shape(patches)[0]\n",
    "        num_patches = keras.ops.shape(patches)[1] * keras.ops.shape(patches)[2]\n",
    "        patch_dim = keras.ops.shape(patches)[3]\n",
    "        out = keras.ops.reshape(patches, (batch_size, num_patches, patch_dim))\n",
    "        return out\n"
   ]
  },
  {
   "cell_type": "markdown",
   "metadata": {
    "id": "OYsT3vLX2hF5"
   },
   "source": [
    "## Implement position embedding as a layer"
   ]
  },
  {
   "cell_type": "code",
   "execution_count": null,
   "metadata": {
    "id": "IdMtHmlv2hF5"
   },
   "outputs": [],
   "source": [
    "\n",
    "class PositionEmbedding(keras.layers.Layer):\n",
    "    def __init__(\n",
    "        self,\n",
    "        sequence_length,\n",
    "        initializer=\"glorot_uniform\",\n",
    "        **kwargs,\n",
    "    ):\n",
    "        super().__init__(**kwargs)\n",
    "        if sequence_length is None:\n",
    "            raise ValueError(\"`sequence_length` must be an Integer, received `None`.\")\n",
    "        self.sequence_length = int(sequence_length)\n",
    "        self.initializer = keras.initializers.get(initializer)\n",
    "\n",
    "    def get_config(self):\n",
    "        config = super().get_config()\n",
    "        config.update(\n",
    "            {\n",
    "                \"sequence_length\": self.sequence_length,\n",
    "                \"initializer\": keras.initializers.serialize(self.initializer),\n",
    "            }\n",
    "        )\n",
    "        return config\n",
    "\n",
    "    def build(self, input_shape):\n",
    "        feature_size = input_shape[-1]\n",
    "        self.position_embeddings = self.add_weight(\n",
    "            name=\"embeddings\",\n",
    "            shape=[self.sequence_length, feature_size],\n",
    "            initializer=self.initializer,\n",
    "            trainable=True,\n",
    "        )\n",
    "\n",
    "        super().build(input_shape)\n",
    "\n",
    "    def call(self, inputs, start_index=0):\n",
    "        shape = keras.ops.shape(inputs)\n",
    "        feature_length = shape[-1]\n",
    "        sequence_length = shape[-2]\n",
    "        # trim to match the length of the input sequence, which might be less\n",
    "        # than the sequence_length of the layer.\n",
    "        position_embeddings = keras.ops.convert_to_tensor(self.position_embeddings)\n",
    "        position_embeddings = keras.ops.slice(\n",
    "            position_embeddings,\n",
    "            (start_index, 0),\n",
    "            (sequence_length, feature_length),\n",
    "        )\n",
    "        return keras.ops.broadcast_to(position_embeddings, shape)\n",
    "\n",
    "    def compute_output_shape(self, input_shape):\n",
    "        return input_shape\n"
   ]
  },
  {
   "cell_type": "markdown",
   "metadata": {
    "id": "jt_qQUpt2hF5"
   },
   "source": [
    "## The MLP-Mixer model\n",
    "\n",
    "The MLP-Mixer is an architecture based exclusively on\n",
    "multi-layer perceptrons (MLPs), that contains two types of MLP layers:\n",
    "\n",
    "1. One applied independently to image patches, which mixes the per-location features.\n",
    "2. The other applied across patches (along channels), which mixes spatial information.\n",
    "\n",
    "This is similar to a [depthwise separable convolution based model](https://arxiv.org/abs/1610.02357)\n",
    "such as the Xception model, but with two chained dense transforms, no max pooling, and layer normalization\n",
    "instead of batch normalization."
   ]
  },
  {
   "cell_type": "markdown",
   "metadata": {
    "id": "67XyBzEu2hF5"
   },
   "source": [
    "### Implement the MLP-Mixer module"
   ]
  },
  {
   "cell_type": "code",
   "execution_count": null,
   "metadata": {
    "id": "XPOA68wk2hF5"
   },
   "outputs": [],
   "source": [
    "\n",
    "class MLPMixerLayer(layers.Layer):\n",
    "    def __init__(self, num_patches, hidden_units, dropout_rate, *args, **kwargs):\n",
    "        super().__init__(*args, **kwargs)\n",
    "\n",
    "        self.mlp1 = keras.Sequential(\n",
    "            [\n",
    "                layers.Dense(units=num_patches, activation=\"gelu\"),\n",
    "                layers.Dense(units=num_patches),\n",
    "                layers.Dropout(rate=dropout_rate),\n",
    "            ]\n",
    "        )\n",
    "        self.mlp2 = keras.Sequential(\n",
    "            [\n",
    "                layers.Dense(units=num_patches, activation=\"gelu\"),\n",
    "                layers.Dense(units=hidden_units),\n",
    "                layers.Dropout(rate=dropout_rate),\n",
    "            ]\n",
    "        )\n",
    "        self.normalize = layers.LayerNormalization(epsilon=1e-6)\n",
    "\n",
    "    def build(self, input_shape):\n",
    "        return super().build(input_shape)\n",
    "\n",
    "    def call(self, inputs):\n",
    "        # Apply layer normalization.\n",
    "        x = self.normalize(inputs)\n",
    "        # Transpose inputs from [num_batches, num_patches, hidden_units] to [num_batches, hidden_units, num_patches].\n",
    "        x_channels = keras.ops.transpose(x, axes=(0, 2, 1))\n",
    "        # Apply mlp1 on each channel independently.\n",
    "        mlp1_outputs = self.mlp1(x_channels)\n",
    "        # Transpose mlp1_outputs from [num_batches, hidden_dim, num_patches] to [num_batches, num_patches, hidden_units].\n",
    "        mlp1_outputs = keras.ops.transpose(mlp1_outputs, axes=(0, 2, 1))\n",
    "        # Add skip connection.\n",
    "        x = mlp1_outputs + inputs\n",
    "        # Apply layer normalization.\n",
    "        x_patches = self.normalize(x)\n",
    "        # Apply mlp2 on each patch independtenly.\n",
    "        mlp2_outputs = self.mlp2(x_patches)\n",
    "        # Add skip connection.\n",
    "        x = x + mlp2_outputs\n",
    "        return x\n"
   ]
  },
  {
   "cell_type": "markdown",
   "metadata": {
    "id": "hmSmsco32hF6"
   },
   "source": [
    "### Build, train, and evaluate the MLP-Mixer model\n",
    "\n",
    "Note that training the model with the current settings on a V100 GPUs\n",
    "takes around 8 seconds per epoch."
   ]
  },
  {
   "cell_type": "code",
   "execution_count": null,
   "metadata": {
    "id": "DUkDAIu02hF6"
   },
   "outputs": [],
   "source": [
    "mlpmixer_blocks = keras.Sequential(\n",
    "    [MLPMixerLayer(num_patches, embedding_dim, dropout_rate) for _ in range(num_blocks)]\n",
    ")\n",
    "learning_rate = 0.005\n",
    "mlpmixer_classifier = build_classifier(mlpmixer_blocks)\n",
    "history = run_experiment(mlpmixer_classifier)"
   ]
  },
  {
   "cell_type": "markdown",
   "metadata": {
    "id": "iKoKhyQy2hF6"
   },
   "source": [
    "The MLP-Mixer model tends to have much less number of parameters compared\n",
    "to convolutional and transformer-based models, which leads to less training and\n",
    "serving computational cost.\n",
    "\n",
    "As mentioned in the [MLP-Mixer](https://arxiv.org/abs/2105.01601) paper,\n",
    "when pre-trained on large datasets, or with modern regularization schemes,\n",
    "the MLP-Mixer attains competitive scores to state-of-the-art models.\n",
    "You can obtain better results by increasing the embedding dimensions,\n",
    "increasing the number of mixer blocks, and training the model for longer.\n",
    "You may also try to increase the size of the input images and use different patch sizes."
   ]
  },
  {
   "cell_type": "markdown",
   "metadata": {
    "id": "WUxcc9UL2hF6"
   },
   "source": [
    "## The FNet model\n",
    "\n",
    "The FNet uses a similar block to the Transformer block. However, FNet replaces the self-attention layer\n",
    "in the Transformer block with a parameter-free 2D Fourier transformation layer:\n",
    "\n",
    "1. One 1D Fourier Transform is applied along the patches.\n",
    "2. One 1D Fourier Transform is applied along the channels."
   ]
  },
  {
   "cell_type": "markdown",
   "metadata": {
    "id": "bWFwKSFA2hF6"
   },
   "source": [
    "### Implement the FNet module"
   ]
  },
  {
   "cell_type": "code",
   "execution_count": null,
   "metadata": {
    "id": "NU5WJK8k2hF7"
   },
   "outputs": [],
   "source": [
    "\n",
    "class FNetLayer(layers.Layer):\n",
    "    def __init__(self, embedding_dim, dropout_rate, *args, **kwargs):\n",
    "        super().__init__(*args, **kwargs)\n",
    "\n",
    "        self.ffn = keras.Sequential(\n",
    "            [\n",
    "                layers.Dense(units=embedding_dim, activation=\"gelu\"),\n",
    "                layers.Dropout(rate=dropout_rate),\n",
    "                layers.Dense(units=embedding_dim),\n",
    "            ]\n",
    "        )\n",
    "\n",
    "        self.normalize1 = layers.LayerNormalization(epsilon=1e-6)\n",
    "        self.normalize2 = layers.LayerNormalization(epsilon=1e-6)\n",
    "\n",
    "    def call(self, inputs):\n",
    "        # Apply fourier transformations.\n",
    "        real_part = inputs\n",
    "        im_part = keras.ops.zeros_like(inputs)\n",
    "        x = keras.ops.fft2((real_part, im_part))[0]\n",
    "        # Add skip connection.\n",
    "        x = x + inputs\n",
    "        # Apply layer normalization.\n",
    "        x = self.normalize1(x)\n",
    "        # Apply Feedfowrad network.\n",
    "        x_ffn = self.ffn(x)\n",
    "        # Add skip connection.\n",
    "        x = x + x_ffn\n",
    "        # Apply layer normalization.\n",
    "        return self.normalize2(x)\n"
   ]
  },
  {
   "cell_type": "markdown",
   "metadata": {
    "id": "TrIpnK0b2hF7"
   },
   "source": [
    "### Build, train, and evaluate the FNet model\n",
    "\n",
    "Note that training the model with the current settings on a V100 GPUs\n",
    "takes around 8 seconds per epoch."
   ]
  },
  {
   "cell_type": "code",
   "execution_count": null,
   "metadata": {
    "id": "FvAXETFf2hF7"
   },
   "outputs": [],
   "source": [
    "fnet_blocks = keras.Sequential(\n",
    "    [FNetLayer(embedding_dim, dropout_rate) for _ in range(num_blocks)]\n",
    ")\n",
    "learning_rate = 0.001\n",
    "fnet_classifier = build_classifier(fnet_blocks, positional_encoding=True)\n",
    "history = run_experiment(fnet_classifier)"
   ]
  },
  {
   "cell_type": "markdown",
   "metadata": {
    "id": "19KQNWW82hF7"
   },
   "source": [
    "As shown in the [FNet](https://arxiv.org/abs/2105.03824) paper,\n",
    "better results can be achieved by increasing the embedding dimensions,\n",
    "increasing the number of FNet blocks, and training the model for longer.\n",
    "You may also try to increase the size of the input images and use different patch sizes.\n",
    "The FNet scales very efficiently to long inputs, runs much faster than attention-based\n",
    "Transformer models, and produces competitive accuracy results."
   ]
  },
  {
   "cell_type": "markdown",
   "metadata": {
    "id": "MqzLO-NI2hF7"
   },
   "source": [
    "## The gMLP model\n",
    "\n",
    "The gMLP is a MLP architecture that features a Spatial Gating Unit (SGU).\n",
    "The SGU enables cross-patch interactions across the spatial (channel) dimension, by:\n",
    "\n",
    "1. Transforming the input spatially by applying linear projection across patches (along channels).\n",
    "2. Applying element-wise multiplication of the input and its spatial transformation."
   ]
  },
  {
   "cell_type": "markdown",
   "metadata": {
    "id": "me13jhlW2hF7"
   },
   "source": [
    "### Implement the gMLP module"
   ]
  },
  {
   "cell_type": "code",
   "execution_count": null,
   "metadata": {
    "id": "VvTAeICy2hF7"
   },
   "outputs": [],
   "source": [
    "\n",
    "class gMLPLayer(layers.Layer):\n",
    "    def __init__(self, num_patches, embedding_dim, dropout_rate, *args, **kwargs):\n",
    "        super().__init__(*args, **kwargs)\n",
    "\n",
    "        self.channel_projection1 = keras.Sequential(\n",
    "            [\n",
    "                layers.Dense(units=embedding_dim * 2, activation=\"gelu\"),\n",
    "                layers.Dropout(rate=dropout_rate),\n",
    "            ]\n",
    "        )\n",
    "\n",
    "        self.channel_projection2 = layers.Dense(units=embedding_dim)\n",
    "\n",
    "        self.spatial_projection = layers.Dense(\n",
    "            units=num_patches, bias_initializer=\"Ones\"\n",
    "        )\n",
    "\n",
    "        self.normalize1 = layers.LayerNormalization(epsilon=1e-6)\n",
    "        self.normalize2 = layers.LayerNormalization(epsilon=1e-6)\n",
    "\n",
    "    def spatial_gating_unit(self, x):\n",
    "        # Split x along the channel dimensions.\n",
    "        # Tensors u and v will in the shape of [batch_size, num_patchs, embedding_dim].\n",
    "        u, v = keras.ops.split(x, indices_or_sections=2, axis=2)\n",
    "        # Apply layer normalization.\n",
    "        v = self.normalize2(v)\n",
    "        # Apply spatial projection.\n",
    "        v_channels = keras.ops.transpose(v, axes=(0, 2, 1))\n",
    "        v_projected = self.spatial_projection(v_channels)\n",
    "        v_projected = keras.ops.transpose(v_projected, axes=(0, 2, 1))\n",
    "        # Apply element-wise multiplication.\n",
    "        return u * v_projected\n",
    "\n",
    "    def call(self, inputs):\n",
    "        # Apply layer normalization.\n",
    "        x = self.normalize1(inputs)\n",
    "        # Apply the first channel projection. x_projected shape: [batch_size, num_patches, embedding_dim * 2].\n",
    "        x_projected = self.channel_projection1(x)\n",
    "        # Apply the spatial gating unit. x_spatial shape: [batch_size, num_patches, embedding_dim].\n",
    "        x_spatial = self.spatial_gating_unit(x_projected)\n",
    "        # Apply the second channel projection. x_projected shape: [batch_size, num_patches, embedding_dim].\n",
    "        x_projected = self.channel_projection2(x_spatial)\n",
    "        # Add skip connection.\n",
    "        return x + x_projected\n"
   ]
  },
  {
   "cell_type": "markdown",
   "metadata": {
    "id": "ZYWgRtWU2hF8"
   },
   "source": [
    "### Build, train, and evaluate the gMLP model\n",
    "\n",
    "Note that training the model with the current settings on a V100 GPUs\n",
    "takes around 9 seconds per epoch."
   ]
  },
  {
   "cell_type": "code",
   "execution_count": null,
   "metadata": {
    "id": "ha3Nbx442hF8"
   },
   "outputs": [],
   "source": [
    "gmlp_blocks = keras.Sequential(\n",
    "    [gMLPLayer(num_patches, embedding_dim, dropout_rate) for _ in range(num_blocks)]\n",
    ")\n",
    "learning_rate = 0.003\n",
    "gmlp_classifier = build_classifier(gmlp_blocks)\n",
    "history = run_experiment(gmlp_classifier)"
   ]
  },
  {
   "cell_type": "markdown",
   "metadata": {
    "id": "_OOKeUKs2hF8"
   },
   "source": [
    "As shown in the [gMLP](https://arxiv.org/abs/2105.08050) paper,\n",
    "better results can be achieved by increasing the embedding dimensions,\n",
    "increasing the number of gMLP blocks, and training the model for longer.\n",
    "You may also try to increase the size of the input images and use different patch sizes.\n",
    "Note that, the paper used advanced regularization strategies, such as MixUp and CutMix,\n",
    "as well as AutoAugment."
   ]
  }
 ],
 "metadata": {
  "accelerator": "GPU",
  "colab": {
   "name": "mlp_image_classification",
   "provenance": [],
   "toc_visible": true
  },
  "kernelspec": {
   "display_name": "Python 3 (ipykernel)",
   "language": "python",
   "name": "python3"
  },
  "language_info": {
   "codemirror_mode": {
    "name": "ipython",
    "version": 3
   },
   "file_extension": ".py",
   "mimetype": "text/x-python",
   "name": "python",
   "nbconvert_exporter": "python",
   "pygments_lexer": "ipython3",
   "version": "3.9.7"
  }
 },
 "nbformat": 4,
 "nbformat_minor": 1
}
